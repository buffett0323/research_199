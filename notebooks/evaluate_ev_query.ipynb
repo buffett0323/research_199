{
 "cells": [
  {
   "cell_type": "code",
   "execution_count": 52,
   "metadata": {
    "collapsed": true,
    "ExecuteTime": {
     "end_time": "2024-04-07T18:09:55.262505417Z",
     "start_time": "2024-04-07T18:09:55.238138747Z"
    }
   },
   "outputs": [],
   "source": [
    "from functools import partial\n",
    "from itertools import chain\n",
    "\n",
    "import librosa.effects\n",
    "import numpy as np\n",
    "import pandas as pd\n",
    "import soundfile as sf\n",
    "\n",
    "import os\n",
    "\n",
    "from ipywidgets import Audio\n",
    "from matplotlib import pyplot as plt\n",
    "from tqdm.contrib.concurrent import process_map\n",
    "from tqdm.notebook import tqdm\n",
    "\n",
    "import librosa"
   ]
  },
  {
   "cell_type": "code",
   "execution_count": 53,
   "outputs": [],
   "source": [
    "INFERENCE_ROOT = \"/home/kwatchar3/Documents/data/moisesdb/\"\n",
    "STEM_SETUP = \"everything\"\n",
    "GROUND_TRUTH_ROOT = \"/home/kwatchar3/Documents/data/moisesdb\""
   ],
   "metadata": {
    "collapsed": false,
    "ExecuteTime": {
     "end_time": "2024-04-07T18:09:55.276227686Z",
     "start_time": "2024-04-07T18:09:55.241103057Z"
    }
   }
  },
  {
   "cell_type": "code",
   "execution_count": 54,
   "outputs": [],
   "source": [
    "variants = [\n",
    "    \"ev-d-pre\",\n",
    "    \"ev-d-prefz\",\n",
    "    \"ev-d-pre-aug\",\n",
    "    # \"ev-d-pre-bal\",\n",
    "    \"ev-d-prefz-bal\",\n",
    "    # \"ev-d-pre-aug-bal\",\n",
    "]\n",
    "\n"
   ],
   "metadata": {
    "collapsed": false,
    "ExecuteTime": {
     "end_time": "2024-04-07T18:09:55.290492644Z",
     "start_time": "2024-04-07T18:09:55.287801631Z"
    }
   }
  },
  {
   "cell_type": "code",
   "execution_count": 55,
   "outputs": [],
   "source": [
    "gt_files = os.listdir(os.path.join(GROUND_TRUTH_ROOT, \"npy2\"))"
   ],
   "metadata": {
    "collapsed": false,
    "ExecuteTime": {
     "end_time": "2024-04-07T18:09:55.290636194Z",
     "start_time": "2024-04-07T18:09:55.287910216Z"
    }
   }
  },
  {
   "cell_type": "code",
   "execution_count": 56,
   "outputs": [],
   "source": [
    "def snr(gt, est):\n",
    "    return 10 * np.log10(np.sum(np.square(gt)) / np.sum(np.square(gt - est)))"
   ],
   "metadata": {
    "collapsed": false,
    "ExecuteTime": {
     "end_time": "2024-04-07T18:09:55.290665865Z",
     "start_time": "2024-04-07T18:09:55.287944410Z"
    }
   }
  },
  {
   "cell_type": "code",
   "execution_count": 57,
   "outputs": [],
   "source": [
    "variants = [\n",
    "    \"ev-d-pre\",\n",
    "    \"ev-d-prefz\",\n",
    "    \"ev-d-pre-gaug\",\n",
    "    # \"ev-d-pre-aug\",\n",
    "    \"ev-d-pre-bal\",\n",
    "    \"ev-d-prefz-bal\",\n",
    "    # \"ev-d-pre-bal\",\n",
    "    # \"ev-d-pre-aug-bal\",\n",
    "]\n",
    "\n"
   ],
   "metadata": {
    "collapsed": false,
    "ExecuteTime": {
     "end_time": "2024-04-07T18:09:55.290684765Z",
     "start_time": "2024-04-07T18:09:55.287972470Z"
    }
   }
  },
  {
   "cell_type": "code",
   "execution_count": 202,
   "outputs": [],
   "source": [
    "allowed_stems = [\n",
    "      \"lead_female_singer\",\n",
    "      \"lead_male_singer\",\n",
    "      \"background_vocals\",\n",
    "      \"drums\",\n",
    "      \"bass_guitar\",\n",
    "      \"bass_synthesizer\",\n",
    "      \"acoustic_guitar\",\n",
    "      \"clean_electric_guitar\",\n",
    "      \"distorted_electric_guitar\",\n",
    "      \"grand_piano\",\n",
    "      \"electric_piano\",\n",
    "      \"pitched_percussion\",\n",
    "      \"organ_electric_organ\",\n",
    "      \"string_section\",\n",
    "      \"other_strings\",\n",
    "      \"brass\",\n",
    "      \"reeds\",\n",
    "      \"other_wind\",\n",
    "      \"synth_pad\",\n",
    "      \"synth_lead\",\n",
    "      \"other_plucked\",\n",
    "      \"fx\",\n",
    "  ]"
   ],
   "metadata": {
    "collapsed": false,
    "ExecuteTime": {
     "end_time": "2024-04-07T19:04:40.813323534Z",
     "start_time": "2024-04-07T19:04:40.798630523Z"
    }
   }
  },
  {
   "cell_type": "code",
   "execution_count": 59,
   "outputs": [],
   "source": [
    "def get_results_for_song(inputs):\n",
    "\n",
    "    song_name, inference_mode, variant = inputs\n",
    "\n",
    "    stems = os.listdir(os.path.join(INFERENCE_ROOT, inference_mode, STEM_SETUP, variant, \"audio\", song_name))\n",
    "    stems = [s.replace(\".wav\", \"\") for s in stems]\n",
    "\n",
    "    results = []\n",
    "\n",
    "    for stem in stems:\n",
    "        if stem not in allowed_stems:\n",
    "            continue\n",
    "\n",
    "        audio_est, sr = sf.read(os.path.join(INFERENCE_ROOT, inference_mode, STEM_SETUP, variant, \"audio\", song_name, f\"{stem}.wav\"))\n",
    "        audio_est = audio_est.T\n",
    "\n",
    "        npy_path = os.path.join(GROUND_TRUTH_ROOT, \"npy2\", song_name, f\"{stem}.npy\")\n",
    "        if os.path.exists(npy_path):\n",
    "            audio = np.load(npy_path, mmap_mode=\"r\")\n",
    "        else:\n",
    "            print(\"!!!!!!!!!!!!!!!!!!!!!!!!!!!!!!!!!!!!!!!!!!!!!!!!!!!!!!!\")\n",
    "            print(f\"Ground truth not found for {song_name}/{stem}. Using zeros.\")\n",
    "            print(\"!!!!!!!!!!!!!!!!!!!!!!!!!!!!!!!!!!!!!!!!!!!!!!!!!!!!!!!\")\n",
    "            audio = np.zeros_like(audio_est)\n",
    "\n",
    "        snr_full = snr(audio, audio_est)\n",
    "\n",
    "        target_dbrms = 10 * np.log10(\n",
    "            np.mean(np.square(audio))\n",
    "        )\n",
    "\n",
    "        est_dbrms = 10 * np.log10(\n",
    "            np.mean(np.square(audio_est))\n",
    "        )\n",
    "\n",
    "        results.append({\n",
    "            \"song\": song_name,\n",
    "            \"stem\": stem,\n",
    "            \"snr\": snr_full,\n",
    "            \"target_dbrms\": target_dbrms,\n",
    "            \"est_dbrms\": est_dbrms,\n",
    "            \"dbdiff\": est_dbrms - target_dbrms,\n",
    "            \"variant\": variant,\n",
    "            \"inference_mode\": inference_mode,\n",
    "        })\n",
    "\n",
    "    return results\n",
    "\n"
   ],
   "metadata": {
    "collapsed": false,
    "ExecuteTime": {
     "end_time": "2024-04-07T18:09:55.290720245Z",
     "start_time": "2024-04-07T18:09:55.288030424Z"
    }
   }
  },
  {
   "cell_type": "code",
   "execution_count": 60,
   "outputs": [
    {
     "name": "stdout",
     "output_type": "stream",
     "text": [
      "Processing ev-d-pre...\n"
     ]
    },
    {
     "data": {
      "text/plain": "  0%|          | 0/48 [00:00<?, ?it/s]",
      "application/vnd.jupyter.widget-view+json": {
       "version_major": 2,
       "version_minor": 0,
       "model_id": "d143625739af4d6db55836b6c8e3d64f"
      }
     },
     "metadata": {},
     "output_type": "display_data"
    },
    {
     "name": "stdout",
     "output_type": "stream",
     "text": [
      "Processing ev-d-prefz...\n"
     ]
    },
    {
     "data": {
      "text/plain": "  0%|          | 0/48 [00:00<?, ?it/s]",
      "application/vnd.jupyter.widget-view+json": {
       "version_major": 2,
       "version_minor": 0,
       "model_id": "53e6948e5bf240cfb5f22aa9e6689ebe"
      }
     },
     "metadata": {},
     "output_type": "display_data"
    },
    {
     "name": "stdout",
     "output_type": "stream",
     "text": [
      "Processing ev-d-pre-gaug...\n"
     ]
    },
    {
     "data": {
      "text/plain": "  0%|          | 0/48 [00:00<?, ?it/s]",
      "application/vnd.jupyter.widget-view+json": {
       "version_major": 2,
       "version_minor": 0,
       "model_id": "81c1012706144b3f861432a3e54824fe"
      }
     },
     "metadata": {},
     "output_type": "display_data"
    },
    {
     "name": "stdout",
     "output_type": "stream",
     "text": [
      "Processing ev-d-pre-bal...\n"
     ]
    },
    {
     "data": {
      "text/plain": "  0%|          | 0/48 [00:00<?, ?it/s]",
      "application/vnd.jupyter.widget-view+json": {
       "version_major": 2,
       "version_minor": 0,
       "model_id": "df9ea8f761f149e7868fec19dc10ee7c"
      }
     },
     "metadata": {},
     "output_type": "display_data"
    },
    {
     "name": "stdout",
     "output_type": "stream",
     "text": [
      "Processing ev-d-prefz-bal...\n"
     ]
    },
    {
     "data": {
      "text/plain": "  0%|          | 0/48 [00:00<?, ?it/s]",
      "application/vnd.jupyter.widget-view+json": {
       "version_major": 2,
       "version_minor": 0,
       "model_id": "9b4d68b0745a4e40b8b0a7b979da23e0"
      }
     },
     "metadata": {},
     "output_type": "display_data"
    },
    {
     "name": "stdout",
     "output_type": "stream",
     "text": [
      "Processing ev-d-pre...\n"
     ]
    },
    {
     "data": {
      "text/plain": "  0%|          | 0/48 [00:00<?, ?it/s]",
      "application/vnd.jupyter.widget-view+json": {
       "version_major": 2,
       "version_minor": 0,
       "model_id": "a04c50669c054792ab3dbf66a9b453bd"
      }
     },
     "metadata": {},
     "output_type": "display_data"
    },
    {
     "name": "stdout",
     "output_type": "stream",
     "text": [
      "Processing ev-d-prefz...\n"
     ]
    },
    {
     "data": {
      "text/plain": "  0%|          | 0/48 [00:00<?, ?it/s]",
      "application/vnd.jupyter.widget-view+json": {
       "version_major": 2,
       "version_minor": 0,
       "model_id": "72ad48db3d8a40779387fc1ff988da0e"
      }
     },
     "metadata": {},
     "output_type": "display_data"
    },
    {
     "name": "stdout",
     "output_type": "stream",
     "text": [
      "Processing ev-d-pre-gaug...\n"
     ]
    },
    {
     "data": {
      "text/plain": "  0%|          | 0/48 [00:00<?, ?it/s]",
      "application/vnd.jupyter.widget-view+json": {
       "version_major": 2,
       "version_minor": 0,
       "model_id": "8c24499ca0814e2784406abdc88050e7"
      }
     },
     "metadata": {},
     "output_type": "display_data"
    },
    {
     "name": "stdout",
     "output_type": "stream",
     "text": [
      "Processing ev-d-pre-bal...\n"
     ]
    },
    {
     "data": {
      "text/plain": "  0%|          | 0/48 [00:00<?, ?it/s]",
      "application/vnd.jupyter.widget-view+json": {
       "version_major": 2,
       "version_minor": 0,
       "model_id": "d420af779c11447e92ff6bb28ba7c7ff"
      }
     },
     "metadata": {},
     "output_type": "display_data"
    },
    {
     "name": "stdout",
     "output_type": "stream",
     "text": [
      "Processing ev-d-prefz-bal...\n"
     ]
    },
    {
     "data": {
      "text/plain": "  0%|          | 0/48 [00:00<?, ?it/s]",
      "application/vnd.jupyter.widget-view+json": {
       "version_major": 2,
       "version_minor": 0,
       "model_id": "c20a05b1eda04fb98a83c27fcdfc68c5"
      }
     },
     "metadata": {},
     "output_type": "display_data"
    }
   ],
   "source": [
    "\n",
    "df = []\n",
    "\n",
    "for inference_mode in [\"inference-d\", \"inference-o\"]:\n",
    "\n",
    "    for v in variants:\n",
    "        print(f\"Processing {v}...\")\n",
    "\n",
    "        test_files = os.listdir(os.path.join(INFERENCE_ROOT, inference_mode, STEM_SETUP, v, \"audio\"))\n",
    "\n",
    "        # for song in tqdm(test_files):\n",
    "        #     results = get_results_for_song(song, inference_mode, v)\n",
    "        #     df.extend(results)\n",
    "\n",
    "        inputs = [(song, inference_mode, v) for song in test_files]\n",
    "\n",
    "        results = process_map(get_results_for_song, inputs, max_workers=16)\n",
    "        results = list(chain(*results))\n",
    "\n",
    "        df.extend(results)\n",
    "\n",
    "\n",
    "df = pd.DataFrame(df)"
   ],
   "metadata": {
    "collapsed": false,
    "ExecuteTime": {
     "end_time": "2024-04-07T18:16:13.114238337Z",
     "start_time": "2024-04-07T18:09:55.288105730Z"
    }
   }
  },
  {
   "cell_type": "markdown",
   "source": [],
   "metadata": {
    "collapsed": false
   }
  },
  {
   "cell_type": "code",
   "execution_count": 61,
   "outputs": [
    {
     "data": {
      "text/plain": "                                      song                       stem  \\\n0     704f1de9-1d02-4c2b-af05-107a7700a51d                bass_guitar   \n1     704f1de9-1d02-4c2b-af05-107a7700a51d                      drums   \n2     704f1de9-1d02-4c2b-af05-107a7700a51d            acoustic_guitar   \n3     704f1de9-1d02-4c2b-af05-107a7700a51d           lead_male_singer   \n4     704f1de9-1d02-4c2b-af05-107a7700a51d          background_vocals   \n...                                    ...                        ...   \n3005  1f98fe4d-26c7-460f-9f68-33964bc4d8d3  distorted_electric_guitar   \n3006  1f98fe4d-26c7-460f-9f68-33964bc4d8d3                bass_guitar   \n3007  1f98fe4d-26c7-460f-9f68-33964bc4d8d3                      drums   \n3008  1f98fe4d-26c7-460f-9f68-33964bc4d8d3           lead_male_singer   \n3009  1f98fe4d-26c7-460f-9f68-33964bc4d8d3          background_vocals   \n\n            snr  target_dbrms  est_dbrms    dbdiff         variant  \\\n0      8.722601    -26.048121 -26.535334 -0.487212        ev-d-pre   \n1     11.773505    -26.920614 -27.213932 -0.293317        ev-d-pre   \n2      1.481413    -34.269612 -38.385900 -4.116288        ev-d-pre   \n3      7.242387    -33.209226 -33.590568 -0.381341        ev-d-pre   \n4      2.027336    -39.184458 -42.853760 -3.669302        ev-d-pre   \n...         ...           ...        ...       ...             ...   \n3005   3.586968    -34.654398 -37.656161 -3.001763  ev-d-prefz-bal   \n3006   8.265368    -35.536811 -35.707326 -0.170515  ev-d-prefz-bal   \n3007  10.185577    -32.542546 -33.214525 -0.671979  ev-d-prefz-bal   \n3008   0.828639    -40.648432 -39.721159  0.927273  ev-d-prefz-bal   \n3009   1.465834    -35.692558 -44.616198 -8.923640  ev-d-prefz-bal   \n\n     inference_mode  \n0       inference-d  \n1       inference-d  \n2       inference-d  \n3       inference-d  \n4       inference-d  \n...             ...  \n3005    inference-o  \n3006    inference-o  \n3007    inference-o  \n3008    inference-o  \n3009    inference-o  \n\n[3010 rows x 8 columns]",
      "text/html": "<div>\n<style scoped>\n    .dataframe tbody tr th:only-of-type {\n        vertical-align: middle;\n    }\n\n    .dataframe tbody tr th {\n        vertical-align: top;\n    }\n\n    .dataframe thead th {\n        text-align: right;\n    }\n</style>\n<table border=\"1\" class=\"dataframe\">\n  <thead>\n    <tr style=\"text-align: right;\">\n      <th></th>\n      <th>song</th>\n      <th>stem</th>\n      <th>snr</th>\n      <th>target_dbrms</th>\n      <th>est_dbrms</th>\n      <th>dbdiff</th>\n      <th>variant</th>\n      <th>inference_mode</th>\n    </tr>\n  </thead>\n  <tbody>\n    <tr>\n      <th>0</th>\n      <td>704f1de9-1d02-4c2b-af05-107a7700a51d</td>\n      <td>bass_guitar</td>\n      <td>8.722601</td>\n      <td>-26.048121</td>\n      <td>-26.535334</td>\n      <td>-0.487212</td>\n      <td>ev-d-pre</td>\n      <td>inference-d</td>\n    </tr>\n    <tr>\n      <th>1</th>\n      <td>704f1de9-1d02-4c2b-af05-107a7700a51d</td>\n      <td>drums</td>\n      <td>11.773505</td>\n      <td>-26.920614</td>\n      <td>-27.213932</td>\n      <td>-0.293317</td>\n      <td>ev-d-pre</td>\n      <td>inference-d</td>\n    </tr>\n    <tr>\n      <th>2</th>\n      <td>704f1de9-1d02-4c2b-af05-107a7700a51d</td>\n      <td>acoustic_guitar</td>\n      <td>1.481413</td>\n      <td>-34.269612</td>\n      <td>-38.385900</td>\n      <td>-4.116288</td>\n      <td>ev-d-pre</td>\n      <td>inference-d</td>\n    </tr>\n    <tr>\n      <th>3</th>\n      <td>704f1de9-1d02-4c2b-af05-107a7700a51d</td>\n      <td>lead_male_singer</td>\n      <td>7.242387</td>\n      <td>-33.209226</td>\n      <td>-33.590568</td>\n      <td>-0.381341</td>\n      <td>ev-d-pre</td>\n      <td>inference-d</td>\n    </tr>\n    <tr>\n      <th>4</th>\n      <td>704f1de9-1d02-4c2b-af05-107a7700a51d</td>\n      <td>background_vocals</td>\n      <td>2.027336</td>\n      <td>-39.184458</td>\n      <td>-42.853760</td>\n      <td>-3.669302</td>\n      <td>ev-d-pre</td>\n      <td>inference-d</td>\n    </tr>\n    <tr>\n      <th>...</th>\n      <td>...</td>\n      <td>...</td>\n      <td>...</td>\n      <td>...</td>\n      <td>...</td>\n      <td>...</td>\n      <td>...</td>\n      <td>...</td>\n    </tr>\n    <tr>\n      <th>3005</th>\n      <td>1f98fe4d-26c7-460f-9f68-33964bc4d8d3</td>\n      <td>distorted_electric_guitar</td>\n      <td>3.586968</td>\n      <td>-34.654398</td>\n      <td>-37.656161</td>\n      <td>-3.001763</td>\n      <td>ev-d-prefz-bal</td>\n      <td>inference-o</td>\n    </tr>\n    <tr>\n      <th>3006</th>\n      <td>1f98fe4d-26c7-460f-9f68-33964bc4d8d3</td>\n      <td>bass_guitar</td>\n      <td>8.265368</td>\n      <td>-35.536811</td>\n      <td>-35.707326</td>\n      <td>-0.170515</td>\n      <td>ev-d-prefz-bal</td>\n      <td>inference-o</td>\n    </tr>\n    <tr>\n      <th>3007</th>\n      <td>1f98fe4d-26c7-460f-9f68-33964bc4d8d3</td>\n      <td>drums</td>\n      <td>10.185577</td>\n      <td>-32.542546</td>\n      <td>-33.214525</td>\n      <td>-0.671979</td>\n      <td>ev-d-prefz-bal</td>\n      <td>inference-o</td>\n    </tr>\n    <tr>\n      <th>3008</th>\n      <td>1f98fe4d-26c7-460f-9f68-33964bc4d8d3</td>\n      <td>lead_male_singer</td>\n      <td>0.828639</td>\n      <td>-40.648432</td>\n      <td>-39.721159</td>\n      <td>0.927273</td>\n      <td>ev-d-prefz-bal</td>\n      <td>inference-o</td>\n    </tr>\n    <tr>\n      <th>3009</th>\n      <td>1f98fe4d-26c7-460f-9f68-33964bc4d8d3</td>\n      <td>background_vocals</td>\n      <td>1.465834</td>\n      <td>-35.692558</td>\n      <td>-44.616198</td>\n      <td>-8.923640</td>\n      <td>ev-d-prefz-bal</td>\n      <td>inference-o</td>\n    </tr>\n  </tbody>\n</table>\n<p>3010 rows × 8 columns</p>\n</div>"
     },
     "execution_count": 61,
     "metadata": {},
     "output_type": "execute_result"
    }
   ],
   "source": [
    "df"
   ],
   "metadata": {
    "collapsed": false,
    "ExecuteTime": {
     "end_time": "2024-04-07T18:16:13.168128523Z",
     "start_time": "2024-04-07T18:16:13.124195570Z"
    }
   }
  },
  {
   "cell_type": "code",
   "execution_count": 62,
   "outputs": [],
   "source": [
    "df[\"snr\"] = df[\"snr\"].replace(-np.inf, np.nan)"
   ],
   "metadata": {
    "collapsed": false,
    "ExecuteTime": {
     "end_time": "2024-04-07T18:16:13.168224753Z",
     "start_time": "2024-04-07T18:16:13.167849825Z"
    }
   }
  },
  {
   "cell_type": "code",
   "execution_count": 149,
   "outputs": [],
   "source": [
    "df.to_csv(os.path.join(INFERENCE_ROOT, \"bandit_ev.csv\"), index=False)"
   ],
   "metadata": {
    "collapsed": false,
    "ExecuteTime": {
     "end_time": "2024-04-07T18:53:52.871807984Z",
     "start_time": "2024-04-07T18:53:52.827394747Z"
    }
   }
  },
  {
   "cell_type": "code",
   "execution_count": 274,
   "outputs": [],
   "source": [
    "short_stems = {\n",
    "    \"lead_female_singer\": \"Female Vox\",\n",
    "     'lead_male_singer': \"Male Vox\",\n",
    "     'drums': \"Drums\",\n",
    "     'bass_guitar': \"Bass Gtr.\",\n",
    "     'acoustic_guitar': \"Acoustic Gtr.\",\n",
    "     'clean_electric_guitar': \"Clean E. Gtr.\",\n",
    "     'distorted_electric_guitar': \"Distorted E. Gtr.\",\n",
    "     'grand_piano': \"Grand Piano\",\n",
    "     'electric_piano': \"E. Piano\",\n",
    "     'pitched_percussion': \"Pitched Perc.\",\n",
    "     'organ_electric_organ': \"Organ & E. Organ\",\n",
    "     'string_section': \"String Section\",\n",
    "     'other_strings': \"O. Str.\",\n",
    "     'brass': \"Brass\",\n",
    "     'reeds': \"Reeds\",\n",
    "     'other_wind': \"O. Wind\",\n",
    "     'synth_pad': \"Synth Pad\",\n",
    "     'synth_lead': \"Synth Lead\",\n",
    "     'other_plucked': \"O Pluck\",\n",
    "     'background_vocals': \"Background Vox\",\n",
    "     'bass_synthesizer': \"Bass Synth\",\n",
    "     'fx': \"Fx.\",\n",
    "}"
   ],
   "metadata": {
    "collapsed": false,
    "ExecuteTime": {
     "end_time": "2024-04-07T19:23:36.764320378Z",
     "start_time": "2024-04-07T19:23:36.761680932Z"
    }
   }
  },
  {
   "cell_type": "code",
   "execution_count": 307,
   "outputs": [],
   "source": [
    "df = pd.read_csv(os.path.join(INFERENCE_ROOT, \"bandit_ev.csv\"))\n",
    "\n",
    "stem_dtype = pd.CategoricalDtype(categories=allowed_stems, ordered=True)\n",
    "df[\"stem\"] = df[\"stem\"].astype(stem_dtype)\n",
    "\n",
    "bool_dtype = pd.CategoricalDtype(categories=[\"Y\", \"N\"], ordered=True)\n",
    "ibool_dtype = pd.CategoricalDtype(categories=[\"N\", \"Y\"], ordered=True)\n",
    "\n",
    "df[\"is_frozen\"] = df[\"variant\"].str.contains(\"prefz\").apply(lambda x: \"Y\" if x else \"N\").astype(bool_dtype)\n",
    "df[\"is_balanced\"] = df[\"variant\"].str.contains(\"bal\").apply(lambda x: \"Y\" if x else \"N\").astype(ibool_dtype)\n",
    "df[\"is_augmented\"] = df[\"variant\"].str.contains(\"aug\").apply(lambda x: \"Y\" if x else \"N\").astype(ibool_dtype)\n",
    "df[\"query_same\"] = df[\"inference_mode\"].str.contains(\"-o\").apply(lambda x: \"same\" if x else \"diff.\")\n",
    "\n",
    "scount = df[\"stem\"].value_counts()"
   ],
   "metadata": {
    "collapsed": false,
    "ExecuteTime": {
     "end_time": "2024-04-07T20:36:36.293284207Z",
     "start_time": "2024-04-07T20:36:36.278470153Z"
    }
   }
  },
  {
   "cell_type": "code",
   "execution_count": 204,
   "outputs": [],
   "source": [
    "import seaborn as sns"
   ],
   "metadata": {
    "collapsed": false,
    "ExecuteTime": {
     "end_time": "2024-04-07T19:04:56.275273439Z",
     "start_time": "2024-04-07T19:04:56.263442829Z"
    }
   }
  },
  {
   "cell_type": "code",
   "execution_count": 308,
   "outputs": [],
   "source": [
    "def clean_variant(s):\n",
    "\n",
    "    out = []\n",
    "\n",
    "    if \"fz\" in s:\n",
    "        out.append(\"FE\")\n",
    "    else:\n",
    "        out.append(\"TE\")\n",
    "\n",
    "    if \"aug\" in s:\n",
    "        out.append(\"DA\")\n",
    "\n",
    "    if \"bal\" in s:\n",
    "        out.append(\"BS\")\n",
    "\n",
    "    return \"+\".join(out)\n",
    "\n",
    "observed_stems = [\n",
    "    s for s in scount.index if scount[s] > 0\n",
    "]\n",
    "\n",
    "observed_stems = [s for s in allowed_stems if s in observed_stems]\n",
    "\n",
    "observed_stems_dtype = pd.CategoricalDtype(categories=observed_stems, ordered=True)\n",
    "\n",
    "df[\"stem\"] = df[\"stem\"].astype(observed_stems_dtype)\n",
    "df[\"short_stem\"] = df[\"stem\"].map(short_stems)\n",
    "df[\"variant\"] = df[\"variant\"].apply(clean_variant)\n",
    "\n",
    "variants = sorted(df[\"variant\"].unique().tolist())\n",
    "variants_dtype = pd.CategoricalDtype(categories=variants, ordered=True)\n",
    "df[\"variant\"] = df[\"variant\"].astype(variants_dtype)\n",
    "\n",
    "# df = df[df[\"query_same\"] == \"diff.\"]\n",
    "df = df[df[\"query_same\"] == \"same\"]\n"
   ],
   "metadata": {
    "collapsed": false,
    "ExecuteTime": {
     "end_time": "2024-04-07T20:36:38.533138192Z",
     "start_time": "2024-04-07T20:36:38.531243277Z"
    }
   }
  },
  {
   "cell_type": "code",
   "execution_count": 311,
   "outputs": [
    {
     "data": {
      "text/plain": "<Figure size 450x500 with 1 Axes>",
      "image/png": "[encoded data removed]"
     },
     "metadata": {},
     "output_type": "display_data"
    }
   ],
   "source": [
    "f, ax = plt.subplots(1, 1, figsize=(4.5, 5))\n",
    "\n",
    "sns.boxplot(data=df,\n",
    "            y=\"short_stem\",\n",
    "            x=\"snr\",\n",
    "            hue=\"variant\",\n",
    "            palette=\"colorblind\",\n",
    "            notch=True,\n",
    "            showfliers=True,\n",
    "            fliersize=1,\n",
    "            flierprops=dict(marker='.'),\n",
    "            ax=ax,\n",
    "            )\n",
    "\n",
    "\n",
    "ax.set_xlabel(\"SNR (dB)\", fontsize=8, labelpad=-10)\n",
    "ax.set_ylabel(\"\")\n",
    "ax.tick_params(axis='y', labelsize=8, pad=-10)\n",
    "ax.tick_params(axis='x', labelsize=8, pad=0)\n",
    "ax.xaxis.set_label_position('top')\n",
    "\n",
    "major_xtick = np.arange(-8, 8.1, 2)\n",
    "ax.set_xticks(major_xtick)\n",
    "\n",
    "minor_xtick = np.arange(-10, 10, 1)\n",
    "ax.set_xticks(minor_xtick, minor=True)\n",
    "\n",
    "ax.grid(which='minor', axis='x', linestyle='--')\n",
    "\n",
    "for label in ax.get_yticklabels():\n",
    "    label.set_fontsize(8)\n",
    "    label.set_horizontalalignment('left')\n",
    "\n",
    "plt.tight_layout()\n",
    "\n",
    "ax.set(xlim=(-10, 10))\n",
    "\n",
    "plt.savefig(\"bandit_ev_snr_same.pdf\")\n",
    "\n",
    "plt.show()\n"
   ],
   "metadata": {
    "collapsed": false,
    "ExecuteTime": {
     "end_time": "2024-04-07T20:36:56.462281291Z",
     "start_time": "2024-04-07T20:36:55.456034654Z"
    }
   }
  },
  {
   "cell_type": "code",
   "execution_count": 322,
   "outputs": [
    {
     "data": {
      "text/plain": "<Figure size 640x480 with 1 Axes>",
      "image/png": "[encoded data removed]"
     },
     "metadata": {},
     "output_type": "display_data"
    }
   ],
   "source": [
    "sns.scatterplot(\n",
    "    df[df.variant == \"FE+BS\"],\n",
    "    y=\"snr\",\n",
    "    x=\"target_dbrms\",\n",
    ")\n",
    "\n",
    "# rotate x-axis labels\n",
    "plt.xticks(rotation=90)\n",
    "\n",
    "plt.show()"
   ],
   "metadata": {
    "collapsed": false,
    "ExecuteTime": {
     "end_time": "2024-04-08T03:18:20.854291629Z",
     "start_time": "2024-04-08T03:18:20.773397164Z"
    }
   }
  },
  {
   "cell_type": "code",
   "execution_count": 329,
   "outputs": [
    {
     "name": "stderr",
     "output_type": "stream",
     "text": [
      "/tmp/ipykernel_1544437/3885472021.py:1: FutureWarning: The default of observed=False is deprecated and will be changed to True in a future version of pandas. Pass observed=False to retain current behavior or observed=True to adopt the future default and silence this warning.\n",
      "  kendall_tau = df.groupby([\"variant\"]).apply(lambda x: x[\"snr\"].corr(x[\"target_dbrms\"], method=\"spearman\"))\n"
     ]
    },
    {
     "data": {
      "text/plain": "variant\nFE       0.795029\nFE+BS    0.813281\nTE       0.795789\nTE+BS    0.812633\nTE+DA    0.780357\ndtype: float64"
     },
     "execution_count": 329,
     "metadata": {},
     "output_type": "execute_result"
    }
   ],
   "source": [
    "kendall_tau = df.groupby([\"variant\"]).apply(lambda x: x[\"snr\"].corr(x[\"target_dbrms\"], method=\"spearman\"))\n",
    "\n",
    "kendall_tau.sort_index()"
   ],
   "metadata": {
    "collapsed": false,
    "ExecuteTime": {
     "end_time": "2024-04-08T03:19:53.576024519Z",
     "start_time": "2024-04-08T03:19:53.535714356Z"
    }
   }
  },
  {
   "cell_type": "code",
   "execution_count": 191,
   "outputs": [],
   "source": [
    "extra_stems = [\n",
    " 'background_vocals',\n",
    " 'bass_synthesizer',\n",
    " 'pitched_percussion',\n",
    " 'organ_electric_organ',\n",
    " 'string_section',\n",
    " # 'other_strings',\n",
    " 'brass',\n",
    " 'reeds',\n",
    " # 'other_wind',\n",
    " 'synth_pad',\n",
    " 'synth_lead',\n",
    " # 'other_plucked',\n",
    " 'fx'\n",
    "]\n",
    "\n",
    "extra_stems1 = [\n",
    " 'background_vocals',\n",
    " 'bass_synthesizer',\n",
    " 'pitched_percussion',\n",
    " 'organ_electric_organ',\n",
    " 'string_section',\n",
    "]\n",
    "\n",
    "extra_stems2 = [\n",
    " 'brass',\n",
    " 'reeds',\n",
    " 'synth_pad',\n",
    " 'synth_lead',\n",
    "    'fx',\n",
    " # 'other_strings',\n",
    " # 'other_wind',\n",
    " # 'other_plucked',\n",
    "]\n",
    "\n",
    "old_stems = [s for s in allowed_stems if s not in extra_stems]\n",
    "\n",
    "extra_stems1_dtype = pd.CategoricalDtype(categories=extra_stems1, ordered=True)\n",
    "extra_stems2_dtype = pd.CategoricalDtype(categories=extra_stems2, ordered=True)\n"
   ],
   "metadata": {
    "collapsed": false,
    "ExecuteTime": {
     "end_time": "2024-04-07T19:03:00.368229931Z",
     "start_time": "2024-04-07T19:03:00.365692140Z"
    }
   }
  },
  {
   "cell_type": "code",
   "execution_count": 170,
   "outputs": [
    {
     "name": "stderr",
     "output_type": "stream",
     "text": [
      "/tmp/ipykernel_1544437/1112056648.py:10: FutureWarning: The default of observed=False is deprecated and will be changed to True in a future version of pandas. Pass observed=False to retain current behavior or observed=True to adopt the future default and silence this warning.\n",
      "  dfagg = df.groupby([\n",
      "/tmp/ipykernel_1544437/1112056648.py:18: FutureWarning: The default of observed=False is deprecated and will be changed to True in a future version of pandas. Pass observed=False to retain current behavior or observed=True to adopt the future default and silence this warning.\n",
      "  dfagg_ = df.groupby([\n"
     ]
    }
   ],
   "source": [
    "def q25(x):\n",
    "    return x.quantile(0.25)\n",
    "\n",
    "def q75(x):\n",
    "    return x.quantile(0.75)\n",
    "\n",
    "def q50(x):\n",
    "    return x.quantile(0.5)\n",
    "\n",
    "dfagg = df.groupby([\n",
    "    \"is_frozen\",\n",
    "    \"is_augmented\",\n",
    "    \"is_balanced\",\n",
    "    \"query_same\",\n",
    "    \"stem\"\n",
    "]).agg({\"snr\": [q25, q50, q75]})\n",
    "\n",
    "dfagg_ = df.groupby([\n",
    "    \"is_frozen\",\n",
    "    \"is_augmented\",\n",
    "    \"is_balanced\",\n",
    "    \"query_same\",\n",
    "    \"stem\"\n",
    "]).agg({\"dbdiff\": [q50]})\n",
    "\n",
    "dfagg.columns = [\"q25\", \"q50\", \"q75\"]\n",
    "dfagg = dfagg.reset_index()\n",
    "\n",
    "dfagg_.columns = [\"dbdiff\"]\n",
    "dfagg_ = dfagg_.reset_index()\n",
    "\n",
    "dfagg = dfagg.merge(dfagg_, on=[\"is_frozen\", \"is_augmented\", \"is_balanced\", \"query_same\", \"stem\"])\n",
    "\n",
    "\n",
    "\n"
   ],
   "metadata": {
    "collapsed": false,
    "ExecuteTime": {
     "end_time": "2024-04-07T18:59:06.675382195Z",
     "start_time": "2024-04-07T18:59:06.563863632Z"
    }
   }
  },
  {
   "cell_type": "code",
   "execution_count": 171,
   "outputs": [
    {
     "data": {
      "text/plain": "['lead_female_singer',\n 'lead_male_singer',\n 'drums',\n 'bass_guitar',\n 'acoustic_guitar',\n 'clean_electric_guitar',\n 'distorted_electric_guitar',\n 'grand_piano',\n 'electric_piano',\n 'pitched_percussion',\n 'organ_electric_organ',\n 'string_section',\n 'other_strings',\n 'brass',\n 'reeds',\n 'other_wind',\n 'synth_pad',\n 'synth_lead',\n 'other_plucked',\n 'background_vocals',\n 'bass_synthesizer',\n 'fx']"
     },
     "execution_count": 171,
     "metadata": {},
     "output_type": "execute_result"
    }
   ],
   "source": [
    "dfagg[\"stem\"].unique().tolist()"
   ],
   "metadata": {
    "collapsed": false,
    "ExecuteTime": {
     "end_time": "2024-04-07T18:59:06.678922412Z",
     "start_time": "2024-04-07T18:59:06.677677204Z"
    }
   }
  },
  {
   "cell_type": "code",
   "execution_count": 172,
   "outputs": [],
   "source": [
    "def df_to_string(dfagg):\n",
    "    dfagg[\"stem\"] = dfagg[\"stem\"].map(short_stems)\n",
    "\n",
    "    dfagg = dfagg[dfagg[\"query_same\"] == \"same\"]\n",
    "\n",
    "    dfagg = dfagg.reset_index().pivot_table(\n",
    "        index=[\"is_frozen\", \"is_augmented\", \"is_balanced\"],\n",
    "        columns=\"stem\",\n",
    "        values=[\"q25\", \"q50\", \"q75\", \"dbdiff\"]\n",
    "    )\n",
    "\n",
    "    dfagg = dfagg.swaplevel(axis=1).sort_index(axis=1)\n",
    "    dfagg_max = dfagg.max(axis=0)\n",
    "\n",
    "\n",
    "    def bold_formatter(x, val):\n",
    "        if round(x, 1) == round(val, 1):\n",
    "            return r\"\\bfseries \" + f\"{x:.1f}\"\n",
    "        return f\"{x:.1f}\"\n",
    "\n",
    "    formatters = {\n",
    "        (c, d): partial(bold_formatter, val=dfagg_max.loc[c, d])\n",
    "        for c, d in dfagg.columns\n",
    "    }\n",
    "\n",
    "    str_ = dfagg.to_latex(\n",
    "        formatters=formatters,\n",
    "        sparsify=True,\n",
    "        multirow=False,\n",
    "    ).replace(\"_\", \" \")\n",
    "\n",
    "    return str_, dfagg\n"
   ],
   "metadata": {
    "collapsed": false,
    "ExecuteTime": {
     "end_time": "2024-04-07T18:59:06.739394077Z",
     "start_time": "2024-04-07T18:59:06.680179407Z"
    }
   }
  },
  {
   "cell_type": "code",
   "execution_count": 173,
   "outputs": [
    {
     "name": "stderr",
     "output_type": "stream",
     "text": [
      "/tmp/ipykernel_1544437/2659099969.py:6: SettingWithCopyWarning: \n",
      "A value is trying to be set on a copy of a slice from a DataFrame.\n",
      "Try using .loc[row_indexer,col_indexer] = value instead\n",
      "\n",
      "See the caveats in the documentation: https://pandas.pydata.org/pandas-docs/stable/user_guide/indexing.html#returning-a-view-versus-a-copy\n",
      "  dfagg1[\"stem\"] = dfagg1[\"stem\"].astype(extra_stems1_dtype)\n",
      "/tmp/ipykernel_1544437/2659099969.py:7: SettingWithCopyWarning: \n",
      "A value is trying to be set on a copy of a slice from a DataFrame.\n",
      "Try using .loc[row_indexer,col_indexer] = value instead\n",
      "\n",
      "See the caveats in the documentation: https://pandas.pydata.org/pandas-docs/stable/user_guide/indexing.html#returning-a-view-versus-a-copy\n",
      "  dfagg2[\"stem\"] = dfagg2[\"stem\"].astype(extra_stems2_dtype)\n",
      "/tmp/ipykernel_1544437/2659099969.py:8: SettingWithCopyWarning: \n",
      "A value is trying to be set on a copy of a slice from a DataFrame.\n",
      "Try using .loc[row_indexer,col_indexer] = value instead\n",
      "\n",
      "See the caveats in the documentation: https://pandas.pydata.org/pandas-docs/stable/user_guide/indexing.html#returning-a-view-versus-a-copy\n",
      "  dfaggb[\"stem\"] = dfaggb[\"stem\"].astype(stem_dtype)\n",
      "/tmp/ipykernel_1544437/2734607517.py:2: SettingWithCopyWarning: \n",
      "A value is trying to be set on a copy of a slice from a DataFrame.\n",
      "Try using .loc[row_indexer,col_indexer] = value instead\n",
      "\n",
      "See the caveats in the documentation: https://pandas.pydata.org/pandas-docs/stable/user_guide/indexing.html#returning-a-view-versus-a-copy\n",
      "  dfagg[\"stem\"] = dfagg[\"stem\"].map(short_stems)\n",
      "/tmp/ipykernel_1544437/2734607517.py:2: SettingWithCopyWarning: \n",
      "A value is trying to be set on a copy of a slice from a DataFrame.\n",
      "Try using .loc[row_indexer,col_indexer] = value instead\n",
      "\n",
      "See the caveats in the documentation: https://pandas.pydata.org/pandas-docs/stable/user_guide/indexing.html#returning-a-view-versus-a-copy\n",
      "  dfagg[\"stem\"] = dfagg[\"stem\"].map(short_stems)\n",
      "/tmp/ipykernel_1544437/2734607517.py:2: SettingWithCopyWarning: \n",
      "A value is trying to be set on a copy of a slice from a DataFrame.\n",
      "Try using .loc[row_indexer,col_indexer] = value instead\n",
      "\n",
      "See the caveats in the documentation: https://pandas.pydata.org/pandas-docs/stable/user_guide/indexing.html#returning-a-view-versus-a-copy\n",
      "  dfagg[\"stem\"] = dfagg[\"stem\"].map(short_stems)\n"
     ]
    }
   ],
   "source": [
    "dfagg1 = dfagg[dfagg[\"stem\"].isin(extra_stems1)]\n",
    "dfagg2 = dfagg[dfagg[\"stem\"].isin(extra_stems2)]\n",
    "\n",
    "dfaggb = dfagg[dfagg[\"stem\"].isin(old_stems)]\n",
    "\n",
    "dfagg1[\"stem\"] = dfagg1[\"stem\"].astype(extra_stems1_dtype)\n",
    "dfagg2[\"stem\"] = dfagg2[\"stem\"].astype(extra_stems2_dtype)\n",
    "dfaggb[\"stem\"] = dfaggb[\"stem\"].astype(stem_dtype)\n",
    "\n",
    "\n",
    "str1, dfagg1 = df_to_string(dfagg1)\n",
    "str2, dfagg2 = df_to_string(dfagg2)\n",
    "\n",
    "str3, dfaggb = df_to_string(dfaggb)\n",
    "\n",
    "str_all, dfagg_all = df_to_string(dfagg)"
   ],
   "metadata": {
    "collapsed": false,
    "ExecuteTime": {
     "end_time": "2024-04-07T18:59:06.793683284Z",
     "start_time": "2024-04-07T18:59:06.740246347Z"
    }
   }
  },
  {
   "cell_type": "code",
   "execution_count": 174,
   "outputs": [
    {
     "name": "stdout",
     "output_type": "stream",
     "text": [
      "\\begin{tabular}{lllrrrrrrrrrrrrrrrrrrrr}\n",
      "\\toprule\n",
      " &  & stem & \\multicolumn{4}{r}{Bg Vox} & \\multicolumn{4}{r}{B Synth} & \\multicolumn{4}{r}{P Perc} & \\multicolumn{4}{r}{Org} & \\multicolumn{4}{r}{Str Sec} \\\\\n",
      " &  &  & dbdiff & q25 & q50 & q75 & dbdiff & q25 & q50 & q75 & dbdiff & q25 & q50 & q75 & dbdiff & q25 & q50 & q75 & dbdiff & q25 & q50 & q75 \\\\\n",
      "is frozen & is augmented & is balanced &  &  &  &  &  &  &  &  &  &  &  &  &  &  &  &  &  &  &  &  \\\\\n",
      "\\midrule\n",
      "Y & N & N & -4.9 & 0.0 & 0.8 & 1.5 & \\bfseries 0.3 & -4.2 & \\bfseries -0.0 & 0.1 & -8.7 & -1.0 & -0.6 & -0.1 & -47.3 & \\bfseries 0.0 & 0.0 & 0.0 & -52.4 & \\bfseries -0.0 & \\bfseries 0.0 & 0.0 \\\\\n",
      " &  & Y & -5.2 & \\bfseries 0.1 & 0.6 & 1.4 & -1.0 & \\bfseries -1.2 & -0.1 & \\bfseries 0.4 & \\bfseries -2.7 & \\bfseries -0.1 & \\bfseries 0.8 & \\bfseries 1.7 & -9.2 & -0.1 & 0.2 & 0.3 & -9.3 & -0.6 & -0.1 & -0.0 \\\\\n",
      "N & N & N & \\bfseries -3.1 & -0.3 & \\bfseries 1.2 & \\bfseries 2.1 & 0.1 & -4.2 & -2.8 & -0.1 & -2.9 & -1.3 & -0.3 & 0.6 & \\bfseries -4.3 & -0.4 & \\bfseries 0.4 & \\bfseries 1.1 & -17.4 & -0.6 & \\bfseries -0.0 & \\bfseries 0.1 \\\\\n",
      " &  & Y & -16.5 & -0.7 & 0.0 & 0.0 & -1.2 & -3.2 & -0.5 & -0.1 & -8.9 & -0.8 & -0.5 & -0.2 & -9.2 & -0.2 & 0.0 & 0.3 & \\bfseries -6.7 & -1.1 & -0.4 & \\bfseries 0.1 \\\\\n",
      " & Y & N & -16.6 & 0.0 & 0.0 & 0.2 & 0.1 & -4.2 & -0.1 & 0.2 & -5.9 & -1.2 & -0.5 & 0.1 & -35.8 & \\bfseries -0.0 & 0.0 & 0.0 & -53.9 & \\bfseries 0.0 & \\bfseries 0.0 & 0.0 \\\\\n",
      "\\bottomrule\n",
      "\\end{tabular}\n",
      "\n"
     ]
    }
   ],
   "source": [
    "print(str1)"
   ],
   "metadata": {
    "collapsed": false,
    "ExecuteTime": {
     "end_time": "2024-04-07T18:59:06.828069947Z",
     "start_time": "2024-04-07T18:59:06.785713924Z"
    }
   }
  },
  {
   "cell_type": "code",
   "execution_count": 175,
   "outputs": [
    {
     "name": "stdout",
     "output_type": "stream",
     "text": [
      "\\begin{tabular}{lllrrrrrrrrrrrrrrrrrrrr}\n",
      "\\toprule\n",
      " &  & stem & \\multicolumn{4}{r}{Brass} & \\multicolumn{4}{r}{Reeds} & \\multicolumn{4}{r}{Pad} & \\multicolumn{4}{r}{Lead} & \\multicolumn{4}{r}{Fx} \\\\\n",
      " &  &  & dbdiff & q25 & q50 & q75 & dbdiff & q25 & q50 & q75 & dbdiff & q25 & q50 & q75 & dbdiff & q25 & q50 & q75 & dbdiff & q25 & q50 & q75 \\\\\n",
      "is frozen & is augmented & is balanced &  &  &  &  &  &  &  &  &  &  &  &  &  &  &  &  &  &  &  &  \\\\\n",
      "\\midrule\n",
      "Y & N & N & -33.5 & 0.0 & 0.0 & 0.0 & -29.3 & 0.0 & 0.0 & 0.1 & -45.4 & \\bfseries 0.0 & \\bfseries 0.0 & 0.0 & -18.3 & \\bfseries 0.0 & \\bfseries 0.1 & \\bfseries 0.1 & -27.7 & \\bfseries -0.0 & \\bfseries -0.0 & -0.0 \\\\\n",
      " &  & Y & -11.9 & -0.2 & \\bfseries 0.1 & \\bfseries 0.2 & \\bfseries -5.5 & \\bfseries 1.2 & \\bfseries 1.5 & 1.6 & -6.0 & -1.0 & -0.1 & 0.1 & -13.0 & -0.1 & -0.0 & \\bfseries 0.1 & \\bfseries -15.3 & -0.1 & \\bfseries 0.0 & \\bfseries 0.2 \\\\\n",
      "N & N & N & -14.7 & \\bfseries 0.1 & \\bfseries 0.1 & \\bfseries 0.2 & -7.9 & 0.7 & 1.3 & \\bfseries 1.7 & \\bfseries -5.2 & -1.5 & -0.2 & \\bfseries 0.4 & \\bfseries -4.6 & -1.7 & -0.4 & \\bfseries 0.1 & -16.2 & -1.0 & -0.2 & -0.0 \\\\\n",
      " &  & Y & \\bfseries -4.7 & -0.9 & -0.7 & -0.1 & -9.1 & 0.2 & 0.8 & 0.9 & -9.7 & -0.5 & \\bfseries -0.0 & 0.1 & -8.7 & -0.7 & -0.2 & \\bfseries 0.1 & -27.5 & -0.1 & \\bfseries -0.0 & 0.0 \\\\\n",
      " & Y & N & -48.9 & 0.0 & 0.0 & 0.0 & -55.3 & 0.0 & 0.0 & 0.0 & -37.0 & \\bfseries -0.0 & \\bfseries 0.0 & 0.0 & -10.3 & -0.7 & 0.0 & 0.0 & -17.1 & -1.0 & -0.2 & -0.0 \\\\\n",
      "\\bottomrule\n",
      "\\end{tabular}\n",
      "\n"
     ]
    }
   ],
   "source": [
    "\n",
    "\n",
    "print(str2)"
   ],
   "metadata": {
    "collapsed": false,
    "ExecuteTime": {
     "end_time": "2024-04-07T18:59:06.828194940Z",
     "start_time": "2024-04-07T18:59:06.827818623Z"
    }
   }
  },
  {
   "cell_type": "code",
   "execution_count": 176,
   "outputs": [
    {
     "name": "stdout",
     "output_type": "stream",
     "text": [
      "\\begin{tabular}{lllrrrrrrrrrrrrrrrrrrrrrrrrrrrrrrrrrrrr}\n",
      "\\toprule\n",
      " &  & stem & \\multicolumn{4}{r}{F Vox} & \\multicolumn{4}{r}{M Vox} & \\multicolumn{4}{r}{Dr} & \\multicolumn{4}{r}{B Gtr} & \\multicolumn{4}{r}{A Gtr} & \\multicolumn{4}{r}{C E Gtr} & \\multicolumn{4}{r}{D E Gtr} & \\multicolumn{4}{r}{G Pno} & \\multicolumn{4}{r}{E Pno} \\\\\n",
      " &  &  & dbdiff & q25 & q50 & q75 & dbdiff & q25 & q50 & q75 & dbdiff & q25 & q50 & q75 & dbdiff & q25 & q50 & q75 & dbdiff & q25 & q50 & q75 & dbdiff & q25 & q50 & q75 & dbdiff & q25 & q50 & q75 & dbdiff & q25 & q50 & q75 & dbdiff & q25 & q50 & q75 \\\\\n",
      "is frozen & is augmented & is balanced &  &  &  &  &  &  &  &  &  &  &  &  &  &  &  &  &  &  &  &  &  &  &  &  &  &  &  &  &  &  &  &  &  &  &  &  \\\\\n",
      "\\midrule\n",
      "Y & N & N & \\bfseries -0.2 & \\bfseries 7.4 & 9.7 & 12.8 & \\bfseries -0.6 & 6.6 & 7.4 & 9.8 & \\bfseries -0.5 & 8.2 & 9.8 & 11.8 & -0.2 & 8.0 & 10.2 & 11.9 & -4.2 & 0.4 & 1.4 & 2.5 & -5.4 & 0.0 & \\bfseries 0.9 & 1.8 & -2.5 & 0.5 & 2.5 & 4.5 & -5.3 & -0.1 & 0.9 & 2.1 & -11.0 & 0.2 & 0.4 & 0.6 \\\\\n",
      " &  & Y & -0.5 & 6.3 & 9.2 & 12.3 & -0.8 & 5.4 & 7.1 & 8.9 & -0.6 & 7.8 & 9.0 & 11.0 & -0.3 & 7.6 & 10.0 & 11.3 & -4.1 & 0.5 & 1.4 & 2.4 & -6.9 & \\bfseries 0.1 & 0.4 & 1.6 & -3.0 & 0.4 & 2.2 & 4.0 & -4.6 & -1.4 & 0.8 & 2.0 & -8.2 & \\bfseries 0.3 & 0.5 & 0.7 \\\\\n",
      "N & N & N & -0.3 & 6.3 & 9.6 & 12.9 & -0.7 & 6.5 & \\bfseries 7.9 & 9.9 & \\bfseries -0.5 & 7.8 & 9.3 & 11.8 & \\bfseries -0.1 & 7.9 & 9.8 & 11.8 & \\bfseries -3.0 & 1.0 & 1.7 & 3.6 & \\bfseries -3.1 & -0.1 & 0.6 & 2.4 & \\bfseries -1.3 & \\bfseries 0.7 & \\bfseries 2.7 & \\bfseries 4.7 & -2.9 & \\bfseries 0.7 & \\bfseries 2.4 & 3.1 & \\bfseries -5.5 & -0.8 & \\bfseries 0.8 & \\bfseries 1.7 \\\\\n",
      " &  & Y & -0.8 & 4.3 & 5.6 & 9.1 & -1.9 & 2.8 & 4.7 & 5.8 & -1.1 & 4.9 & 6.3 & 7.8 & -0.8 & 6.0 & 6.8 & 8.2 & -4.2 & 0.2 & 0.5 & 1.8 & -5.2 & -0.3 & 0.2 & 1.5 & -2.6 & -0.7 & 1.4 & 2.2 & -4.9 & 0.2 & 0.5 & 1.7 & -9.8 & -0.0 & 0.3 & 0.4 \\\\\n",
      " & Y & N & -0.3 & 5.0 & \\bfseries 10.1 & \\bfseries 13.2 & \\bfseries -0.6 & \\bfseries 7.0 & 7.8 & \\bfseries 10.2 & \\bfseries -0.5 & \\bfseries 8.4 & \\bfseries 10.1 & \\bfseries 12.2 & -0.3 & \\bfseries 8.5 & \\bfseries 10.8 & \\bfseries 12.9 & -4.5 & \\bfseries 1.1 & \\bfseries 1.9 & \\bfseries 3.9 & -4.1 & -0.0 & 0.6 & \\bfseries 2.7 & -1.4 & \\bfseries 0.7 & \\bfseries 2.7 & \\bfseries 4.7 & \\bfseries -2.7 & 0.6 & \\bfseries 2.4 & \\bfseries 3.4 & -8.3 & \\bfseries 0.3 & 0.5 & 1.3 \\\\\n",
      "\\bottomrule\n",
      "\\end{tabular}\n",
      "\n"
     ]
    }
   ],
   "source": [
    "\n",
    "\n",
    "print(str3)"
   ],
   "metadata": {
    "collapsed": false,
    "ExecuteTime": {
     "end_time": "2024-04-07T18:59:06.828238344Z",
     "start_time": "2024-04-07T18:59:06.827890698Z"
    }
   }
  },
  {
   "cell_type": "code",
   "execution_count": 177,
   "outputs": [
    {
     "data": {
      "text/plain": "stem                                F Vox                   M Vox            \\\n                                   dbdiff  q25   q50   q75 dbdiff  q25  q50   \nis_frozen is_augmented is_balanced                                            \nY         N            N             -0.2  7.4   9.7  12.8   -0.6  6.6  7.4   \n                       Y             -0.5  6.3   9.2  12.3   -0.8  5.4  7.1   \nN         N            N             -0.3  6.3   9.6  12.9   -0.7  6.5  7.9   \n                       Y             -0.8  4.3   5.6   9.1   -1.9  2.8  4.7   \n          Y            N             -0.3  5.0  10.1  13.2   -0.6  7.0  7.8   \n\nstem                                         Dr       ... Bg Vox      B Synth  \\\n                                     q75 dbdiff  q25  ...    q50  q75  dbdiff   \nis_frozen is_augmented is_balanced                    ...                       \nY         N            N             9.8   -0.5  8.2  ...    0.8  1.5     0.3   \n                       Y             8.9   -0.6  7.8  ...    0.6  1.4    -1.0   \nN         N            N             9.9   -0.5  7.8  ...    1.2  2.1     0.1   \n                       Y             5.8   -1.1  4.9  ...    0.0  0.0    -1.2   \n          Y            N            10.2   -0.5  8.4  ...    0.0  0.2     0.1   \n\nstem                                                  Fx                 \n                                    q25  q50  q75 dbdiff  q25  q50  q75  \nis_frozen is_augmented is_balanced                                       \nY         N            N           -4.2 -0.0  0.1  -27.7 -0.0 -0.0 -0.0  \n                       Y           -1.2 -0.1  0.4  -15.3 -0.1  0.0  0.2  \nN         N            N           -4.2 -2.8 -0.1  -16.2 -1.0 -0.2 -0.0  \n                       Y           -3.2 -0.5 -0.1  -27.5 -0.1 -0.0  0.0  \n          Y            N           -4.2 -0.1  0.2  -17.1 -1.0 -0.2 -0.0  \n\n[5 rows x 76 columns]",
      "text/html": "<div>\n<style scoped>\n    .dataframe tbody tr th:only-of-type {\n        vertical-align: middle;\n    }\n\n    .dataframe tbody tr th {\n        vertical-align: top;\n    }\n\n    .dataframe thead tr th {\n        text-align: left;\n    }\n\n    .dataframe thead tr:last-of-type th {\n        text-align: right;\n    }\n</style>\n<table border=\"1\" class=\"dataframe\">\n  <thead>\n    <tr>\n      <th></th>\n      <th></th>\n      <th>stem</th>\n      <th colspan=\"4\" halign=\"left\">F Vox</th>\n      <th colspan=\"4\" halign=\"left\">M Vox</th>\n      <th colspan=\"2\" halign=\"left\">Dr</th>\n      <th>...</th>\n      <th colspan=\"2\" halign=\"left\">Bg Vox</th>\n      <th colspan=\"4\" halign=\"left\">B Synth</th>\n      <th colspan=\"4\" halign=\"left\">Fx</th>\n    </tr>\n    <tr>\n      <th></th>\n      <th></th>\n      <th></th>\n      <th>dbdiff</th>\n      <th>q25</th>\n      <th>q50</th>\n      <th>q75</th>\n      <th>dbdiff</th>\n      <th>q25</th>\n      <th>q50</th>\n      <th>q75</th>\n      <th>dbdiff</th>\n      <th>q25</th>\n      <th>...</th>\n      <th>q50</th>\n      <th>q75</th>\n      <th>dbdiff</th>\n      <th>q25</th>\n      <th>q50</th>\n      <th>q75</th>\n      <th>dbdiff</th>\n      <th>q25</th>\n      <th>q50</th>\n      <th>q75</th>\n    </tr>\n    <tr>\n      <th>is_frozen</th>\n      <th>is_augmented</th>\n      <th>is_balanced</th>\n      <th></th>\n      <th></th>\n      <th></th>\n      <th></th>\n      <th></th>\n      <th></th>\n      <th></th>\n      <th></th>\n      <th></th>\n      <th></th>\n      <th></th>\n      <th></th>\n      <th></th>\n      <th></th>\n      <th></th>\n      <th></th>\n      <th></th>\n      <th></th>\n      <th></th>\n      <th></th>\n      <th></th>\n    </tr>\n  </thead>\n  <tbody>\n    <tr>\n      <th rowspan=\"2\" valign=\"top\">Y</th>\n      <th rowspan=\"2\" valign=\"top\">N</th>\n      <th>N</th>\n      <td>-0.2</td>\n      <td>7.4</td>\n      <td>9.7</td>\n      <td>12.8</td>\n      <td>-0.6</td>\n      <td>6.6</td>\n      <td>7.4</td>\n      <td>9.8</td>\n      <td>-0.5</td>\n      <td>8.2</td>\n      <td>...</td>\n      <td>0.8</td>\n      <td>1.5</td>\n      <td>0.3</td>\n      <td>-4.2</td>\n      <td>-0.0</td>\n      <td>0.1</td>\n      <td>-27.7</td>\n      <td>-0.0</td>\n      <td>-0.0</td>\n      <td>-0.0</td>\n    </tr>\n    <tr>\n      <th>Y</th>\n      <td>-0.5</td>\n      <td>6.3</td>\n      <td>9.2</td>\n      <td>12.3</td>\n      <td>-0.8</td>\n      <td>5.4</td>\n      <td>7.1</td>\n      <td>8.9</td>\n      <td>-0.6</td>\n      <td>7.8</td>\n      <td>...</td>\n      <td>0.6</td>\n      <td>1.4</td>\n      <td>-1.0</td>\n      <td>-1.2</td>\n      <td>-0.1</td>\n      <td>0.4</td>\n      <td>-15.3</td>\n      <td>-0.1</td>\n      <td>0.0</td>\n      <td>0.2</td>\n    </tr>\n    <tr>\n      <th rowspan=\"3\" valign=\"top\">N</th>\n      <th rowspan=\"2\" valign=\"top\">N</th>\n      <th>N</th>\n      <td>-0.3</td>\n      <td>6.3</td>\n      <td>9.6</td>\n      <td>12.9</td>\n      <td>-0.7</td>\n      <td>6.5</td>\n      <td>7.9</td>\n      <td>9.9</td>\n      <td>-0.5</td>\n      <td>7.8</td>\n      <td>...</td>\n      <td>1.2</td>\n      <td>2.1</td>\n      <td>0.1</td>\n      <td>-4.2</td>\n      <td>-2.8</td>\n      <td>-0.1</td>\n      <td>-16.2</td>\n      <td>-1.0</td>\n      <td>-0.2</td>\n      <td>-0.0</td>\n    </tr>\n    <tr>\n      <th>Y</th>\n      <td>-0.8</td>\n      <td>4.3</td>\n      <td>5.6</td>\n      <td>9.1</td>\n      <td>-1.9</td>\n      <td>2.8</td>\n      <td>4.7</td>\n      <td>5.8</td>\n      <td>-1.1</td>\n      <td>4.9</td>\n      <td>...</td>\n      <td>0.0</td>\n      <td>0.0</td>\n      <td>-1.2</td>\n      <td>-3.2</td>\n      <td>-0.5</td>\n      <td>-0.1</td>\n      <td>-27.5</td>\n      <td>-0.1</td>\n      <td>-0.0</td>\n      <td>0.0</td>\n    </tr>\n    <tr>\n      <th>Y</th>\n      <th>N</th>\n      <td>-0.3</td>\n      <td>5.0</td>\n      <td>10.1</td>\n      <td>13.2</td>\n      <td>-0.6</td>\n      <td>7.0</td>\n      <td>7.8</td>\n      <td>10.2</td>\n      <td>-0.5</td>\n      <td>8.4</td>\n      <td>...</td>\n      <td>0.0</td>\n      <td>0.2</td>\n      <td>0.1</td>\n      <td>-4.2</td>\n      <td>-0.1</td>\n      <td>0.2</td>\n      <td>-17.1</td>\n      <td>-1.0</td>\n      <td>-0.2</td>\n      <td>-0.0</td>\n    </tr>\n  </tbody>\n</table>\n<p>5 rows × 76 columns</p>\n</div>"
     },
     "execution_count": 177,
     "metadata": {},
     "output_type": "execute_result"
    }
   ],
   "source": [
    "dfagg_all.round(1)"
   ],
   "metadata": {
    "collapsed": false,
    "ExecuteTime": {
     "end_time": "2024-04-07T18:59:06.828311943Z",
     "start_time": "2024-04-07T18:59:06.828027674Z"
    }
   }
  },
  {
   "cell_type": "code",
   "execution_count": 178,
   "outputs": [
    {
     "data": {
      "text/plain": "stem                                    Brass                                \\\n                                       dbdiff       q25       q50       q75   \nis_frozen is_augmented is_balanced                                            \nY         N            N           -33.467715  0.000225  0.006392  0.013072   \n                       Y           -11.865765 -0.185544  0.082487  0.166017   \nN         N            N           -14.710728  0.051918  0.066017  0.210708   \n                       Y            -4.652514 -0.865638 -0.715481 -0.093257   \n          Y            N           -48.855884  0.000048  0.000195  0.001232   \n\nstem                                    Reeds                                \\\n                                       dbdiff       q25       q50       q75   \nis_frozen is_augmented is_balanced                                            \nY         N            N           -29.272843  0.012787  0.038850  0.069178   \n                       Y            -5.486119  1.188655  1.547197  1.598226   \nN         N            N            -7.947125  0.701751  1.341339  1.695137   \n                       Y            -9.077670  0.248637  0.798294  0.861206   \n          Y            N           -55.290671  0.000903  0.001485  0.004754   \n\nstem                                      Pad                                \\\n                                       dbdiff       q25       q50       q75   \nis_frozen is_augmented is_balanced                                            \nY         N            N           -45.428874  0.000009  0.000371  0.010705   \n                       Y            -6.047713 -1.032236 -0.055824  0.126971   \nN         N            N            -5.174922 -1.511318 -0.174103  0.361509   \n                       Y            -9.672668 -0.508916 -0.002630  0.107583   \n          Y            N           -37.023374 -0.040394  0.000472  0.009312   \n\nstem                                     Lead                                \\\n                                       dbdiff       q25       q50       q75   \nis_frozen is_augmented is_balanced                                            \nY         N            N           -18.347714  0.005410  0.053020  0.058245   \n                       Y           -13.049113 -0.130963 -0.019293  0.107110   \nN         N            N            -4.623205 -1.722462 -0.389275  0.088605   \n                       Y            -8.732219 -0.739433 -0.175757  0.051619   \n          Y            N           -10.286940 -0.653188  0.001643  0.025443   \n\nstem                                       Fx                                \n                                       dbdiff       q25       q50       q75  \nis_frozen is_augmented is_balanced                                           \nY         N            N           -27.729618 -0.043285 -0.006018 -0.000105  \n                       Y           -15.339428 -0.084894  0.001169  0.177836  \nN         N            N           -16.207857 -0.956394 -0.175547 -0.007091  \n                       Y           -27.523750 -0.071901 -0.002260  0.000129  \n          Y            N           -17.100482 -1.012478 -0.193432 -0.004700  ",
      "text/html": "<div>\n<style scoped>\n    .dataframe tbody tr th:only-of-type {\n        vertical-align: middle;\n    }\n\n    .dataframe tbody tr th {\n        vertical-align: top;\n    }\n\n    .dataframe thead tr th {\n        text-align: left;\n    }\n\n    .dataframe thead tr:last-of-type th {\n        text-align: right;\n    }\n</style>\n<table border=\"1\" class=\"dataframe\">\n  <thead>\n    <tr>\n      <th></th>\n      <th></th>\n      <th>stem</th>\n      <th colspan=\"4\" halign=\"left\">Brass</th>\n      <th colspan=\"4\" halign=\"left\">Reeds</th>\n      <th colspan=\"4\" halign=\"left\">Pad</th>\n      <th colspan=\"4\" halign=\"left\">Lead</th>\n      <th colspan=\"4\" halign=\"left\">Fx</th>\n    </tr>\n    <tr>\n      <th></th>\n      <th></th>\n      <th></th>\n      <th>dbdiff</th>\n      <th>q25</th>\n      <th>q50</th>\n      <th>q75</th>\n      <th>dbdiff</th>\n      <th>q25</th>\n      <th>q50</th>\n      <th>q75</th>\n      <th>dbdiff</th>\n      <th>q25</th>\n      <th>q50</th>\n      <th>q75</th>\n      <th>dbdiff</th>\n      <th>q25</th>\n      <th>q50</th>\n      <th>q75</th>\n      <th>dbdiff</th>\n      <th>q25</th>\n      <th>q50</th>\n      <th>q75</th>\n    </tr>\n    <tr>\n      <th>is_frozen</th>\n      <th>is_augmented</th>\n      <th>is_balanced</th>\n      <th></th>\n      <th></th>\n      <th></th>\n      <th></th>\n      <th></th>\n      <th></th>\n      <th></th>\n      <th></th>\n      <th></th>\n      <th></th>\n      <th></th>\n      <th></th>\n      <th></th>\n      <th></th>\n      <th></th>\n      <th></th>\n      <th></th>\n      <th></th>\n      <th></th>\n      <th></th>\n    </tr>\n  </thead>\n  <tbody>\n    <tr>\n      <th rowspan=\"2\" valign=\"top\">Y</th>\n      <th rowspan=\"2\" valign=\"top\">N</th>\n      <th>N</th>\n      <td>-33.467715</td>\n      <td>0.000225</td>\n      <td>0.006392</td>\n      <td>0.013072</td>\n      <td>-29.272843</td>\n      <td>0.012787</td>\n      <td>0.038850</td>\n      <td>0.069178</td>\n      <td>-45.428874</td>\n      <td>0.000009</td>\n      <td>0.000371</td>\n      <td>0.010705</td>\n      <td>-18.347714</td>\n      <td>0.005410</td>\n      <td>0.053020</td>\n      <td>0.058245</td>\n      <td>-27.729618</td>\n      <td>-0.043285</td>\n      <td>-0.006018</td>\n      <td>-0.000105</td>\n    </tr>\n    <tr>\n      <th>Y</th>\n      <td>-11.865765</td>\n      <td>-0.185544</td>\n      <td>0.082487</td>\n      <td>0.166017</td>\n      <td>-5.486119</td>\n      <td>1.188655</td>\n      <td>1.547197</td>\n      <td>1.598226</td>\n      <td>-6.047713</td>\n      <td>-1.032236</td>\n      <td>-0.055824</td>\n      <td>0.126971</td>\n      <td>-13.049113</td>\n      <td>-0.130963</td>\n      <td>-0.019293</td>\n      <td>0.107110</td>\n      <td>-15.339428</td>\n      <td>-0.084894</td>\n      <td>0.001169</td>\n      <td>0.177836</td>\n    </tr>\n    <tr>\n      <th rowspan=\"3\" valign=\"top\">N</th>\n      <th rowspan=\"2\" valign=\"top\">N</th>\n      <th>N</th>\n      <td>-14.710728</td>\n      <td>0.051918</td>\n      <td>0.066017</td>\n      <td>0.210708</td>\n      <td>-7.947125</td>\n      <td>0.701751</td>\n      <td>1.341339</td>\n      <td>1.695137</td>\n      <td>-5.174922</td>\n      <td>-1.511318</td>\n      <td>-0.174103</td>\n      <td>0.361509</td>\n      <td>-4.623205</td>\n      <td>-1.722462</td>\n      <td>-0.389275</td>\n      <td>0.088605</td>\n      <td>-16.207857</td>\n      <td>-0.956394</td>\n      <td>-0.175547</td>\n      <td>-0.007091</td>\n    </tr>\n    <tr>\n      <th>Y</th>\n      <td>-4.652514</td>\n      <td>-0.865638</td>\n      <td>-0.715481</td>\n      <td>-0.093257</td>\n      <td>-9.077670</td>\n      <td>0.248637</td>\n      <td>0.798294</td>\n      <td>0.861206</td>\n      <td>-9.672668</td>\n      <td>-0.508916</td>\n      <td>-0.002630</td>\n      <td>0.107583</td>\n      <td>-8.732219</td>\n      <td>-0.739433</td>\n      <td>-0.175757</td>\n      <td>0.051619</td>\n      <td>-27.523750</td>\n      <td>-0.071901</td>\n      <td>-0.002260</td>\n      <td>0.000129</td>\n    </tr>\n    <tr>\n      <th>Y</th>\n      <th>N</th>\n      <td>-48.855884</td>\n      <td>0.000048</td>\n      <td>0.000195</td>\n      <td>0.001232</td>\n      <td>-55.290671</td>\n      <td>0.000903</td>\n      <td>0.001485</td>\n      <td>0.004754</td>\n      <td>-37.023374</td>\n      <td>-0.040394</td>\n      <td>0.000472</td>\n      <td>0.009312</td>\n      <td>-10.286940</td>\n      <td>-0.653188</td>\n      <td>0.001643</td>\n      <td>0.025443</td>\n      <td>-17.100482</td>\n      <td>-1.012478</td>\n      <td>-0.193432</td>\n      <td>-0.004700</td>\n    </tr>\n  </tbody>\n</table>\n</div>"
     },
     "execution_count": 178,
     "metadata": {},
     "output_type": "execute_result"
    }
   ],
   "source": [
    "dfagg2"
   ],
   "metadata": {
    "collapsed": false,
    "ExecuteTime": {
     "end_time": "2024-04-07T18:59:06.828364608Z",
     "start_time": "2024-04-07T18:59:06.828153150Z"
    }
   }
  }
 ],
 "metadata": {
  "kernelspec": {
   "display_name": "Python 3",
   "language": "python",
   "name": "python3"
  },
  "language_info": {
   "codemirror_mode": {
    "name": "ipython",
    "version": 2
   },
   "file_extension": ".py",
   "mimetype": "text/x-python",
   "name": "python",
   "nbconvert_exporter": "python",
   "pygments_lexer": "ipython2",
   "version": "2.7.6"
  }
 },
 "nbformat": 4,
 "nbformat_minor": 0
}
