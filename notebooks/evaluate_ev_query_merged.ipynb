{
 "cells": [
  {
   "cell_type": "code",
   "execution_count": 27,
   "metadata": {
    "collapsed": true,
    "ExecuteTime": {
     "end_time": "2024-04-06T21:13:04.366870052Z",
     "start_time": "2024-04-06T21:13:04.348815549Z"
    }
   },
   "outputs": [],
   "source": [
    "import os\n",
    "from functools import partial\n",
    "from itertools import chain\n",
    "\n",
    "import numpy as np\n",
    "import pandas as pd\n",
    "import soundfile as sf\n",
    "from tqdm.contrib.concurrent import process_map\n"
   ]
  },
  {
   "cell_type": "code",
   "execution_count": 28,
   "outputs": [],
   "source": [
    "INFERENCE_ROOT = \"/home/kwatchar3/Documents/data/moisesdb/\"\n",
    "STEM_SETUP = \"everything\"\n",
    "GROUND_TRUTH_ROOT = \"/home/kwatchar3/Documents/data/moisesdb\""
   ],
   "metadata": {
    "collapsed": false,
    "ExecuteTime": {
     "end_time": "2024-04-06T21:13:04.371215383Z",
     "start_time": "2024-04-06T21:13:04.351337597Z"
    }
   }
  },
  {
   "cell_type": "code",
   "execution_count": 29,
   "outputs": [],
   "source": [
    "variants = [\n",
    "    \"ev-d-pre\",\n",
    "    \"ev-d-prefz\",\n",
    "    \"ev-d-pre-aug\",\n",
    "    # \"ev-d-pre-bal\",\n",
    "    \"ev-d-prefz-bal\",\n",
    "    # \"ev-d-pre-aug-bal\",\n",
    "]\n",
    "\n"
   ],
   "metadata": {
    "collapsed": false,
    "ExecuteTime": {
     "end_time": "2024-04-06T21:13:04.404230577Z",
     "start_time": "2024-04-06T21:13:04.353180553Z"
    }
   }
  },
  {
   "cell_type": "code",
   "execution_count": 30,
   "outputs": [],
   "source": [
    "gt_files = os.listdir(os.path.join(GROUND_TRUTH_ROOT, \"npy2\"))"
   ],
   "metadata": {
    "collapsed": false,
    "ExecuteTime": {
     "end_time": "2024-04-06T21:13:04.404592956Z",
     "start_time": "2024-04-06T21:13:04.401006933Z"
    }
   }
  },
  {
   "cell_type": "code",
   "execution_count": 31,
   "outputs": [],
   "source": [
    "def snr(gt, est):\n",
    "    return 10 * np.log10(np.sum(np.square(gt)) / np.sum(np.square(gt - est)))"
   ],
   "metadata": {
    "collapsed": false,
    "ExecuteTime": {
     "end_time": "2024-04-06T21:13:04.404643218Z",
     "start_time": "2024-04-06T21:13:04.401141556Z"
    }
   }
  },
  {
   "cell_type": "code",
   "execution_count": 45,
   "outputs": [],
   "source": [
    "allowed_stems = COARSE_TO_FINE = {\n",
    "    \"vocals\": [\n",
    "        \"lead_female_singer\",\n",
    "        \"lead_male_singer\",\n",
    "        # \"human_choir\",\n",
    "        \"background_vocals\",\n",
    "        # \"other_vocals\",\n",
    "    ],\n",
    "    \"drums\": [\n",
    "        \"drums\"\n",
    "    ],\n",
    "    \"bass\": [\n",
    "        \"bass_guitar\",\n",
    "        \"bass_synthesizer\",\n",
    "        # \"contrabass_double_bass\",\n",
    "        # \"tuba\",\n",
    "        # \"bassoon\",\n",
    "    ],\n",
    "    \"guitar\": [\n",
    "        \"clean_electric_guitar\",\n",
    "        \"distorted_electric_guitar\",\n",
    "        # \"lap_steel_guitar_or_slide_guitar\",\n",
    "        \"acoustic_guitar\",\n",
    "    ],\n",
    "    \"piano\": [\"grand_piano\", \"electric_piano\"],\n",
    "    \"other_keys\": [\"organ_electric_organ\", \"synth_pad\", \"synth_lead\",\n",
    "                   # \"other_sounds\"\n",
    "                   ],\n",
    "    \"bowed_strings\": [\n",
    "        # \"violin\",\n",
    "        # \"viola\",\n",
    "        # \"cello\",\n",
    "        # \"violin_section\",\n",
    "        # \"viola_section\",\n",
    "        # \"cello_section\",\n",
    "        \"string_section\",\n",
    "        \"other_strings\",\n",
    "    ],\n",
    "    \"wind\": [\"brass\",\n",
    "             # \"flutes\",\n",
    "             \"reeds\",\n",
    "             \"other_wind\"],\n",
    "    \"other_plucked\": [\"other_plucked\"],\n",
    "    \"percussion\": [\n",
    "        # \"atonal_percussion\",\n",
    "        \"pitched_percussion\"\n",
    "    ],\n",
    "    \"other\": [\"fx\",\n",
    "              # \"click_track\"\n",
    "              ],\n",
    "}\n"
   ],
   "metadata": {
    "collapsed": false,
    "ExecuteTime": {
     "end_time": "2024-04-06T21:20:19.781722086Z",
     "start_time": "2024-04-06T21:20:19.501159498Z"
    }
   }
  },
  {
   "cell_type": "code",
   "execution_count": 33,
   "outputs": [],
   "source": [
    "def get_results_for_song(inputs):\n",
    "\n",
    "    song_name, inference_mode, variant = inputs\n",
    "\n",
    "    stems = os.listdir(os.path.join(INFERENCE_ROOT, inference_mode, STEM_SETUP, variant, \"audio\", song_name))\n",
    "    stems = [s.replace(\".wav\", \"\") for s in stems]\n",
    "\n",
    "    results = []\n",
    "\n",
    "    for coarse_stem in allowed_stems:\n",
    "\n",
    "        coarse_pred = []\n",
    "        coarse_true = []\n",
    "\n",
    "        has_gt = False\n",
    "        for stem in allowed_stems[coarse_stem]:\n",
    "            stem_has_gt = False\n",
    "            npy_path = os.path.join(GROUND_TRUTH_ROOT, \"npy2\", song_name, f\"{stem}.npy\")\n",
    "            if os.path.exists(npy_path):\n",
    "                audio = np.load(npy_path, mmap_mode=\"r\")\n",
    "                coarse_true.append(audio)\n",
    "                has_gt = True\n",
    "                stem_has_gt = True\n",
    "            else:\n",
    "                # print(\"!!!!!!!!!!!!!!!!!!!!!!!!!!!!!!!!!!!!!!!!!!!!!!!!!!!!!!!\")\n",
    "                # print(f\"Ground truth not found for {song_name}/{stem}. Using zeros.\")\n",
    "                # print(\"!!!!!!!!!!!!!!!!!!!!!!!!!!!!!!!!!!!!!!!!!!!!!!!!!!!!!!!\")\n",
    "                pass\n",
    "\n",
    "            audio_path = os.path.join(\n",
    "                INFERENCE_ROOT,\n",
    "                inference_mode,\n",
    "                STEM_SETUP,\n",
    "                variant,\n",
    "                \"audio\",\n",
    "                song_name,\n",
    "                f\"{stem}.wav\"\n",
    "                )\n",
    "            if os.path.exists(audio_path):\n",
    "                audio, sr = sf.read(audio_path)\n",
    "                audio = audio.T\n",
    "                coarse_pred.append(audio)\n",
    "            else:\n",
    "                if stem_has_gt:\n",
    "                    print(\"******************************************************\")\n",
    "                    # print(\"!!!!!!!!!!!!!!!!!!!!!!!!!!!!!!!!!!!!!!!!!!!!!!!!!!!!!!!\")\n",
    "                    print(f\"Prediction not found for {song_name}/{stem}. Using zeros.\")\n",
    "                    print(\"******************************************************\")\n",
    "                # print(\"!!!!!!!!!!!!!!!!!!!!!!!!!!!!!!!!!!!!!!!!!!!!!!!!!!!!!!!\")\n",
    "\n",
    "        if not has_gt:\n",
    "            # print(\"!!!!!!!!!!!!!!!!!!!!!!!!!!!!!!!!!!!!!!!!!!!!!!!!!!!!!!\")\n",
    "            # print(f\"No ground truth found for {song_name} - {coarse_stem}. Skipping.\")\n",
    "            # print(\"!!!!!!!!!!!!!!!!!!!!!!!!!!!!!!!!!!!!!!!!!!!!!!!!!!!!!!\")\n",
    "            continue\n",
    "\n",
    "        coarse_true = sum(coarse_true)\n",
    "        coarse_pred = sum(coarse_pred)\n",
    "\n",
    "        snr_full = snr(coarse_true, coarse_pred)\n",
    "\n",
    "        results.append(\n",
    "            {\n",
    "                \"song\": song_name,\n",
    "                \"stem\": coarse_stem,\n",
    "                \"snr\": snr_full,\n",
    "                \"variant\": variant,\n",
    "                \"inference_mode\": inference_mode,\n",
    "            }\n",
    "        )\n",
    "\n",
    "    return results\n"
   ],
   "metadata": {
    "collapsed": false,
    "ExecuteTime": {
     "end_time": "2024-04-06T21:13:04.404682943Z",
     "start_time": "2024-04-06T21:13:04.401191322Z"
    }
   }
  },
  {
   "cell_type": "code",
   "execution_count": 34,
   "outputs": [
    {
     "name": "stdout",
     "output_type": "stream",
     "text": [
      "Processing ev-d-pre...\n"
     ]
    },
    {
     "data": {
      "text/plain": "  0%|          | 0/48 [00:00<?, ?it/s]",
      "application/vnd.jupyter.widget-view+json": {
       "version_major": 2,
       "version_minor": 0,
       "model_id": "80f15678b4ca47f5b630aac606dce38b"
      }
     },
     "metadata": {},
     "output_type": "display_data"
    },
    {
     "name": "stdout",
     "output_type": "stream",
     "text": [
      "******************************************************\n",
      "Prediction not found for 5a6df5c7-a58a-479e-bdfb-c5946c221933/other_wind. Using zeros.\n",
      "******************************************************\n",
      "******************************************************\n",
      "Prediction not found for 5a6df5c7-a58a-479e-bdfb-c5946c221933/other_plucked. Using zeros.\n",
      "******************************************************\n",
      "******************************************************\n",
      "Prediction not found for c70471f9-9c4a-41c9-b8f8-20ac38847a8e/other_strings. Using zeros.\n",
      "******************************************************\n",
      "Processing ev-d-prefz...\n"
     ]
    },
    {
     "data": {
      "text/plain": "  0%|          | 0/48 [00:00<?, ?it/s]",
      "application/vnd.jupyter.widget-view+json": {
       "version_major": 2,
       "version_minor": 0,
       "model_id": "6f3324bc2e5346228de251d9924f98b7"
      }
     },
     "metadata": {},
     "output_type": "display_data"
    },
    {
     "name": "stdout",
     "output_type": "stream",
     "text": [
      "******************************************************\n",
      "Prediction not found for 5a6df5c7-a58a-479e-bdfb-c5946c221933/other_wind. Using zeros.\n",
      "******************************************************\n",
      "******************************************************\n",
      "Prediction not found for 5a6df5c7-a58a-479e-bdfb-c5946c221933/other_plucked. Using zeros.\n",
      "******************************************************\n",
      "******************************************************\n",
      "Prediction not found for c70471f9-9c4a-41c9-b8f8-20ac38847a8e/other_strings. Using zeros.\n",
      "******************************************************\n",
      "Processing ev-d-pre-aug...\n"
     ]
    },
    {
     "data": {
      "text/plain": "  0%|          | 0/48 [00:00<?, ?it/s]",
      "application/vnd.jupyter.widget-view+json": {
       "version_major": 2,
       "version_minor": 0,
       "model_id": "c20c19dc936f4b7fb590de288975f775"
      }
     },
     "metadata": {},
     "output_type": "display_data"
    },
    {
     "name": "stdout",
     "output_type": "stream",
     "text": [
      "******************************************************\n",
      "Prediction not found for 5a6df5c7-a58a-479e-bdfb-c5946c221933/other_wind. Using zeros.\n",
      "******************************************************\n",
      "******************************************************\n",
      "Prediction not found for 5a6df5c7-a58a-479e-bdfb-c5946c221933/other_plucked. Using zeros.\n",
      "******************************************************\n",
      "******************************************************\n",
      "Prediction not found for c70471f9-9c4a-41c9-b8f8-20ac38847a8e/other_strings. Using zeros.\n",
      "******************************************************\n",
      "Processing ev-d-prefz-bal...\n"
     ]
    },
    {
     "data": {
      "text/plain": "  0%|          | 0/48 [00:00<?, ?it/s]",
      "application/vnd.jupyter.widget-view+json": {
       "version_major": 2,
       "version_minor": 0,
       "model_id": "50a60bacfb63444cbcc9a16907cc053a"
      }
     },
     "metadata": {},
     "output_type": "display_data"
    },
    {
     "name": "stdout",
     "output_type": "stream",
     "text": [
      "******************************************************\n",
      "Prediction not found for 5a6df5c7-a58a-479e-bdfb-c5946c221933/other_wind. Using zeros.\n",
      "******************************************************\n",
      "******************************************************\n",
      "Prediction not found for 5a6df5c7-a58a-479e-bdfb-c5946c221933/other_plucked. Using zeros.\n",
      "******************************************************\n",
      "******************************************************\n",
      "Prediction not found for c70471f9-9c4a-41c9-b8f8-20ac38847a8e/other_strings. Using zeros.\n",
      "******************************************************\n",
      "Processing ev-d-pre...\n"
     ]
    },
    {
     "data": {
      "text/plain": "  0%|          | 0/48 [00:00<?, ?it/s]",
      "application/vnd.jupyter.widget-view+json": {
       "version_major": 2,
       "version_minor": 0,
       "model_id": "28ca96f1eb5842c08a7a56d244735637"
      }
     },
     "metadata": {},
     "output_type": "display_data"
    },
    {
     "name": "stdout",
     "output_type": "stream",
     "text": [
      "******************************************************\n",
      "Prediction not found for 5a6df5c7-a58a-479e-bdfb-c5946c221933/other_wind. Using zeros.\n",
      "******************************************************\n",
      "******************************************************\n",
      "Prediction not found for 5a6df5c7-a58a-479e-bdfb-c5946c221933/other_plucked. Using zeros.\n",
      "******************************************************\n",
      "******************************************************\n",
      "Prediction not found for c70471f9-9c4a-41c9-b8f8-20ac38847a8e/other_strings. Using zeros.\n",
      "******************************************************\n",
      "Processing ev-d-prefz...\n"
     ]
    },
    {
     "data": {
      "text/plain": "  0%|          | 0/48 [00:00<?, ?it/s]",
      "application/vnd.jupyter.widget-view+json": {
       "version_major": 2,
       "version_minor": 0,
       "model_id": "8a38fbe32a164e168ed75ff04ea4588e"
      }
     },
     "metadata": {},
     "output_type": "display_data"
    },
    {
     "name": "stdout",
     "output_type": "stream",
     "text": [
      "******************************************************\n",
      "Prediction not found for 5a6df5c7-a58a-479e-bdfb-c5946c221933/other_wind. Using zeros.\n",
      "******************************************************\n",
      "******************************************************\n",
      "Prediction not found for 5a6df5c7-a58a-479e-bdfb-c5946c221933/other_plucked. Using zeros.\n",
      "******************************************************\n",
      "******************************************************\n",
      "Prediction not found for c70471f9-9c4a-41c9-b8f8-20ac38847a8e/other_strings. Using zeros.\n",
      "******************************************************\n",
      "Processing ev-d-pre-aug...\n"
     ]
    },
    {
     "data": {
      "text/plain": "  0%|          | 0/48 [00:00<?, ?it/s]",
      "application/vnd.jupyter.widget-view+json": {
       "version_major": 2,
       "version_minor": 0,
       "model_id": "ccc15e5ed8f44d3485e61db20cdf3125"
      }
     },
     "metadata": {},
     "output_type": "display_data"
    },
    {
     "name": "stdout",
     "output_type": "stream",
     "text": [
      "******************************************************\n",
      "Prediction not found for 5a6df5c7-a58a-479e-bdfb-c5946c221933/other_wind. Using zeros.\n",
      "******************************************************\n",
      "******************************************************\n",
      "Prediction not found for 5a6df5c7-a58a-479e-bdfb-c5946c221933/other_plucked. Using zeros.\n",
      "******************************************************\n",
      "******************************************************\n",
      "Prediction not found for c70471f9-9c4a-41c9-b8f8-20ac38847a8e/other_strings. Using zeros.\n",
      "******************************************************\n",
      "Processing ev-d-prefz-bal...\n"
     ]
    },
    {
     "data": {
      "text/plain": "  0%|          | 0/48 [00:00<?, ?it/s]",
      "application/vnd.jupyter.widget-view+json": {
       "version_major": 2,
       "version_minor": 0,
       "model_id": "5baa5aa3a81145589c11f6761ecfc792"
      }
     },
     "metadata": {},
     "output_type": "display_data"
    },
    {
     "name": "stdout",
     "output_type": "stream",
     "text": [
      "******************************************************\n",
      "Prediction not found for 5a6df5c7-a58a-479e-bdfb-c5946c221933/other_wind. Using zeros.\n",
      "******************************************************\n",
      "******************************************************\n",
      "Prediction not found for 5a6df5c7-a58a-479e-bdfb-c5946c221933/other_plucked. Using zeros.\n",
      "******************************************************\n",
      "******************************************************\n",
      "Prediction not found for c70471f9-9c4a-41c9-b8f8-20ac38847a8e/other_strings. Using zeros.\n",
      "******************************************************\n"
     ]
    }
   ],
   "source": [
    "\n",
    "df = []\n",
    "\n",
    "for inference_mode in [\"inference-d\", \"inference-o\"]:\n",
    "\n",
    "    for v in variants:\n",
    "        print(f\"Processing {v}...\")\n",
    "\n",
    "        test_files = os.listdir(os.path.join(INFERENCE_ROOT, inference_mode, STEM_SETUP, v, \"audio\"))\n",
    "\n",
    "        # for song in tqdm(test_files):\n",
    "        #     results = get_results_for_song(song, inference_mode, v)\n",
    "        #     df.extend(results)\n",
    "\n",
    "        inputs = [(song, inference_mode, v) for song in test_files]\n",
    "\n",
    "        results = process_map(get_results_for_song, inputs, max_workers=16)\n",
    "        results = list(chain(*results))\n",
    "\n",
    "        df.extend(results)\n",
    "\n",
    "df = pd.DataFrame(df)"
   ],
   "metadata": {
    "collapsed": false,
    "ExecuteTime": {
     "end_time": "2024-04-06T21:19:33.230630431Z",
     "start_time": "2024-04-06T21:13:04.401267810Z"
    }
   }
  },
  {
   "cell_type": "markdown",
   "source": [],
   "metadata": {
    "collapsed": false
   }
  },
  {
   "cell_type": "code",
   "execution_count": 35,
   "outputs": [
    {
     "data": {
      "text/plain": "                                      song    stem        snr         variant  \\\n0     704f1de9-1d02-4c2b-af05-107a7700a51d  vocals   8.348032        ev-d-pre   \n1     704f1de9-1d02-4c2b-af05-107a7700a51d   drums  11.773505        ev-d-pre   \n2     704f1de9-1d02-4c2b-af05-107a7700a51d    bass   8.722601        ev-d-pre   \n3     704f1de9-1d02-4c2b-af05-107a7700a51d  guitar   1.481413        ev-d-pre   \n4     8a6c9c1f-4865-404f-a805-1949de36a33c  vocals  13.111771        ev-d-pre   \n...                                    ...     ...        ...             ...   \n1995  a56d9450-3a26-485c-8ac3-24b6b54e2c1d  guitar   8.346391  ev-d-prefz-bal   \n1996  1f98fe4d-26c7-460f-9f68-33964bc4d8d3  vocals   4.019988  ev-d-prefz-bal   \n1997  1f98fe4d-26c7-460f-9f68-33964bc4d8d3   drums  10.185577  ev-d-prefz-bal   \n1998  1f98fe4d-26c7-460f-9f68-33964bc4d8d3    bass   8.265368  ev-d-prefz-bal   \n1999  1f98fe4d-26c7-460f-9f68-33964bc4d8d3  guitar   3.586968  ev-d-prefz-bal   \n\n     inference_mode  \n0       inference-d  \n1       inference-d  \n2       inference-d  \n3       inference-d  \n4       inference-d  \n...             ...  \n1995    inference-o  \n1996    inference-o  \n1997    inference-o  \n1998    inference-o  \n1999    inference-o  \n\n[2000 rows x 5 columns]",
      "text/html": "<div>\n<style scoped>\n    .dataframe tbody tr th:only-of-type {\n        vertical-align: middle;\n    }\n\n    .dataframe tbody tr th {\n        vertical-align: top;\n    }\n\n    .dataframe thead th {\n        text-align: right;\n    }\n</style>\n<table border=\"1\" class=\"dataframe\">\n  <thead>\n    <tr style=\"text-align: right;\">\n      <th></th>\n      <th>song</th>\n      <th>stem</th>\n      <th>snr</th>\n      <th>variant</th>\n      <th>inference_mode</th>\n    </tr>\n  </thead>\n  <tbody>\n    <tr>\n      <th>0</th>\n      <td>704f1de9-1d02-4c2b-af05-107a7700a51d</td>\n      <td>vocals</td>\n      <td>8.348032</td>\n      <td>ev-d-pre</td>\n      <td>inference-d</td>\n    </tr>\n    <tr>\n      <th>1</th>\n      <td>704f1de9-1d02-4c2b-af05-107a7700a51d</td>\n      <td>drums</td>\n      <td>11.773505</td>\n      <td>ev-d-pre</td>\n      <td>inference-d</td>\n    </tr>\n    <tr>\n      <th>2</th>\n      <td>704f1de9-1d02-4c2b-af05-107a7700a51d</td>\n      <td>bass</td>\n      <td>8.722601</td>\n      <td>ev-d-pre</td>\n      <td>inference-d</td>\n    </tr>\n    <tr>\n      <th>3</th>\n      <td>704f1de9-1d02-4c2b-af05-107a7700a51d</td>\n      <td>guitar</td>\n      <td>1.481413</td>\n      <td>ev-d-pre</td>\n      <td>inference-d</td>\n    </tr>\n    <tr>\n      <th>4</th>\n      <td>8a6c9c1f-4865-404f-a805-1949de36a33c</td>\n      <td>vocals</td>\n      <td>13.111771</td>\n      <td>ev-d-pre</td>\n      <td>inference-d</td>\n    </tr>\n    <tr>\n      <th>...</th>\n      <td>...</td>\n      <td>...</td>\n      <td>...</td>\n      <td>...</td>\n      <td>...</td>\n    </tr>\n    <tr>\n      <th>1995</th>\n      <td>a56d9450-3a26-485c-8ac3-24b6b54e2c1d</td>\n      <td>guitar</td>\n      <td>8.346391</td>\n      <td>ev-d-prefz-bal</td>\n      <td>inference-o</td>\n    </tr>\n    <tr>\n      <th>1996</th>\n      <td>1f98fe4d-26c7-460f-9f68-33964bc4d8d3</td>\n      <td>vocals</td>\n      <td>4.019988</td>\n      <td>ev-d-prefz-bal</td>\n      <td>inference-o</td>\n    </tr>\n    <tr>\n      <th>1997</th>\n      <td>1f98fe4d-26c7-460f-9f68-33964bc4d8d3</td>\n      <td>drums</td>\n      <td>10.185577</td>\n      <td>ev-d-prefz-bal</td>\n      <td>inference-o</td>\n    </tr>\n    <tr>\n      <th>1998</th>\n      <td>1f98fe4d-26c7-460f-9f68-33964bc4d8d3</td>\n      <td>bass</td>\n      <td>8.265368</td>\n      <td>ev-d-prefz-bal</td>\n      <td>inference-o</td>\n    </tr>\n    <tr>\n      <th>1999</th>\n      <td>1f98fe4d-26c7-460f-9f68-33964bc4d8d3</td>\n      <td>guitar</td>\n      <td>3.586968</td>\n      <td>ev-d-prefz-bal</td>\n      <td>inference-o</td>\n    </tr>\n  </tbody>\n</table>\n<p>2000 rows × 5 columns</p>\n</div>"
     },
     "execution_count": 35,
     "metadata": {},
     "output_type": "execute_result"
    }
   ],
   "source": [
    "df"
   ],
   "metadata": {
    "collapsed": false,
    "ExecuteTime": {
     "end_time": "2024-04-06T21:19:33.352202057Z",
     "start_time": "2024-04-06T21:19:33.116151319Z"
    }
   }
  },
  {
   "cell_type": "code",
   "execution_count": 36,
   "outputs": [],
   "source": [
    "df[\"snr\"] = df[\"snr\"].replace(-np.inf, np.nan)"
   ],
   "metadata": {
    "collapsed": false,
    "ExecuteTime": {
     "end_time": "2024-04-06T21:19:33.902725231Z",
     "start_time": "2024-04-06T21:19:33.264223337Z"
    }
   }
  },
  {
   "cell_type": "code",
   "execution_count": 37,
   "outputs": [],
   "source": [
    "df.to_csv(os.path.join(INFERENCE_ROOT, \"bandit_ev_merged.csv\"), index=False)"
   ],
   "metadata": {
    "collapsed": false,
    "ExecuteTime": {
     "end_time": "2024-04-06T21:19:33.993172058Z",
     "start_time": "2024-04-06T21:19:33.405269087Z"
    }
   }
  },
  {
   "cell_type": "code",
   "execution_count": 78,
   "outputs": [],
   "source": [
    "df = pd.read_csv(os.path.join(INFERENCE_ROOT, \"bandit_ev_merged.csv\"))"
   ],
   "metadata": {
    "collapsed": false,
    "ExecuteTime": {
     "end_time": "2024-04-06T21:29:51.635993022Z",
     "start_time": "2024-04-06T21:29:51.593124293Z"
    }
   }
  },
  {
   "cell_type": "code",
   "execution_count": 79,
   "outputs": [],
   "source": [
    "stem_dtype = pd.CategoricalDtype(categories=allowed_stems, ordered=True)\n",
    "df[\"stem\"] = df[\"stem\"].astype(stem_dtype)\n",
    "\n",
    "bool_dtype = pd.CategoricalDtype(categories=[\"Y\", \"N\"], ordered=True)\n",
    "ibool_dtype = pd.CategoricalDtype(categories=[\"N\", \"Y\"], ordered=True)\n",
    "\n",
    "df[\"is_frozen\"] = df[\"variant\"].str.contains(\"prefz\").apply(lambda x: \"Y\" if x else \"N\").astype(bool_dtype)\n",
    "df[\"is_balanced\"] = df[\"variant\"].str.contains(\"bal\").apply(lambda x: \"Y\" if x else \"N\").astype(ibool_dtype)\n",
    "df[\"is_augmented\"] = df[\"variant\"].str.contains(\"aug\").apply(lambda x: \"Y\" if x else \"N\").astype(ibool_dtype)\n",
    "df[\"query_same\"] = df[\"inference_mode\"].str.contains(\"-o\").apply(lambda x: \"same\" if x else \"diff.\")"
   ],
   "metadata": {
    "collapsed": false,
    "ExecuteTime": {
     "end_time": "2024-04-06T21:29:51.636927308Z",
     "start_time": "2024-04-06T21:29:51.636203147Z"
    }
   }
  },
  {
   "cell_type": "code",
   "execution_count": 80,
   "outputs": [
    {
     "name": "stderr",
     "output_type": "stream",
     "text": [
      "/tmp/ipykernel_1532208/65639533.py:13: FutureWarning: The default of observed=False is deprecated and will be changed to True in a future version of pandas. Pass observed=False to retain current behavior or observed=True to adopt the future default and silence this warning.\n",
      "  dfagg = df.groupby(\n"
     ]
    }
   ],
   "source": [
    "def q25(x):\n",
    "    return x.quantile(0.25)\n",
    "\n",
    "\n",
    "def q75(x):\n",
    "    return x.quantile(0.75)\n",
    "\n",
    "\n",
    "def q50(x):\n",
    "    return x.quantile(0.5)\n",
    "\n",
    "\n",
    "dfagg = df.groupby(\n",
    "    [\n",
    "        \"is_frozen\",\n",
    "        \"is_augmented\",\n",
    "        \"is_balanced\",\n",
    "        \"query_same\",\n",
    "        \"stem\"\n",
    "    ]\n",
    ").describe()[\"snr\"]\n",
    "\n",
    "# dfagg = dfagg[dfagg.query_same == \"diff.\"]\n",
    "\n",
    "dfagg = dfagg.reset_index().pivot_table(\n",
    "    index=[\"is_frozen\", \"is_augmented\", \"is_balanced\", \"query_same\"],\n",
    "    columns=\"stem\",\n",
    ")\n"
   ],
   "metadata": {
    "collapsed": false,
    "ExecuteTime": {
     "end_time": "2024-04-06T21:29:51.685496306Z",
     "start_time": "2024-04-06T21:29:51.636333961Z"
    }
   }
  },
  {
   "cell_type": "code",
   "execution_count": 81,
   "outputs": [
    {
     "data": {
      "text/plain": "                                                    25%                      \\\nstem                                             vocals     drums      bass   \nis_frozen is_augmented is_balanced query_same                                 \nY         N            N           diff.       6.894812  8.157859  7.565005   \n                                   same        6.859615  8.153814  8.012354   \n                       Y           diff.       6.743392  7.779492  7.521674   \n                                   same        6.407937  7.777564  7.557049   \nN         N            N           diff.       6.859689  7.881636  7.484564   \n                                   same        6.586905  7.845629  7.878842   \n          Y            N           diff.       7.047089  8.560939  8.267794   \n                                   same        6.269022  8.559176  8.462066   \n\n                                                                              \\\nstem                                             guitar     piano other_keys   \nis_frozen is_augmented is_balanced query_same                                  \nY         N            N           diff.       1.072846  0.215652  -0.000709   \n                                   same        1.190625  0.328484   0.000201   \n                       Y           diff.       1.072451 -0.234785  -0.081063   \n                                   same        1.179914 -0.912198  -0.313551   \nN         N            N           diff.       1.446187  0.631473  -0.094925   \n                                   same        1.231723  0.600752  -0.468628   \n          Y            N           diff.       1.235196  0.131989   0.000015   \n                                   same        1.350015  0.304006   0.000040   \n\n                                                                       \\\nstem                                          bowed_strings      wind   \nis_frozen is_augmented is_balanced query_same                           \nY         N            N           diff.          -0.010425  0.000579   \n                                   same           -0.000024  0.003754   \n                       Y           diff.          -0.188035  0.035286   \n                                   same           -0.530249  0.078286   \nN         N            N           diff.          -0.231063 -0.089766   \n                                   same           -0.469470  0.124161   \n          Y            N           diff.           0.000003 -0.012499   \n                                   same            0.000021  0.002636   \n\n                                                                        ...  \\\nstem                                          other_plucked percussion  ...   \nis_frozen is_augmented is_balanced query_same                           ...   \nY         N            N           diff.                0.0  -2.415543  ...   \n                                   same                 0.0  -1.016244  ...   \n                       Y           diff.                0.0  -2.133700  ...   \n                                   same                 0.0  -0.112063  ...   \nN         N            N           diff.                0.0  -2.455696  ...   \n                                   same                 0.0  -1.261964  ...   \n          Y            N           diff.                0.0  -2.513345  ...   \n                                   same                 0.0  -1.359048  ...   \n\n                                                    std                      \\\nstem                                             vocals     drums      bass   \nis_frozen is_augmented is_balanced query_same                                 \nY         N            N           diff.       3.513647  2.527102  4.214204   \n                                   same        3.713512  2.541448  3.991589   \n                       Y           diff.       2.901677  2.372610  3.526889   \n                                   same        3.228087  2.393993  3.335579   \nN         N            N           diff.       3.512808  2.462260  4.261725   \n                                   same        3.676778  2.466046  3.997968   \n          Y            N           diff.       3.873531  2.516873  4.294079   \n                                   same        4.076241  2.532753  4.025533   \n\n                                                                              \\\nstem                                             guitar     piano other_keys   \nis_frozen is_augmented is_balanced query_same                                  \nY         N            N           diff.       2.586086  2.090998   0.380155   \n                                   same        2.566749  2.459208   0.172286   \n                       Y           diff.       2.339386  3.226273   0.625984   \n                                   same        2.296313  3.358125   0.797854   \nN         N            N           diff.       2.931147  2.753458   2.077147   \n                                   same        2.895431  3.049478   2.145024   \n          Y            N           diff.       2.782856  2.943407   1.014110   \n                                   same        2.719135  3.326416   1.225373   \n\n                                                                       \\\nstem                                          bowed_strings      wind   \nis_frozen is_augmented is_balanced query_same                           \nY         N            N           diff.           0.015852  0.469784   \n                                   same            0.001835  0.034627   \n                       Y           diff.           0.417858  0.589618   \n                                   same            0.454663  0.808579   \nN         N            N           diff.           0.793063  1.584786   \n                                   same            0.615090  0.759273   \n          Y            N           diff.           0.000190  2.111165   \n                                   same            0.000409  1.075197   \n\n                                                                    \nstem                                          percussion     other  \nis_frozen is_augmented is_balanced query_same                       \nY         N            N           diff.        2.274218  5.627593  \n                                   same         1.276415  4.592190  \n                       Y           diff.        1.966818  1.992873  \n                                   same         2.614345  1.626720  \nN         N            N           diff.        2.214774  5.565832  \n                                   same         2.689716  4.531642  \n          Y            N           diff.        2.373379  5.419691  \n                                   same         1.285342  4.217764  \n\n[8 rows x 87 columns]",
      "text/html": "<div>\n<style scoped>\n    .dataframe tbody tr th:only-of-type {\n        vertical-align: middle;\n    }\n\n    .dataframe tbody tr th {\n        vertical-align: top;\n    }\n\n    .dataframe thead tr th {\n        text-align: left;\n    }\n\n    .dataframe thead tr:last-of-type th {\n        text-align: right;\n    }\n</style>\n<table border=\"1\" class=\"dataframe\">\n  <thead>\n    <tr>\n      <th></th>\n      <th></th>\n      <th></th>\n      <th></th>\n      <th colspan=\"10\" halign=\"left\">25%</th>\n      <th>...</th>\n      <th colspan=\"10\" halign=\"left\">std</th>\n    </tr>\n    <tr>\n      <th></th>\n      <th></th>\n      <th></th>\n      <th>stem</th>\n      <th>vocals</th>\n      <th>drums</th>\n      <th>bass</th>\n      <th>guitar</th>\n      <th>piano</th>\n      <th>other_keys</th>\n      <th>bowed_strings</th>\n      <th>wind</th>\n      <th>other_plucked</th>\n      <th>percussion</th>\n      <th>...</th>\n      <th>vocals</th>\n      <th>drums</th>\n      <th>bass</th>\n      <th>guitar</th>\n      <th>piano</th>\n      <th>other_keys</th>\n      <th>bowed_strings</th>\n      <th>wind</th>\n      <th>percussion</th>\n      <th>other</th>\n    </tr>\n    <tr>\n      <th>is_frozen</th>\n      <th>is_augmented</th>\n      <th>is_balanced</th>\n      <th>query_same</th>\n      <th></th>\n      <th></th>\n      <th></th>\n      <th></th>\n      <th></th>\n      <th></th>\n      <th></th>\n      <th></th>\n      <th></th>\n      <th></th>\n      <th></th>\n      <th></th>\n      <th></th>\n      <th></th>\n      <th></th>\n      <th></th>\n      <th></th>\n      <th></th>\n      <th></th>\n      <th></th>\n      <th></th>\n    </tr>\n  </thead>\n  <tbody>\n    <tr>\n      <th rowspan=\"4\" valign=\"top\">Y</th>\n      <th rowspan=\"4\" valign=\"top\">N</th>\n      <th rowspan=\"2\" valign=\"top\">N</th>\n      <th>diff.</th>\n      <td>6.894812</td>\n      <td>8.157859</td>\n      <td>7.565005</td>\n      <td>1.072846</td>\n      <td>0.215652</td>\n      <td>-0.000709</td>\n      <td>-0.010425</td>\n      <td>0.000579</td>\n      <td>0.0</td>\n      <td>-2.415543</td>\n      <td>...</td>\n      <td>3.513647</td>\n      <td>2.527102</td>\n      <td>4.214204</td>\n      <td>2.586086</td>\n      <td>2.090998</td>\n      <td>0.380155</td>\n      <td>0.015852</td>\n      <td>0.469784</td>\n      <td>2.274218</td>\n      <td>5.627593</td>\n    </tr>\n    <tr>\n      <th>same</th>\n      <td>6.859615</td>\n      <td>8.153814</td>\n      <td>8.012354</td>\n      <td>1.190625</td>\n      <td>0.328484</td>\n      <td>0.000201</td>\n      <td>-0.000024</td>\n      <td>0.003754</td>\n      <td>0.0</td>\n      <td>-1.016244</td>\n      <td>...</td>\n      <td>3.713512</td>\n      <td>2.541448</td>\n      <td>3.991589</td>\n      <td>2.566749</td>\n      <td>2.459208</td>\n      <td>0.172286</td>\n      <td>0.001835</td>\n      <td>0.034627</td>\n      <td>1.276415</td>\n      <td>4.592190</td>\n    </tr>\n    <tr>\n      <th rowspan=\"2\" valign=\"top\">Y</th>\n      <th>diff.</th>\n      <td>6.743392</td>\n      <td>7.779492</td>\n      <td>7.521674</td>\n      <td>1.072451</td>\n      <td>-0.234785</td>\n      <td>-0.081063</td>\n      <td>-0.188035</td>\n      <td>0.035286</td>\n      <td>0.0</td>\n      <td>-2.133700</td>\n      <td>...</td>\n      <td>2.901677</td>\n      <td>2.372610</td>\n      <td>3.526889</td>\n      <td>2.339386</td>\n      <td>3.226273</td>\n      <td>0.625984</td>\n      <td>0.417858</td>\n      <td>0.589618</td>\n      <td>1.966818</td>\n      <td>1.992873</td>\n    </tr>\n    <tr>\n      <th>same</th>\n      <td>6.407937</td>\n      <td>7.777564</td>\n      <td>7.557049</td>\n      <td>1.179914</td>\n      <td>-0.912198</td>\n      <td>-0.313551</td>\n      <td>-0.530249</td>\n      <td>0.078286</td>\n      <td>0.0</td>\n      <td>-0.112063</td>\n      <td>...</td>\n      <td>3.228087</td>\n      <td>2.393993</td>\n      <td>3.335579</td>\n      <td>2.296313</td>\n      <td>3.358125</td>\n      <td>0.797854</td>\n      <td>0.454663</td>\n      <td>0.808579</td>\n      <td>2.614345</td>\n      <td>1.626720</td>\n    </tr>\n    <tr>\n      <th rowspan=\"4\" valign=\"top\">N</th>\n      <th rowspan=\"2\" valign=\"top\">N</th>\n      <th rowspan=\"2\" valign=\"top\">N</th>\n      <th>diff.</th>\n      <td>6.859689</td>\n      <td>7.881636</td>\n      <td>7.484564</td>\n      <td>1.446187</td>\n      <td>0.631473</td>\n      <td>-0.094925</td>\n      <td>-0.231063</td>\n      <td>-0.089766</td>\n      <td>0.0</td>\n      <td>-2.455696</td>\n      <td>...</td>\n      <td>3.512808</td>\n      <td>2.462260</td>\n      <td>4.261725</td>\n      <td>2.931147</td>\n      <td>2.753458</td>\n      <td>2.077147</td>\n      <td>0.793063</td>\n      <td>1.584786</td>\n      <td>2.214774</td>\n      <td>5.565832</td>\n    </tr>\n    <tr>\n      <th>same</th>\n      <td>6.586905</td>\n      <td>7.845629</td>\n      <td>7.878842</td>\n      <td>1.231723</td>\n      <td>0.600752</td>\n      <td>-0.468628</td>\n      <td>-0.469470</td>\n      <td>0.124161</td>\n      <td>0.0</td>\n      <td>-1.261964</td>\n      <td>...</td>\n      <td>3.676778</td>\n      <td>2.466046</td>\n      <td>3.997968</td>\n      <td>2.895431</td>\n      <td>3.049478</td>\n      <td>2.145024</td>\n      <td>0.615090</td>\n      <td>0.759273</td>\n      <td>2.689716</td>\n      <td>4.531642</td>\n    </tr>\n    <tr>\n      <th rowspan=\"2\" valign=\"top\">Y</th>\n      <th rowspan=\"2\" valign=\"top\">N</th>\n      <th>diff.</th>\n      <td>7.047089</td>\n      <td>8.560939</td>\n      <td>8.267794</td>\n      <td>1.235196</td>\n      <td>0.131989</td>\n      <td>0.000015</td>\n      <td>0.000003</td>\n      <td>-0.012499</td>\n      <td>0.0</td>\n      <td>-2.513345</td>\n      <td>...</td>\n      <td>3.873531</td>\n      <td>2.516873</td>\n      <td>4.294079</td>\n      <td>2.782856</td>\n      <td>2.943407</td>\n      <td>1.014110</td>\n      <td>0.000190</td>\n      <td>2.111165</td>\n      <td>2.373379</td>\n      <td>5.419691</td>\n    </tr>\n    <tr>\n      <th>same</th>\n      <td>6.269022</td>\n      <td>8.559176</td>\n      <td>8.462066</td>\n      <td>1.350015</td>\n      <td>0.304006</td>\n      <td>0.000040</td>\n      <td>0.000021</td>\n      <td>0.002636</td>\n      <td>0.0</td>\n      <td>-1.359048</td>\n      <td>...</td>\n      <td>4.076241</td>\n      <td>2.532753</td>\n      <td>4.025533</td>\n      <td>2.719135</td>\n      <td>3.326416</td>\n      <td>1.225373</td>\n      <td>0.000409</td>\n      <td>1.075197</td>\n      <td>1.285342</td>\n      <td>4.217764</td>\n    </tr>\n  </tbody>\n</table>\n<p>8 rows × 87 columns</p>\n</div>"
     },
     "execution_count": 81,
     "metadata": {},
     "output_type": "execute_result"
    }
   ],
   "source": [
    "dfagg"
   ],
   "metadata": {
    "collapsed": false,
    "ExecuteTime": {
     "end_time": "2024-04-06T21:29:51.718699641Z",
     "start_time": "2024-04-06T21:29:51.694674028Z"
    }
   }
  },
  {
   "cell_type": "code",
   "execution_count": 82,
   "outputs": [],
   "source": [
    "dfagg = dfagg.swaplevel(axis=1).sort_index(axis=1)\n",
    "\n",
    "\n"
   ],
   "metadata": {
    "collapsed": false,
    "ExecuteTime": {
     "end_time": "2024-04-06T21:29:51.718791514Z",
     "start_time": "2024-04-06T21:29:51.718614392Z"
    }
   }
  },
  {
   "cell_type": "code",
   "execution_count": 83,
   "outputs": [],
   "source": [
    "dfagg_max = dfagg.max(axis=0)"
   ],
   "metadata": {
    "collapsed": false,
    "ExecuteTime": {
     "end_time": "2024-04-06T21:29:51.719650200Z",
     "start_time": "2024-04-06T21:29:51.718816758Z"
    }
   }
  },
  {
   "cell_type": "code",
   "execution_count": 84,
   "outputs": [],
   "source": [
    "\n",
    "def bold_formatter(x, val):\n",
    "    if round(x, 1) == round(val, 1):\n",
    "        return r\"\\bfseries \" + f\"{x:.1f}\"\n",
    "    return f\"{x:.1f}\"\n",
    "\n",
    "\n",
    "formatters = {\n",
    "    (c, d): partial(bold_formatter, val=dfagg_max.loc[c, d])\n",
    "    for c, d in dfagg.columns\n",
    "}"
   ],
   "metadata": {
    "collapsed": false,
    "ExecuteTime": {
     "end_time": "2024-04-06T21:29:51.719710742Z",
     "start_time": "2024-04-06T21:29:51.718887300Z"
    }
   }
  },
  {
   "cell_type": "code",
   "execution_count": 85,
   "outputs": [
    {
     "name": "stdout",
     "output_type": "stream",
     "text": [
      "\\begin{tabular}{llllrrrrrrrrrrrrrrrrrrrrrrrrrrrrrrrrrrrrrrrrrrrrrrrrrrrrrrrrrrrrrrrrrrrrrrrrrrrrrrrrrrrrrrr}\n",
      "\\toprule\n",
      " &  &  & stem & \\multicolumn{8}{r}{vocals} & \\multicolumn{8}{r}{drums} & \\multicolumn{8}{r}{bass} & \\multicolumn{8}{r}{guitar} & \\multicolumn{8}{r}{piano} & \\multicolumn{8}{r}{other_keys} & \\multicolumn{8}{r}{bowed_strings} & \\multicolumn{8}{r}{wind} & \\multicolumn{7}{r}{other_plucked} & \\multicolumn{8}{r}{percussion} & \\multicolumn{8}{r}{other} \\\\\n",
      " &  &  &  & 25% & 50% & 75% & count & max & mean & min & std & 25% & 50% & 75% & count & max & mean & min & std & 25% & 50% & 75% & count & max & mean & min & std & 25% & 50% & 75% & count & max & mean & min & std & 25% & 50% & 75% & count & max & mean & min & std & 25% & 50% & 75% & count & max & mean & min & std & 25% & 50% & 75% & count & max & mean & min & std & 25% & 50% & 75% & count & max & mean & min & std & 25% & 50% & 75% & count & max & mean & min & 25% & 50% & 75% & count & max & mean & min & std & 25% & 50% & 75% & count & max & mean & min & std \\\\\n",
      "is_frozen & is_augmented & is_balanced & query_same &  &  &  &  &  &  &  &  &  &  &  &  &  &  &  &  &  &  &  &  &  &  &  &  &  &  &  &  &  &  &  &  &  &  &  &  &  &  &  &  &  &  &  &  &  &  &  &  &  &  &  &  &  &  &  &  &  &  &  &  &  &  &  &  &  &  &  &  &  &  &  &  &  &  &  &  &  &  &  &  &  &  &  &  &  &  &  \\\\\n",
      "\\midrule\n",
      "Y & N & N & diff. & 6.9 & 7.8 & 10.6 & \\bfseries 48.0 & 15.2 & 8.3 & 0.8 & 3.5 & 8.2 & 9.8 & 11.8 & \\bfseries 47.0 & 14.9 & 9.6 & 3.2 & \\bfseries 2.5 & 7.6 & 9.9 & 11.7 & \\bfseries 43.0 & 17.8 & 9.3 & 0.3 & 4.2 & 1.1 & 2.2 & 4.1 & \\bfseries 46.0 & 9.1 & 3.0 & -0.7 & 2.6 & 0.2 & 0.9 & 2.1 & \\bfseries 19.0 & 4.9 & 0.9 & -4.7 & 2.1 & \\bfseries -0.0 & 0.0 & 0.1 & \\bfseries 20.0 & 0.7 & \\bfseries -0.0 & -1.4 & 0.4 & \\bfseries -0.0 & \\bfseries 0.0 & 0.0 & \\bfseries 10.0 & 0.0 & \\bfseries -0.0 & \\bfseries -0.0 & 0.0 & 0.0 & 0.0 & 0.0 & \\bfseries 8.0 & 0.0 & -0.2 & -1.3 & 0.5 & \\bfseries 0.0 & \\bfseries 0.0 & \\bfseries 0.0 & \\bfseries 1.0 & \\bfseries 0.0 & \\bfseries 0.0 & \\bfseries 0.0 & -2.4 & -1.6 & -0.8 & \\bfseries 2.0 & -0.0 & -1.6 & -3.2 & 2.3 & \\bfseries -0.0 & \\bfseries -0.0 & -0.0 & \\bfseries 6.0 & 0.0 & -2.3 & -13.8 & \\bfseries 5.6 \\\\\n",
      " &  &  & same & 6.9 & 8.2 & 10.6 & \\bfseries 48.0 & 15.6 & 8.2 & 0.4 & 3.7 & 8.2 & 9.8 & 11.8 & \\bfseries 47.0 & 14.9 & 9.6 & 3.2 & \\bfseries 2.5 & 8.0 & 9.9 & 11.9 & \\bfseries 43.0 & 17.8 & 9.5 & 0.1 & 4.0 & 1.2 & 2.0 & 4.4 & \\bfseries 46.0 & 9.1 & 2.9 & -0.9 & 2.6 & 0.3 & 0.9 & 2.1 & \\bfseries 19.0 & 5.0 & 0.7 & -6.1 & 2.5 & \\bfseries 0.0 & 0.0 & 0.1 & \\bfseries 20.0 & 0.2 & \\bfseries 0.0 & \\bfseries -0.7 & 0.2 & \\bfseries -0.0 & \\bfseries 0.0 & 0.0 & \\bfseries 10.0 & 0.0 & \\bfseries -0.0 & \\bfseries -0.0 & 0.0 & 0.0 & 0.0 & 0.0 & \\bfseries 8.0 & 0.1 & 0.0 & \\bfseries -0.0 & 0.0 & \\bfseries 0.0 & \\bfseries 0.0 & \\bfseries 0.0 & \\bfseries 1.0 & \\bfseries 0.0 & \\bfseries 0.0 & \\bfseries 0.0 & -1.0 & -0.6 & -0.1 & \\bfseries 2.0 & 0.3 & -0.6 & -1.5 & 1.3 & \\bfseries -0.0 & \\bfseries -0.0 & -0.0 & \\bfseries 6.0 & 0.0 & -1.9 & -11.3 & 4.6 \\\\\n",
      " &  & Y & diff. & 6.7 & 7.3 & 9.9 & \\bfseries 48.0 & 14.4 & 8.0 & \\bfseries 1.2 & 2.9 & 7.8 & 9.0 & 11.0 & \\bfseries 47.0 & 14.1 & 9.0 & 3.0 & 2.4 & 7.5 & 9.0 & 11.2 & \\bfseries 43.0 & 16.4 & 9.1 & \\bfseries 1.8 & 3.5 & 1.1 & 2.2 & 3.9 & \\bfseries 46.0 & 8.7 & 2.7 & -1.0 & 2.3 & -0.2 & 0.8 & 2.0 & \\bfseries 19.0 & 5.0 & 0.3 & -10.2 & 3.2 & -0.1 & 0.2 & 0.3 & \\bfseries 20.0 & 0.7 & \\bfseries 0.0 & -2.2 & 0.6 & -0.2 & -0.1 & \\bfseries 0.1 & \\bfseries 10.0 & 0.2 & -0.2 & -1.0 & 0.4 & 0.0 & 0.2 & 0.9 & \\bfseries 8.0 & 1.3 & 0.4 & -0.2 & 0.6 & \\bfseries 0.0 & \\bfseries 0.0 & \\bfseries 0.0 & \\bfseries 1.0 & \\bfseries 0.0 & \\bfseries 0.0 & \\bfseries 0.0 & -2.1 & -1.4 & -0.7 & \\bfseries 2.0 & -0.0 & -1.4 & -2.8 & 2.0 & -0.2 & -0.1 & -0.0 & \\bfseries 6.0 & 0.0 & -0.9 & -4.9 & 2.0 \\\\\n",
      " &  &  & same & 6.4 & 7.7 & 10.2 & \\bfseries 48.0 & 14.3 & 7.9 & 1.0 & 3.2 & 7.8 & 9.0 & 11.0 & \\bfseries 47.0 & 14.1 & 9.0 & 3.0 & 2.4 & 7.6 & 9.5 & 11.3 & \\bfseries 43.0 & 16.4 & 9.4 & 0.5 & 3.3 & 1.2 & 2.0 & 3.7 & \\bfseries 46.0 & 8.8 & 2.7 & -0.8 & 2.3 & -0.9 & 0.8 & 2.2 & \\bfseries 19.0 & 5.0 & 0.3 & -10.5 & \\bfseries 3.4 & -0.3 & 0.1 & 0.3 & \\bfseries 20.0 & 0.9 & -0.1 & -2.7 & 0.8 & -0.5 & -0.1 & -0.0 & \\bfseries 10.0 & 0.1 & -0.3 & -1.3 & 0.5 & \\bfseries 0.1 & 0.2 & \\bfseries 1.5 & \\bfseries 8.0 & 1.7 & \\bfseries 0.6 & -0.2 & 0.8 & \\bfseries 0.0 & \\bfseries 0.0 & \\bfseries 0.0 & \\bfseries 1.0 & \\bfseries 0.0 & \\bfseries 0.0 & \\bfseries 0.0 & \\bfseries -0.1 & \\bfseries 0.8 & \\bfseries 1.7 & \\bfseries 2.0 & \\bfseries 2.7 & \\bfseries 0.8 & \\bfseries -1.0 & 2.6 & -0.1 & \\bfseries 0.0 & \\bfseries 0.2 & \\bfseries 6.0 & \\bfseries 0.5 & \\bfseries -0.5 & \\bfseries -3.8 & 1.6 \\\\\n",
      "N & N & N & diff. & 6.9 & 8.2 & 10.7 & \\bfseries 48.0 & 15.9 & \\bfseries 8.5 & 0.4 & 3.5 & 7.9 & 9.3 & 11.8 & \\bfseries 47.0 & 14.9 & 9.6 & \\bfseries 4.5 & \\bfseries 2.5 & 7.5 & 9.3 & 11.7 & \\bfseries 43.0 & \\bfseries 18.1 & 9.1 & 0.0 & \\bfseries 4.3 & \\bfseries 1.4 & \\bfseries 2.7 & \\bfseries 5.5 & \\bfseries 46.0 & \\bfseries 10.5 & \\bfseries 3.5 & -2.5 & \\bfseries 2.9 & \\bfseries 0.6 & 2.1 & 3.0 & \\bfseries 19.0 & 9.0 & \\bfseries 1.9 & -4.4 & 2.8 & -0.1 & \\bfseries 0.7 & \\bfseries 1.2 & \\bfseries 20.0 & 1.8 & \\bfseries -0.0 & -5.7 & \\bfseries 2.1 & -0.2 & \\bfseries -0.0 & \\bfseries 0.1 & \\bfseries 10.0 & 0.3 & -0.3 & -2.2 & \\bfseries 0.8 & -0.1 & \\bfseries 0.5 & 0.7 & \\bfseries 8.0 & 1.1 & -0.1 & -3.9 & 1.6 & \\bfseries 0.0 & \\bfseries 0.0 & \\bfseries 0.0 & \\bfseries 1.0 & \\bfseries 0.0 & \\bfseries 0.0 & \\bfseries 0.0 & -2.5 & -1.7 & -0.9 & \\bfseries 2.0 & -0.1 & -1.7 & -3.2 & 2.2 & -0.7 & \\bfseries -0.0 & 0.0 & \\bfseries 6.0 & 0.0 & -2.4 & -13.8 & \\bfseries 5.6 \\\\\n",
      " &  &  & same & 6.6 & \\bfseries 8.3 & 10.7 & \\bfseries 48.0 & 15.9 & 8.3 & 0.3 & 3.7 & 7.8 & 9.3 & 11.8 & \\bfseries 47.0 & 14.9 & 9.6 & \\bfseries 4.5 & \\bfseries 2.5 & 7.9 & 9.3 & 11.7 & \\bfseries 43.0 & \\bfseries 18.1 & 9.3 & 0.1 & 4.0 & 1.2 & 2.6 & 5.1 & \\bfseries 46.0 & \\bfseries 10.5 & 3.4 & -1.2 & \\bfseries 2.9 & \\bfseries 0.6 & \\bfseries 2.4 & \\bfseries 3.3 & \\bfseries 19.0 & 9.2 & \\bfseries 1.9 & -4.4 & 3.0 & -0.5 & 0.1 & 1.1 & \\bfseries 20.0 & \\bfseries 2.7 & -0.2 & -5.3 & \\bfseries 2.1 & -0.5 & \\bfseries -0.0 & \\bfseries 0.1 & \\bfseries 10.0 & \\bfseries 0.4 & -0.2 & -1.6 & 0.6 & \\bfseries 0.1 & 0.2 & 1.2 & \\bfseries 8.0 & 1.8 & \\bfseries 0.6 & -0.1 & 0.8 & \\bfseries 0.0 & \\bfseries 0.0 & \\bfseries 0.0 & \\bfseries 1.0 & \\bfseries 0.0 & \\bfseries 0.0 & \\bfseries 0.0 & -1.3 & -0.3 & 0.6 & \\bfseries 2.0 & 1.6 & -0.3 & -2.2 & \\bfseries 2.7 & -1.0 & -0.2 & -0.0 & \\bfseries 6.0 & 0.0 & -2.1 & -11.3 & 4.5 \\\\\n",
      " & Y & N & diff. & \\bfseries 7.0 & 8.2 & \\bfseries 10.9 & \\bfseries 48.0 & 16.4 & 8.4 & 0.3 & 3.9 & \\bfseries 8.6 & \\bfseries 10.0 & \\bfseries 12.4 & \\bfseries 47.0 & \\bfseries 15.3 & \\bfseries 10.1 & 3.8 & \\bfseries 2.5 & 8.3 & \\bfseries 10.3 & \\bfseries 12.8 & \\bfseries 43.0 & 16.5 & 9.7 & 0.1 & \\bfseries 4.3 & 1.2 & \\bfseries 2.7 & 4.6 & \\bfseries 46.0 & 9.8 & 3.4 & -0.8 & 2.8 & 0.1 & 1.0 & 2.5 & \\bfseries 19.0 & \\bfseries 12.1 & \\bfseries 1.9 & \\bfseries -0.7 & 2.9 & \\bfseries 0.0 & 0.0 & 0.0 & \\bfseries 20.0 & 0.0 & -0.3 & -4.3 & 1.0 & \\bfseries 0.0 & \\bfseries 0.0 & 0.0 & \\bfseries 10.0 & 0.0 & \\bfseries 0.0 & \\bfseries -0.0 & 0.0 & -0.0 & 0.0 & 0.0 & \\bfseries 8.0 & 0.0 & -0.7 & -6.0 & \\bfseries 2.1 & \\bfseries 0.0 & \\bfseries 0.0 & \\bfseries 0.0 & \\bfseries 1.0 & \\bfseries 0.0 & \\bfseries 0.0 & \\bfseries 0.0 & -2.5 & -1.7 & -0.8 & \\bfseries 2.0 & 0.0 & -1.7 & -3.4 & 2.4 & \\bfseries -0.0 & \\bfseries -0.0 & 0.0 & \\bfseries 6.0 & 0.0 & -2.2 & -13.3 & 5.4 \\\\\n",
      " &  &  & same & 6.3 & 8.1 & \\bfseries 10.9 & \\bfseries 48.0 & \\bfseries 16.6 & 8.1 & 0.3 & \\bfseries 4.1 & \\bfseries 8.6 & \\bfseries 10.0 & \\bfseries 12.4 & \\bfseries 47.0 & \\bfseries 15.3 & \\bfseries 10.1 & 3.8 & \\bfseries 2.5 & \\bfseries 8.5 & \\bfseries 10.3 & \\bfseries 12.8 & \\bfseries 43.0 & 16.5 & \\bfseries 9.9 & 0.2 & 4.0 & \\bfseries 1.4 & 2.6 & 4.8 & \\bfseries 46.0 & 9.9 & 3.4 & \\bfseries 0.0 & 2.7 & 0.3 & 1.0 & 2.6 & \\bfseries 19.0 & \\bfseries 12.1 & 1.7 & -5.0 & 3.3 & \\bfseries 0.0 & 0.0 & 0.0 & \\bfseries 20.0 & 0.0 & -0.3 & -5.5 & 1.2 & \\bfseries 0.0 & \\bfseries 0.0 & 0.0 & \\bfseries 10.0 & 0.0 & \\bfseries 0.0 & \\bfseries -0.0 & 0.0 & 0.0 & 0.0 & 0.6 & \\bfseries 8.0 & \\bfseries 2.9 & \\bfseries 0.6 & \\bfseries 0.0 & 1.1 & \\bfseries 0.0 & \\bfseries 0.0 & \\bfseries 0.0 & \\bfseries 1.0 & \\bfseries 0.0 & \\bfseries 0.0 & \\bfseries 0.0 & -1.4 & -0.9 & -0.5 & \\bfseries 2.0 & 0.0 & -0.9 & -1.8 & 1.3 & \\bfseries -0.0 & \\bfseries 0.0 & 0.0 & \\bfseries 6.0 & 0.0 & -1.7 & -10.3 & 4.2 \\\\\n",
      "\\bottomrule\n",
      "\\end{tabular}\n",
      "\n"
     ]
    }
   ],
   "source": [
    "str_ = dfagg.to_latex(\n",
    "    formatters=formatters,\n",
    "    sparsify=True,\n",
    "    multirow=False,\n",
    ")\n",
    "\n",
    "print(str_)"
   ],
   "metadata": {
    "collapsed": false,
    "ExecuteTime": {
     "end_time": "2024-04-06T21:29:51.719783758Z",
     "start_time": "2024-04-06T21:29:51.718927004Z"
    }
   }
  },
  {
   "cell_type": "code",
   "execution_count": 86,
   "outputs": [
    {
     "data": {
      "text/plain": "stem                                          vocals                         \\\n                                                 25%  50%   75% count   max   \nis_frozen is_augmented is_balanced query_same                                 \nY         N            N           diff.         6.9  7.8  10.6  48.0  15.2   \n                                   same          6.9  8.2  10.6  48.0  15.6   \n                       Y           diff.         6.7  7.3   9.9  48.0  14.4   \n                                   same          6.4  7.7  10.2  48.0  14.3   \nN         N            N           diff.         6.9  8.2  10.7  48.0  15.9   \n                                   same          6.6  8.3  10.7  48.0  15.9   \n          Y            N           diff.         7.0  8.2  10.9  48.0  16.4   \n                                   same          6.3  8.1  10.9  48.0  16.6   \n\nstem                                                         drums        ...  \\\n                                              mean  min  std   25%   50%  ...   \nis_frozen is_augmented is_balanced query_same                             ...   \nY         N            N           diff.       8.3  0.8  3.5   8.2   9.8  ...   \n                                   same        8.2  0.4  3.7   8.2   9.8  ...   \n                       Y           diff.       8.0  1.2  2.9   7.8   9.0  ...   \n                                   same        7.9  1.0  3.2   7.8   9.0  ...   \nN         N            N           diff.       8.5  0.4  3.5   7.9   9.3  ...   \n                                   same        8.3  0.3  3.7   7.8   9.3  ...   \n          Y            N           diff.       8.4  0.3  3.9   8.6  10.0  ...   \n                                   same        8.1  0.3  4.1   8.6  10.0  ...   \n\nstem                                          percussion      other            \\\n                                                     min  std   25%  50%  75%   \nis_frozen is_augmented is_balanced query_same                                   \nY         N            N           diff.            -3.2  2.3  -0.0 -0.0 -0.0   \n                                   same             -1.5  1.3  -0.0 -0.0 -0.0   \n                       Y           diff.            -2.8  2.0  -0.2 -0.1 -0.0   \n                                   same             -1.0  2.6  -0.1  0.0  0.2   \nN         N            N           diff.            -3.2  2.2  -0.7 -0.0  0.0   \n                                   same             -2.2  2.7  -1.0 -0.2 -0.0   \n          Y            N           diff.            -3.4  2.4  -0.0 -0.0  0.0   \n                                   same             -1.8  1.3  -0.0  0.0  0.0   \n\nstem                                                                      \n                                              count  max mean   min  std  \nis_frozen is_augmented is_balanced query_same                             \nY         N            N           diff.        6.0  0.0 -2.3 -13.8  5.6  \n                                   same         6.0  0.0 -1.9 -11.3  4.6  \n                       Y           diff.        6.0  0.0 -0.9  -4.9  2.0  \n                                   same         6.0  0.5 -0.5  -3.8  1.6  \nN         N            N           diff.        6.0  0.0 -2.4 -13.8  5.6  \n                                   same         6.0  0.0 -2.1 -11.3  4.5  \n          Y            N           diff.        6.0  0.0 -2.2 -13.3  5.4  \n                                   same         6.0  0.0 -1.7 -10.3  4.2  \n\n[8 rows x 87 columns]",
      "text/html": "<div>\n<style scoped>\n    .dataframe tbody tr th:only-of-type {\n        vertical-align: middle;\n    }\n\n    .dataframe tbody tr th {\n        vertical-align: top;\n    }\n\n    .dataframe thead tr th {\n        text-align: left;\n    }\n\n    .dataframe thead tr:last-of-type th {\n        text-align: right;\n    }\n</style>\n<table border=\"1\" class=\"dataframe\">\n  <thead>\n    <tr>\n      <th></th>\n      <th></th>\n      <th></th>\n      <th>stem</th>\n      <th colspan=\"8\" halign=\"left\">vocals</th>\n      <th colspan=\"2\" halign=\"left\">drums</th>\n      <th>...</th>\n      <th colspan=\"2\" halign=\"left\">percussion</th>\n      <th colspan=\"8\" halign=\"left\">other</th>\n    </tr>\n    <tr>\n      <th></th>\n      <th></th>\n      <th></th>\n      <th></th>\n      <th>25%</th>\n      <th>50%</th>\n      <th>75%</th>\n      <th>count</th>\n      <th>max</th>\n      <th>mean</th>\n      <th>min</th>\n      <th>std</th>\n      <th>25%</th>\n      <th>50%</th>\n      <th>...</th>\n      <th>min</th>\n      <th>std</th>\n      <th>25%</th>\n      <th>50%</th>\n      <th>75%</th>\n      <th>count</th>\n      <th>max</th>\n      <th>mean</th>\n      <th>min</th>\n      <th>std</th>\n    </tr>\n    <tr>\n      <th>is_frozen</th>\n      <th>is_augmented</th>\n      <th>is_balanced</th>\n      <th>query_same</th>\n      <th></th>\n      <th></th>\n      <th></th>\n      <th></th>\n      <th></th>\n      <th></th>\n      <th></th>\n      <th></th>\n      <th></th>\n      <th></th>\n      <th></th>\n      <th></th>\n      <th></th>\n      <th></th>\n      <th></th>\n      <th></th>\n      <th></th>\n      <th></th>\n      <th></th>\n      <th></th>\n      <th></th>\n    </tr>\n  </thead>\n  <tbody>\n    <tr>\n      <th rowspan=\"4\" valign=\"top\">Y</th>\n      <th rowspan=\"4\" valign=\"top\">N</th>\n      <th rowspan=\"2\" valign=\"top\">N</th>\n      <th>diff.</th>\n      <td>6.9</td>\n      <td>7.8</td>\n      <td>10.6</td>\n      <td>48.0</td>\n      <td>15.2</td>\n      <td>8.3</td>\n      <td>0.8</td>\n      <td>3.5</td>\n      <td>8.2</td>\n      <td>9.8</td>\n      <td>...</td>\n      <td>-3.2</td>\n      <td>2.3</td>\n      <td>-0.0</td>\n      <td>-0.0</td>\n      <td>-0.0</td>\n      <td>6.0</td>\n      <td>0.0</td>\n      <td>-2.3</td>\n      <td>-13.8</td>\n      <td>5.6</td>\n    </tr>\n    <tr>\n      <th>same</th>\n      <td>6.9</td>\n      <td>8.2</td>\n      <td>10.6</td>\n      <td>48.0</td>\n      <td>15.6</td>\n      <td>8.2</td>\n      <td>0.4</td>\n      <td>3.7</td>\n      <td>8.2</td>\n      <td>9.8</td>\n      <td>...</td>\n      <td>-1.5</td>\n      <td>1.3</td>\n      <td>-0.0</td>\n      <td>-0.0</td>\n      <td>-0.0</td>\n      <td>6.0</td>\n      <td>0.0</td>\n      <td>-1.9</td>\n      <td>-11.3</td>\n      <td>4.6</td>\n    </tr>\n    <tr>\n      <th rowspan=\"2\" valign=\"top\">Y</th>\n      <th>diff.</th>\n      <td>6.7</td>\n      <td>7.3</td>\n      <td>9.9</td>\n      <td>48.0</td>\n      <td>14.4</td>\n      <td>8.0</td>\n      <td>1.2</td>\n      <td>2.9</td>\n      <td>7.8</td>\n      <td>9.0</td>\n      <td>...</td>\n      <td>-2.8</td>\n      <td>2.0</td>\n      <td>-0.2</td>\n      <td>-0.1</td>\n      <td>-0.0</td>\n      <td>6.0</td>\n      <td>0.0</td>\n      <td>-0.9</td>\n      <td>-4.9</td>\n      <td>2.0</td>\n    </tr>\n    <tr>\n      <th>same</th>\n      <td>6.4</td>\n      <td>7.7</td>\n      <td>10.2</td>\n      <td>48.0</td>\n      <td>14.3</td>\n      <td>7.9</td>\n      <td>1.0</td>\n      <td>3.2</td>\n      <td>7.8</td>\n      <td>9.0</td>\n      <td>...</td>\n      <td>-1.0</td>\n      <td>2.6</td>\n      <td>-0.1</td>\n      <td>0.0</td>\n      <td>0.2</td>\n      <td>6.0</td>\n      <td>0.5</td>\n      <td>-0.5</td>\n      <td>-3.8</td>\n      <td>1.6</td>\n    </tr>\n    <tr>\n      <th rowspan=\"4\" valign=\"top\">N</th>\n      <th rowspan=\"2\" valign=\"top\">N</th>\n      <th rowspan=\"2\" valign=\"top\">N</th>\n      <th>diff.</th>\n      <td>6.9</td>\n      <td>8.2</td>\n      <td>10.7</td>\n      <td>48.0</td>\n      <td>15.9</td>\n      <td>8.5</td>\n      <td>0.4</td>\n      <td>3.5</td>\n      <td>7.9</td>\n      <td>9.3</td>\n      <td>...</td>\n      <td>-3.2</td>\n      <td>2.2</td>\n      <td>-0.7</td>\n      <td>-0.0</td>\n      <td>0.0</td>\n      <td>6.0</td>\n      <td>0.0</td>\n      <td>-2.4</td>\n      <td>-13.8</td>\n      <td>5.6</td>\n    </tr>\n    <tr>\n      <th>same</th>\n      <td>6.6</td>\n      <td>8.3</td>\n      <td>10.7</td>\n      <td>48.0</td>\n      <td>15.9</td>\n      <td>8.3</td>\n      <td>0.3</td>\n      <td>3.7</td>\n      <td>7.8</td>\n      <td>9.3</td>\n      <td>...</td>\n      <td>-2.2</td>\n      <td>2.7</td>\n      <td>-1.0</td>\n      <td>-0.2</td>\n      <td>-0.0</td>\n      <td>6.0</td>\n      <td>0.0</td>\n      <td>-2.1</td>\n      <td>-11.3</td>\n      <td>4.5</td>\n    </tr>\n    <tr>\n      <th rowspan=\"2\" valign=\"top\">Y</th>\n      <th rowspan=\"2\" valign=\"top\">N</th>\n      <th>diff.</th>\n      <td>7.0</td>\n      <td>8.2</td>\n      <td>10.9</td>\n      <td>48.0</td>\n      <td>16.4</td>\n      <td>8.4</td>\n      <td>0.3</td>\n      <td>3.9</td>\n      <td>8.6</td>\n      <td>10.0</td>\n      <td>...</td>\n      <td>-3.4</td>\n      <td>2.4</td>\n      <td>-0.0</td>\n      <td>-0.0</td>\n      <td>0.0</td>\n      <td>6.0</td>\n      <td>0.0</td>\n      <td>-2.2</td>\n      <td>-13.3</td>\n      <td>5.4</td>\n    </tr>\n    <tr>\n      <th>same</th>\n      <td>6.3</td>\n      <td>8.1</td>\n      <td>10.9</td>\n      <td>48.0</td>\n      <td>16.6</td>\n      <td>8.1</td>\n      <td>0.3</td>\n      <td>4.1</td>\n      <td>8.6</td>\n      <td>10.0</td>\n      <td>...</td>\n      <td>-1.8</td>\n      <td>1.3</td>\n      <td>-0.0</td>\n      <td>0.0</td>\n      <td>0.0</td>\n      <td>6.0</td>\n      <td>0.0</td>\n      <td>-1.7</td>\n      <td>-10.3</td>\n      <td>4.2</td>\n    </tr>\n  </tbody>\n</table>\n<p>8 rows × 87 columns</p>\n</div>"
     },
     "execution_count": 86,
     "metadata": {},
     "output_type": "execute_result"
    }
   ],
   "source": [
    "dfagg.round(1)"
   ],
   "metadata": {
    "collapsed": false,
    "ExecuteTime": {
     "end_time": "2024-04-06T21:29:51.741686854Z",
     "start_time": "2024-04-06T21:29:51.729875949Z"
    }
   }
  }
 ],
 "metadata": {
  "kernelspec": {
   "display_name": "Python 3",
   "language": "python",
   "name": "python3"
  },
  "language_info": {
   "codemirror_mode": {
    "name": "ipython",
    "version": 2
   },
   "file_extension": ".py",
   "mimetype": "text/x-python",
   "name": "python",
   "nbconvert_exporter": "python",
   "pygments_lexer": "ipython2",
   "version": "2.7.6"
  }
 },
 "nbformat": 4,
 "nbformat_minor": 0
}
