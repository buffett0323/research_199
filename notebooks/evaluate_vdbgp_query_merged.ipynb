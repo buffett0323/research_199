{
 "cells": [
  {
   "cell_type": "code",
   "execution_count": 136,
   "metadata": {
    "collapsed": true,
    "ExecuteTime": {
     "end_time": "2024-04-08T03:27:22.463291025Z",
     "start_time": "2024-04-08T03:27:21.804577925Z"
    }
   },
   "outputs": [],
   "source": [
    "from functools import partial\n",
    "from itertools import chain\n",
    "\n",
    "import librosa.effects\n",
    "import numpy as np\n",
    "import pandas as pd\n",
    "import soundfile as sf\n",
    "\n",
    "import os\n",
    "\n",
    "from ipywidgets import Audio\n",
    "from matplotlib import pyplot as plt\n",
    "from tqdm.contrib.concurrent import process_map\n",
    "from tqdm.notebook import tqdm\n",
    "\n",
    "import librosa"
   ]
  },
  {
   "cell_type": "code",
   "execution_count": 137,
   "outputs": [],
   "source": [
    "INFERENCE_ROOT = \"/home/kwatchar3/Documents/data/moisesdb/\"\n",
    "STEM_SETUP = \"vdbgp\"\n",
    "GROUND_TRUTH_ROOT = \"/home/kwatchar3/Documents/data/moisesdb\""
   ],
   "metadata": {
    "collapsed": false,
    "ExecuteTime": {
     "end_time": "2024-04-08T03:27:22.819795518Z",
     "start_time": "2024-04-08T03:27:21.825764983Z"
    }
   }
  },
  {
   "cell_type": "code",
   "execution_count": 138,
   "outputs": [],
   "source": [
    "variants = [\n",
    "    \"vdbgp-d-pre\",\n",
    "    \"vdbgp-d-prefz\",\n",
    "    \"vdbgp-d-pre-aug\",\n",
    "    \"vdbgp-d-pre-bal\",\n",
    "    \"vdbgp-d-prefz-bal\",\n",
    "    \"vdbgp-d-pre-aug-bal\",\n",
    "]\n",
    "\n"
   ],
   "metadata": {
    "collapsed": false,
    "ExecuteTime": {
     "end_time": "2024-04-08T03:27:23.096195802Z",
     "start_time": "2024-04-08T03:27:21.845800294Z"
    }
   }
  },
  {
   "cell_type": "code",
   "execution_count": 139,
   "outputs": [],
   "source": [
    "gt_files = os.listdir(os.path.join(GROUND_TRUTH_ROOT, \"npy2\"))"
   ],
   "metadata": {
    "collapsed": false,
    "ExecuteTime": {
     "end_time": "2024-04-08T03:27:23.121507905Z",
     "start_time": "2024-04-08T03:27:21.888901596Z"
    }
   }
  },
  {
   "cell_type": "code",
   "execution_count": 140,
   "outputs": [],
   "source": [
    "def snr(gt, est):\n",
    "    return 10 * np.log10(np.sum(np.square(gt)) / np.sum(np.square(gt - est)))"
   ],
   "metadata": {
    "collapsed": false,
    "ExecuteTime": {
     "end_time": "2024-04-08T03:27:23.123671211Z",
     "start_time": "2024-04-08T03:27:21.889395404Z"
    }
   }
  },
  {
   "cell_type": "code",
   "execution_count": 141,
   "outputs": [],
   "source": [
    "allowed_stems = {\n",
    "    \"vocals\": [\n",
    "        \"lead_female_singer\",\n",
    "        \"lead_male_singer\",\n",
    "    ],\n",
    "    \"drums\": [\n",
    "        \"drums\",\n",
    "    ],\n",
    "    \"bass\": [\n",
    "        \"bass_guitar\",\n",
    "        # \"bass_synthesizer\",\n",
    "    ],\n",
    "    \"guitar\": [\n",
    "        \"acoustic_guitar\",\n",
    "        \"clean_electric_guitar\",\n",
    "        \"distorted_electric_guitar\",\n",
    "    ],\n",
    "    \"piano\": [\n",
    "        \"grand_piano\",\n",
    "        \"electric_piano\",\n",
    "    ],\n",
    "}\n"
   ],
   "metadata": {
    "collapsed": false,
    "ExecuteTime": {
     "end_time": "2024-04-08T03:27:23.174102041Z",
     "start_time": "2024-04-08T03:27:21.896106983Z"
    }
   }
  },
  {
   "cell_type": "code",
   "execution_count": 142,
   "outputs": [],
   "source": [
    "def get_results_for_song(inputs):\n",
    "\n",
    "    song_name, inference_mode, variant = inputs\n",
    "\n",
    "    stems = os.listdir(os.path.join(INFERENCE_ROOT, inference_mode, STEM_SETUP, variant, \"audio\", song_name))\n",
    "    stems = [s.replace(\".wav\", \"\") for s in stems]\n",
    "\n",
    "    results = []\n",
    "\n",
    "    for coarse_stem in allowed_stems:\n",
    "\n",
    "        coarse_pred = []\n",
    "        coarse_true = []\n",
    "\n",
    "        has_gt = False\n",
    "        for stem in allowed_stems[coarse_stem]:\n",
    "            stem_has_gt = False\n",
    "            npy_path = os.path.join(GROUND_TRUTH_ROOT, \"npy2\", song_name, f\"{stem}.npy\")\n",
    "            if os.path.exists(npy_path):\n",
    "                audio = np.load(npy_path, mmap_mode=\"r\")\n",
    "                coarse_true.append(audio)\n",
    "                has_gt = True\n",
    "                stem_has_gt = True\n",
    "            else:\n",
    "                # print(\"!!!!!!!!!!!!!!!!!!!!!!!!!!!!!!!!!!!!!!!!!!!!!!!!!!!!!!!\")\n",
    "                # print(f\"Ground truth not found for {song_name}/{stem}. Using zeros.\")\n",
    "                # print(\"!!!!!!!!!!!!!!!!!!!!!!!!!!!!!!!!!!!!!!!!!!!!!!!!!!!!!!!\")\n",
    "                pass\n",
    "\n",
    "\n",
    "\n",
    "            audio_path = os.path.join(INFERENCE_ROOT, inference_mode, STEM_SETUP, variant, \"audio\", song_name, f\"{stem}.wav\")\n",
    "            if os.path.exists(audio_path):\n",
    "                audio, sr = sf.read(audio_path)\n",
    "                audio = audio.T\n",
    "                coarse_pred.append(audio)\n",
    "            else:\n",
    "                if stem_has_gt:\n",
    "                    print(\"******************************************************\")\n",
    "                # print(\"!!!!!!!!!!!!!!!!!!!!!!!!!!!!!!!!!!!!!!!!!!!!!!!!!!!!!!!\")\n",
    "                    print(f\"Prediction not found for {song_name}/{stem}. Using zeros.\")\n",
    "                    print(\"******************************************************\")\n",
    "                # print(\"!!!!!!!!!!!!!!!!!!!!!!!!!!!!!!!!!!!!!!!!!!!!!!!!!!!!!!!\")\n",
    "\n",
    "        if not has_gt:\n",
    "            # print(\"!!!!!!!!!!!!!!!!!!!!!!!!!!!!!!!!!!!!!!!!!!!!!!!!!!!!!!\")\n",
    "            # print(f\"No ground truth found for {song_name} - {coarse_stem}. Skipping.\")\n",
    "            # print(\"!!!!!!!!!!!!!!!!!!!!!!!!!!!!!!!!!!!!!!!!!!!!!!!!!!!!!!\")\n",
    "            continue\n",
    "\n",
    "        coarse_true_path = os.path.join(GROUND_TRUTH_ROOT, \"npy2\", song_name, f\"{coarse_stem}.npy\")\n",
    "\n",
    "        if os.path.exists(coarse_true_path):\n",
    "            coarse_true_ = np.load(coarse_true_path, mmap_mode=\"r\")\n",
    "        else:\n",
    "            coarse_true_ = sum(coarse_true)\n",
    "\n",
    "        coarse_pred = sum(coarse_pred)\n",
    "\n",
    "        snr_full = snr(coarse_true_, coarse_pred)\n",
    "\n",
    "        results.append({\n",
    "            \"song\": song_name,\n",
    "            \"stem\": coarse_stem,\n",
    "            \"snr\": snr_full,\n",
    "            \"variant\": variant,\n",
    "            \"inference_mode\": inference_mode,\n",
    "        })\n",
    "\n",
    "\n",
    "        if coarse_stem == \"vocals\":\n",
    "            coarse_true_ = sum(coarse_true)\n",
    "            snr_full = snr(coarse_true_, coarse_pred)\n",
    "\n",
    "            results.append({\n",
    "                \"song\": song_name,\n",
    "                \"stem\": \"lead_vocals\",\n",
    "                \"snr\": snr_full,\n",
    "                \"variant\": variant,\n",
    "                \"inference_mode\": inference_mode,\n",
    "            })\n",
    "\n",
    "    return results\n"
   ],
   "metadata": {
    "collapsed": false,
    "ExecuteTime": {
     "end_time": "2024-04-08T03:27:23.178383787Z",
     "start_time": "2024-04-08T03:27:21.913712249Z"
    }
   }
  },
  {
   "cell_type": "code",
   "execution_count": 143,
   "outputs": [
    {
     "name": "stdout",
     "output_type": "stream",
     "text": [
      "Processing vdbgp-d-pre...\n"
     ]
    },
    {
     "data": {
      "text/plain": "  0%|          | 0/48 [00:00<?, ?it/s]",
      "application/vnd.jupyter.widget-view+json": {
       "version_major": 2,
       "version_minor": 0,
       "model_id": "5b8170e0194e4e4e8e30271fbfaebd63"
      }
     },
     "metadata": {},
     "output_type": "display_data"
    },
    {
     "name": "stdout",
     "output_type": "stream",
     "text": [
      "Processing vdbgp-d-prefz...\n"
     ]
    },
    {
     "data": {
      "text/plain": "  0%|          | 0/48 [00:00<?, ?it/s]",
      "application/vnd.jupyter.widget-view+json": {
       "version_major": 2,
       "version_minor": 0,
       "model_id": "5b5baf395b8f4048867a256c2541400c"
      }
     },
     "metadata": {},
     "output_type": "display_data"
    },
    {
     "name": "stdout",
     "output_type": "stream",
     "text": [
      "Processing vdbgp-d-pre-aug...\n"
     ]
    },
    {
     "data": {
      "text/plain": "  0%|          | 0/48 [00:00<?, ?it/s]",
      "application/vnd.jupyter.widget-view+json": {
       "version_major": 2,
       "version_minor": 0,
       "model_id": "de83c79054f34ec4993c15a0944f43cf"
      }
     },
     "metadata": {},
     "output_type": "display_data"
    },
    {
     "name": "stdout",
     "output_type": "stream",
     "text": [
      "Processing vdbgp-d-pre-bal...\n"
     ]
    },
    {
     "data": {
      "text/plain": "  0%|          | 0/48 [00:00<?, ?it/s]",
      "application/vnd.jupyter.widget-view+json": {
       "version_major": 2,
       "version_minor": 0,
       "model_id": "8a7c73db6c514f4a8da5dd651be2eeea"
      }
     },
     "metadata": {},
     "output_type": "display_data"
    },
    {
     "name": "stdout",
     "output_type": "stream",
     "text": [
      "Processing vdbgp-d-prefz-bal...\n"
     ]
    },
    {
     "data": {
      "text/plain": "  0%|          | 0/48 [00:00<?, ?it/s]",
      "application/vnd.jupyter.widget-view+json": {
       "version_major": 2,
       "version_minor": 0,
       "model_id": "136916cba86f4ceba678a7732114671b"
      }
     },
     "metadata": {},
     "output_type": "display_data"
    },
    {
     "name": "stdout",
     "output_type": "stream",
     "text": [
      "Processing vdbgp-d-pre-aug-bal...\n"
     ]
    },
    {
     "data": {
      "text/plain": "  0%|          | 0/48 [00:00<?, ?it/s]",
      "application/vnd.jupyter.widget-view+json": {
       "version_major": 2,
       "version_minor": 0,
       "model_id": "153a482b3d91442d84b7bff4e4e8415f"
      }
     },
     "metadata": {},
     "output_type": "display_data"
    },
    {
     "name": "stdout",
     "output_type": "stream",
     "text": [
      "Processing vdbgp-d-pre...\n"
     ]
    },
    {
     "data": {
      "text/plain": "  0%|          | 0/48 [00:00<?, ?it/s]",
      "application/vnd.jupyter.widget-view+json": {
       "version_major": 2,
       "version_minor": 0,
       "model_id": "29ba9ed7f80d48a8805503cfeb71f4fa"
      }
     },
     "metadata": {},
     "output_type": "display_data"
    },
    {
     "name": "stdout",
     "output_type": "stream",
     "text": [
      "Processing vdbgp-d-prefz...\n"
     ]
    },
    {
     "data": {
      "text/plain": "  0%|          | 0/48 [00:00<?, ?it/s]",
      "application/vnd.jupyter.widget-view+json": {
       "version_major": 2,
       "version_minor": 0,
       "model_id": "3a75ba83919b45c6b3b5feedcf79fcb5"
      }
     },
     "metadata": {},
     "output_type": "display_data"
    },
    {
     "name": "stdout",
     "output_type": "stream",
     "text": [
      "Processing vdbgp-d-pre-aug...\n"
     ]
    },
    {
     "data": {
      "text/plain": "  0%|          | 0/48 [00:00<?, ?it/s]",
      "application/vnd.jupyter.widget-view+json": {
       "version_major": 2,
       "version_minor": 0,
       "model_id": "fa88c1b9ea2848428077f97c365d3587"
      }
     },
     "metadata": {},
     "output_type": "display_data"
    },
    {
     "name": "stdout",
     "output_type": "stream",
     "text": [
      "Processing vdbgp-d-pre-bal...\n"
     ]
    },
    {
     "data": {
      "text/plain": "  0%|          | 0/48 [00:00<?, ?it/s]",
      "application/vnd.jupyter.widget-view+json": {
       "version_major": 2,
       "version_minor": 0,
       "model_id": "f627cfd2e4b24a7fb74b8a2bb0af7311"
      }
     },
     "metadata": {},
     "output_type": "display_data"
    },
    {
     "name": "stdout",
     "output_type": "stream",
     "text": [
      "Processing vdbgp-d-prefz-bal...\n"
     ]
    },
    {
     "data": {
      "text/plain": "  0%|          | 0/48 [00:00<?, ?it/s]",
      "application/vnd.jupyter.widget-view+json": {
       "version_major": 2,
       "version_minor": 0,
       "model_id": "b9c290d3ae444832b6aaf0b36dd9f143"
      }
     },
     "metadata": {},
     "output_type": "display_data"
    },
    {
     "name": "stdout",
     "output_type": "stream",
     "text": [
      "Processing vdbgp-d-pre-aug-bal...\n"
     ]
    },
    {
     "data": {
      "text/plain": "  0%|          | 0/48 [00:00<?, ?it/s]",
      "application/vnd.jupyter.widget-view+json": {
       "version_major": 2,
       "version_minor": 0,
       "model_id": "b1cd62d5a79b4c5da0c9b0fe0c6df0ef"
      }
     },
     "metadata": {},
     "output_type": "display_data"
    }
   ],
   "source": [
    "\n",
    "df = []\n",
    "\n",
    "for inference_mode in [\"inference-d\", \"inference-o\"]:\n",
    "\n",
    "    for v in variants:\n",
    "        print(f\"Processing {v}...\")\n",
    "\n",
    "        test_files = os.listdir(os.path.join(INFERENCE_ROOT, inference_mode, STEM_SETUP, v, \"audio\"))\n",
    "\n",
    "        # for song in tqdm(test_files):\n",
    "        #     results = get_results_for_song(song, inference_mode, v)\n",
    "        #     df.extend(results)\n",
    "\n",
    "        inputs = [(song, inference_mode, v) for song in test_files]\n",
    "\n",
    "        results = process_map(get_results_for_song, inputs, max_workers=16)\n",
    "        results = list(chain(*results))\n",
    "\n",
    "        df.extend(results)\n",
    "\n",
    "\n",
    "df = pd.DataFrame(df)"
   ],
   "metadata": {
    "collapsed": false,
    "ExecuteTime": {
     "end_time": "2024-04-08T03:34:42.863552885Z",
     "start_time": "2024-04-08T03:27:21.974398174Z"
    }
   }
  },
  {
   "cell_type": "markdown",
   "source": [],
   "metadata": {
    "collapsed": false
   }
  },
  {
   "cell_type": "code",
   "execution_count": 144,
   "outputs": [
    {
     "data": {
      "text/plain": "                                      song         stem        snr  \\\n0     704f1de9-1d02-4c2b-af05-107a7700a51d       vocals   7.440387   \n1     704f1de9-1d02-4c2b-af05-107a7700a51d  lead_vocals   7.361787   \n2     704f1de9-1d02-4c2b-af05-107a7700a51d        drums  12.501521   \n3     704f1de9-1d02-4c2b-af05-107a7700a51d         bass   9.033754   \n4     704f1de9-1d02-4c2b-af05-107a7700a51d       guitar   1.717476   \n...                                    ...          ...        ...   \n3007  1f98fe4d-26c7-460f-9f68-33964bc4d8d3       vocals   1.829890   \n3008  1f98fe4d-26c7-460f-9f68-33964bc4d8d3  lead_vocals   1.847866   \n3009  1f98fe4d-26c7-460f-9f68-33964bc4d8d3        drums  10.670884   \n3010  1f98fe4d-26c7-460f-9f68-33964bc4d8d3         bass   8.909531   \n3011  1f98fe4d-26c7-460f-9f68-33964bc4d8d3       guitar   4.498278   \n\n                  variant inference_mode  \n0             vdbgp-d-pre    inference-d  \n1             vdbgp-d-pre    inference-d  \n2             vdbgp-d-pre    inference-d  \n3             vdbgp-d-pre    inference-d  \n4             vdbgp-d-pre    inference-d  \n...                   ...            ...  \n3007  vdbgp-d-pre-aug-bal    inference-o  \n3008  vdbgp-d-pre-aug-bal    inference-o  \n3009  vdbgp-d-pre-aug-bal    inference-o  \n3010  vdbgp-d-pre-aug-bal    inference-o  \n3011  vdbgp-d-pre-aug-bal    inference-o  \n\n[3012 rows x 5 columns]",
      "text/html": "<div>\n<style scoped>\n    .dataframe tbody tr th:only-of-type {\n        vertical-align: middle;\n    }\n\n    .dataframe tbody tr th {\n        vertical-align: top;\n    }\n\n    .dataframe thead th {\n        text-align: right;\n    }\n</style>\n<table border=\"1\" class=\"dataframe\">\n  <thead>\n    <tr style=\"text-align: right;\">\n      <th></th>\n      <th>song</th>\n      <th>stem</th>\n      <th>snr</th>\n      <th>variant</th>\n      <th>inference_mode</th>\n    </tr>\n  </thead>\n  <tbody>\n    <tr>\n      <th>0</th>\n      <td>704f1de9-1d02-4c2b-af05-107a7700a51d</td>\n      <td>vocals</td>\n      <td>7.440387</td>\n      <td>vdbgp-d-pre</td>\n      <td>inference-d</td>\n    </tr>\n    <tr>\n      <th>1</th>\n      <td>704f1de9-1d02-4c2b-af05-107a7700a51d</td>\n      <td>lead_vocals</td>\n      <td>7.361787</td>\n      <td>vdbgp-d-pre</td>\n      <td>inference-d</td>\n    </tr>\n    <tr>\n      <th>2</th>\n      <td>704f1de9-1d02-4c2b-af05-107a7700a51d</td>\n      <td>drums</td>\n      <td>12.501521</td>\n      <td>vdbgp-d-pre</td>\n      <td>inference-d</td>\n    </tr>\n    <tr>\n      <th>3</th>\n      <td>704f1de9-1d02-4c2b-af05-107a7700a51d</td>\n      <td>bass</td>\n      <td>9.033754</td>\n      <td>vdbgp-d-pre</td>\n      <td>inference-d</td>\n    </tr>\n    <tr>\n      <th>4</th>\n      <td>704f1de9-1d02-4c2b-af05-107a7700a51d</td>\n      <td>guitar</td>\n      <td>1.717476</td>\n      <td>vdbgp-d-pre</td>\n      <td>inference-d</td>\n    </tr>\n    <tr>\n      <th>...</th>\n      <td>...</td>\n      <td>...</td>\n      <td>...</td>\n      <td>...</td>\n      <td>...</td>\n    </tr>\n    <tr>\n      <th>3007</th>\n      <td>1f98fe4d-26c7-460f-9f68-33964bc4d8d3</td>\n      <td>vocals</td>\n      <td>1.829890</td>\n      <td>vdbgp-d-pre-aug-bal</td>\n      <td>inference-o</td>\n    </tr>\n    <tr>\n      <th>3008</th>\n      <td>1f98fe4d-26c7-460f-9f68-33964bc4d8d3</td>\n      <td>lead_vocals</td>\n      <td>1.847866</td>\n      <td>vdbgp-d-pre-aug-bal</td>\n      <td>inference-o</td>\n    </tr>\n    <tr>\n      <th>3009</th>\n      <td>1f98fe4d-26c7-460f-9f68-33964bc4d8d3</td>\n      <td>drums</td>\n      <td>10.670884</td>\n      <td>vdbgp-d-pre-aug-bal</td>\n      <td>inference-o</td>\n    </tr>\n    <tr>\n      <th>3010</th>\n      <td>1f98fe4d-26c7-460f-9f68-33964bc4d8d3</td>\n      <td>bass</td>\n      <td>8.909531</td>\n      <td>vdbgp-d-pre-aug-bal</td>\n      <td>inference-o</td>\n    </tr>\n    <tr>\n      <th>3011</th>\n      <td>1f98fe4d-26c7-460f-9f68-33964bc4d8d3</td>\n      <td>guitar</td>\n      <td>4.498278</td>\n      <td>vdbgp-d-pre-aug-bal</td>\n      <td>inference-o</td>\n    </tr>\n  </tbody>\n</table>\n<p>3012 rows × 5 columns</p>\n</div>"
     },
     "execution_count": 144,
     "metadata": {},
     "output_type": "execute_result"
    }
   ],
   "source": [
    "df"
   ],
   "metadata": {
    "collapsed": false,
    "ExecuteTime": {
     "end_time": "2024-04-08T03:34:42.869387991Z",
     "start_time": "2024-04-08T03:34:42.867786922Z"
    }
   }
  },
  {
   "cell_type": "code",
   "execution_count": 145,
   "outputs": [],
   "source": [
    "df[\"snr\"] = df[\"snr\"].replace(-np.inf, np.nan)"
   ],
   "metadata": {
    "collapsed": false,
    "ExecuteTime": {
     "end_time": "2024-04-08T03:34:42.871766993Z",
     "start_time": "2024-04-08T03:34:42.870625737Z"
    }
   }
  },
  {
   "cell_type": "code",
   "execution_count": 146,
   "outputs": [],
   "source": [
    "df.to_csv(os.path.join(INFERENCE_ROOT, \"bandit_vdbgp_merged.csv\"), index=False)"
   ],
   "metadata": {
    "collapsed": false,
    "ExecuteTime": {
     "end_time": "2024-04-08T03:34:42.944864233Z",
     "start_time": "2024-04-08T03:34:42.873300499Z"
    }
   }
  },
  {
   "cell_type": "code",
   "execution_count": 159,
   "outputs": [],
   "source": [
    "df = pd.read_csv(os.path.join(INFERENCE_ROOT, \"bandit_vdbgp_merged.csv\"))\n",
    "\n",
    "stem_dtype = pd.CategoricalDtype(categories=[\"vocals\",\n",
    "                                             \"lead_vocals\",\n",
    "                                             \"drums\",\n",
    "                                             \"bass\",\n",
    "                                             \"guitar\",\n",
    "                                             \"piano\"], ordered=True)\n",
    "df[\"stem\"] = df[\"stem\"].astype(stem_dtype)\n",
    "\n",
    "bool_dtype = pd.CategoricalDtype(categories=[\"Y\", \"N\"], ordered=True)\n",
    "ibool_dtype = pd.CategoricalDtype(categories=[\"N\", \"Y\"], ordered=True)\n",
    "\n",
    "df[\"is_frozen\"] = df[\"variant\"].str.contains(\"prefz\").apply(lambda x: \"Y\" if x else \"N\").astype(bool_dtype)\n",
    "df[\"is_balanced\"] = df[\"variant\"].str.contains(\"bal\").apply(lambda x: \"Y\" if x else \"N\").astype(ibool_dtype)\n",
    "df[\"is_augmented\"] = df[\"variant\"].str.contains(\"aug\").apply(lambda x: \"Y\" if x else \"N\").astype(ibool_dtype)\n",
    "df[\"query_same\"] = df[\"inference_mode\"].str.contains(\"-o\").apply(lambda x: \"same\" if x else \"diff.\")"
   ],
   "metadata": {
    "collapsed": false,
    "ExecuteTime": {
     "end_time": "2024-04-08T03:37:52.508353135Z",
     "start_time": "2024-04-08T03:37:52.499885639Z"
    }
   }
  },
  {
   "cell_type": "code",
   "execution_count": 160,
   "outputs": [
    {
     "name": "stderr",
     "output_type": "stream",
     "text": [
      "/tmp/ipykernel_1105917/312569495.py:10: FutureWarning: The default of observed=False is deprecated and will be changed to True in a future version of pandas. Pass observed=False to retain current behavior or observed=True to adopt the future default and silence this warning.\n",
      "  dfagg = df.groupby([\n"
     ]
    }
   ],
   "source": [
    "def q25(x):\n",
    "    return x.quantile(0.25)\n",
    "\n",
    "def q75(x):\n",
    "    return x.quantile(0.75)\n",
    "\n",
    "def q50(x):\n",
    "    return x.quantile(0.5)\n",
    "\n",
    "dfagg = df.groupby([\n",
    "    \"is_frozen\",\n",
    "    \"is_augmented\",\n",
    "    \"is_balanced\",\n",
    "    \"query_same\",\n",
    "    \"stem\"\n",
    "]).agg({\"snr\": [q50]})\n",
    "dfagg.columns = [\"q50\"]\n",
    "dfagg = dfagg.reset_index()\n",
    "\n",
    "dfagg = dfagg[dfagg.query_same == \"diff.\"]\n",
    "\n",
    "dfagg = dfagg.reset_index().pivot_table(\n",
    "    index=[\"is_frozen\", \"is_augmented\", \"is_balanced\",],\n",
    "    columns=\"stem\",\n",
    "    values=[\"q50\"]\n",
    ")\n"
   ],
   "metadata": {
    "collapsed": false,
    "ExecuteTime": {
     "end_time": "2024-04-08T03:37:54.362047819Z",
     "start_time": "2024-04-08T03:37:54.341085329Z"
    }
   }
  },
  {
   "cell_type": "code",
   "execution_count": 161,
   "outputs": [],
   "source": [
    "dfagg = dfagg.swaplevel(axis=1).sort_index(axis=1)\n",
    "dfagg_max = dfagg.max(axis=0)\n",
    "\n",
    "\n",
    "def bold_formatter(x, val):\n",
    "    if round(x, 1) == round(val, 1):\n",
    "        return r\"\\bfseries \" + f\"{x:.1f}\"\n",
    "    return f\"{x:.1f}\"\n",
    "\n",
    "formatters = {\n",
    "    (c, d): partial(bold_formatter, val=dfagg_max.loc[c, d])\n",
    "    for c, d in dfagg.columns\n",
    "}\n"
   ],
   "metadata": {
    "collapsed": false,
    "ExecuteTime": {
     "end_time": "2024-04-08T03:37:56.193055703Z",
     "start_time": "2024-04-08T03:37:56.192110776Z"
    }
   }
  },
  {
   "cell_type": "code",
   "execution_count": 162,
   "outputs": [
    {
     "name": "stdout",
     "output_type": "stream",
     "text": [
      "\\begin{tabular}{lllrrrrrr}\n",
      "\\toprule\n",
      " &  & stem & vocals & lead_vocals & drums & bass & guitar & piano \\\\\n",
      " &  &  & q50 & q50 & q50 & q50 & q50 & q50 \\\\\n",
      "is_frozen & is_augmented & is_balanced &  &  &  &  &  &  \\\\\n",
      "\\midrule\n",
      "Y & N & N & \\bfseries 8.0 & 7.9 & 9.8 & 10.5 & 2.3 & 0.8 \\\\\n",
      " &  & Y & 7.9 & 7.7 & 9.6 & 10.5 & 2.2 & 0.9 \\\\\n",
      "N & N & N & 7.4 & \\bfseries 8.0 & 9.6 & 10.6 & 3.0 & 2.3 \\\\\n",
      " &  & Y & 7.6 & 7.7 & 9.3 & 10.2 & 2.9 & \\bfseries 2.5 \\\\\n",
      " & Y & N & 7.8 & 7.9 & \\bfseries 10.1 & 10.9 & 3.2 & 2.2 \\\\\n",
      " &  & Y & 7.6 & 7.9 & 9.5 & \\bfseries 11.0 & \\bfseries 3.3 & \\bfseries 2.5 \\\\\n",
      "\\bottomrule\n",
      "\\end{tabular}\n",
      "\n"
     ]
    }
   ],
   "source": [
    "str_ = dfagg.to_latex(\n",
    "    formatters=formatters,\n",
    "    sparsify=True,\n",
    "    multirow=False,\n",
    ")\n",
    "\n",
    "print(str_)"
   ],
   "metadata": {
    "collapsed": false,
    "ExecuteTime": {
     "end_time": "2024-04-08T03:37:58.124136743Z",
     "start_time": "2024-04-08T03:37:58.082408267Z"
    }
   }
  },
  {
   "cell_type": "code",
   "execution_count": 153,
   "outputs": [
    {
     "data": {
      "text/plain": "stem                                  vocals      drums       bass    guitar  \\\n                                         q50        q50        q50       q50   \nis_frozen is_augmented is_balanced                                             \nY         N            N            7.957611   9.817667  10.542386  2.267256   \n                       Y            7.908581   9.589573  10.480804  2.236992   \nN         N            N            7.375209   9.624549  10.621386  3.000009   \n                       Y            7.558992   9.343448  10.151619  2.945651   \n          Y            N            7.773301  10.107697  10.948157  3.182601   \n                       Y            7.584758   9.542869  10.974755  3.269581   \n\nstem                                   piano  \n                                         q50  \nis_frozen is_augmented is_balanced            \nY         N            N            0.848644  \n                       Y            0.872272  \nN         N            N            2.278973  \n                       Y            2.454445  \n          Y            N            2.173553  \n                       Y            2.477942  ",
      "text/html": "<div>\n<style scoped>\n    .dataframe tbody tr th:only-of-type {\n        vertical-align: middle;\n    }\n\n    .dataframe tbody tr th {\n        vertical-align: top;\n    }\n\n    .dataframe thead tr th {\n        text-align: left;\n    }\n\n    .dataframe thead tr:last-of-type th {\n        text-align: right;\n    }\n</style>\n<table border=\"1\" class=\"dataframe\">\n  <thead>\n    <tr>\n      <th></th>\n      <th></th>\n      <th>stem</th>\n      <th>vocals</th>\n      <th>drums</th>\n      <th>bass</th>\n      <th>guitar</th>\n      <th>piano</th>\n    </tr>\n    <tr>\n      <th></th>\n      <th></th>\n      <th></th>\n      <th>q50</th>\n      <th>q50</th>\n      <th>q50</th>\n      <th>q50</th>\n      <th>q50</th>\n    </tr>\n    <tr>\n      <th>is_frozen</th>\n      <th>is_augmented</th>\n      <th>is_balanced</th>\n      <th></th>\n      <th></th>\n      <th></th>\n      <th></th>\n      <th></th>\n    </tr>\n  </thead>\n  <tbody>\n    <tr>\n      <th rowspan=\"2\" valign=\"top\">Y</th>\n      <th rowspan=\"2\" valign=\"top\">N</th>\n      <th>N</th>\n      <td>7.957611</td>\n      <td>9.817667</td>\n      <td>10.542386</td>\n      <td>2.267256</td>\n      <td>0.848644</td>\n    </tr>\n    <tr>\n      <th>Y</th>\n      <td>7.908581</td>\n      <td>9.589573</td>\n      <td>10.480804</td>\n      <td>2.236992</td>\n      <td>0.872272</td>\n    </tr>\n    <tr>\n      <th rowspan=\"4\" valign=\"top\">N</th>\n      <th rowspan=\"2\" valign=\"top\">N</th>\n      <th>N</th>\n      <td>7.375209</td>\n      <td>9.624549</td>\n      <td>10.621386</td>\n      <td>3.000009</td>\n      <td>2.278973</td>\n    </tr>\n    <tr>\n      <th>Y</th>\n      <td>7.558992</td>\n      <td>9.343448</td>\n      <td>10.151619</td>\n      <td>2.945651</td>\n      <td>2.454445</td>\n    </tr>\n    <tr>\n      <th rowspan=\"2\" valign=\"top\">Y</th>\n      <th>N</th>\n      <td>7.773301</td>\n      <td>10.107697</td>\n      <td>10.948157</td>\n      <td>3.182601</td>\n      <td>2.173553</td>\n    </tr>\n    <tr>\n      <th>Y</th>\n      <td>7.584758</td>\n      <td>9.542869</td>\n      <td>10.974755</td>\n      <td>3.269581</td>\n      <td>2.477942</td>\n    </tr>\n  </tbody>\n</table>\n</div>"
     },
     "execution_count": 153,
     "metadata": {},
     "output_type": "execute_result"
    }
   ],
   "source": [
    "dfagg"
   ],
   "metadata": {
    "collapsed": false,
    "ExecuteTime": {
     "end_time": "2024-04-08T03:34:42.945221638Z",
     "start_time": "2024-04-08T03:34:42.924510093Z"
    }
   }
  }
 ],
 "metadata": {
  "kernelspec": {
   "display_name": "Python 3",
   "language": "python",
   "name": "python3"
  },
  "language_info": {
   "codemirror_mode": {
    "name": "ipython",
    "version": 2
   },
   "file_extension": ".py",
   "mimetype": "text/x-python",
   "name": "python",
   "nbconvert_exporter": "python",
   "pygments_lexer": "ipython2",
   "version": "2.7.6"
  }
 },
 "nbformat": 4,
 "nbformat_minor": 0
}
