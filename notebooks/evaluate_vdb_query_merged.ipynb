{
 "cells": [
  {
   "cell_type": "code",
   "execution_count": 87,
   "metadata": {
    "collapsed": true,
    "ExecuteTime": {
     "end_time": "2024-04-08T03:26:17.943461255Z",
     "start_time": "2024-04-08T03:26:17.913131300Z"
    }
   },
   "outputs": [],
   "source": [
    "from functools import partial\n",
    "from itertools import chain\n",
    "\n",
    "import librosa.effects\n",
    "import numpy as np\n",
    "import pandas as pd\n",
    "import soundfile as sf\n",
    "\n",
    "import os\n",
    "\n",
    "from ipywidgets import Audio\n",
    "from matplotlib import pyplot as plt\n",
    "from tqdm.contrib.concurrent import process_map\n",
    "from tqdm.notebook import tqdm\n",
    "\n",
    "import librosa"
   ]
  },
  {
   "cell_type": "code",
   "execution_count": 88,
   "outputs": [],
   "source": [
    "INFERENCE_ROOT = \"/home/kwatchar3/Documents/data/moisesdb/\"\n",
    "STEM_SETUP = \"vdb\"\n",
    "GROUND_TRUTH_ROOT = \"/home/kwatchar3/Documents/data/moisesdb\""
   ],
   "metadata": {
    "collapsed": false,
    "ExecuteTime": {
     "end_time": "2024-04-08T03:26:17.943623041Z",
     "start_time": "2024-04-08T03:26:17.943365873Z"
    }
   }
  },
  {
   "cell_type": "code",
   "execution_count": 89,
   "outputs": [],
   "source": [
    "variants = [\"vdb-d-nopre\", \"vdb-d-prefz\", \"vdb-d-pre\", \"vdb-d-pre-aug\"]\n"
   ],
   "metadata": {
    "collapsed": false,
    "ExecuteTime": {
     "end_time": "2024-04-08T03:26:17.943677650Z",
     "start_time": "2024-04-08T03:26:17.943598970Z"
    }
   }
  },
  {
   "cell_type": "code",
   "execution_count": 90,
   "outputs": [],
   "source": [
    "gt_files = os.listdir(os.path.join(GROUND_TRUTH_ROOT, \"npy2\"))"
   ],
   "metadata": {
    "collapsed": false,
    "ExecuteTime": {
     "end_time": "2024-04-08T03:26:17.943704032Z",
     "start_time": "2024-04-08T03:26:17.943650892Z"
    }
   }
  },
  {
   "cell_type": "code",
   "execution_count": 91,
   "outputs": [],
   "source": [
    "def snr(gt, est):\n",
    "    return 10 * np.log10(np.sum(np.square(gt)) / np.sum(np.square(gt - est)))"
   ],
   "metadata": {
    "collapsed": false,
    "ExecuteTime": {
     "end_time": "2024-04-08T03:26:17.943726315Z",
     "start_time": "2024-04-08T03:26:17.943695376Z"
    }
   }
  },
  {
   "cell_type": "code",
   "execution_count": 92,
   "outputs": [],
   "source": [
    "allowed_stems = {\n",
    "    \"vocals\": [\n",
    "        \"lead_female_singer\",\n",
    "        \"lead_male_singer\",\n",
    "    ],\n",
    "    \"drums\": [\n",
    "        \"drums\",\n",
    "    ],\n",
    "    \"bass\": [\n",
    "        \"bass_guitar\",\n",
    "        # \"bass_synthesizer\",\n",
    "        # \"bass_synth\"\n",
    "    ],\n",
    "}\n"
   ],
   "metadata": {
    "collapsed": false,
    "ExecuteTime": {
     "end_time": "2024-04-08T03:26:17.943762454Z",
     "start_time": "2024-04-08T03:26:17.943717181Z"
    }
   }
  },
  {
   "cell_type": "code",
   "execution_count": 93,
   "outputs": [],
   "source": [
    "def get_results_for_song(inputs):\n",
    "\n",
    "    song_name, inference_mode, variant = inputs\n",
    "\n",
    "    stems = os.listdir(os.path.join(INFERENCE_ROOT, inference_mode, STEM_SETUP, variant, \"audio\", song_name))\n",
    "    stems = [s.replace(\".wav\", \"\") for s in stems]\n",
    "\n",
    "    results = []\n",
    "\n",
    "    outputs = []\n",
    "\n",
    "    for coarse_stem in allowed_stems:\n",
    "\n",
    "        coarse_pred = []\n",
    "        coarse_true = []\n",
    "\n",
    "        has_gt = False\n",
    "        for stem in allowed_stems[coarse_stem]:\n",
    "            stem_has_gt = False\n",
    "            npy_path = os.path.join(GROUND_TRUTH_ROOT, \"npy2\", song_name, f\"{stem}.npy\")\n",
    "            if os.path.exists(npy_path):\n",
    "                audio = np.load(npy_path, mmap_mode=\"r\")\n",
    "                coarse_true.append(audio)\n",
    "                has_gt = True\n",
    "                stem_has_gt = True\n",
    "            else:\n",
    "                # print(\"!!!!!!!!!!!!!!!!!!!!!!!!!!!!!!!!!!!!!!!!!!!!!!!!!!!!!!!\")\n",
    "                # print(f\"Ground truth not found for {song_name}/{stem}. Using zeros.\")\n",
    "                # print(\"!!!!!!!!!!!!!!!!!!!!!!!!!!!!!!!!!!!!!!!!!!!!!!!!!!!!!!!\")\n",
    "                pass\n",
    "\n",
    "\n",
    "\n",
    "            audio_path = os.path.join(INFERENCE_ROOT, inference_mode, STEM_SETUP, variant, \"audio\", song_name, f\"{stem}.wav\")\n",
    "            if os.path.exists(audio_path):\n",
    "                audio, sr = sf.read(audio_path)\n",
    "                audio = audio.T\n",
    "                coarse_pred.append(audio)\n",
    "            else:\n",
    "                if stem_has_gt:\n",
    "                    print(\"******************************************************\")\n",
    "                # print(\"!!!!!!!!!!!!!!!!!!!!!!!!!!!!!!!!!!!!!!!!!!!!!!!!!!!!!!!\")\n",
    "                    print(f\"Prediction not found for {song_name}/{stem}. Using zeros.\")\n",
    "                    print(\"******************************************************\")\n",
    "                # print(\"!!!!!!!!!!!!!!!!!!!!!!!!!!!!!!!!!!!!!!!!!!!!!!!!!!!!!!!\")\n",
    "\n",
    "        if not has_gt:\n",
    "            # print(\"!!!!!!!!!!!!!!!!!!!!!!!!!!!!!!!!!!!!!!!!!!!!!!!!!!!!!!\")\n",
    "            # print(f\"No ground truth found for {song_name} - {coarse_stem}. Skipping.\")\n",
    "            # print(\"!!!!!!!!!!!!!!!!!!!!!!!!!!!!!!!!!!!!!!!!!!!!!!!!!!!!!!\")\n",
    "            continue\n",
    "\n",
    "        coarse_true_path = os.path.join(GROUND_TRUTH_ROOT, \"npy2\", song_name, f\"{coarse_stem}.npy\")\n",
    "        if os.path.exists(coarse_true_path):\n",
    "            coarse_true_ = np.load(coarse_true_path, mmap_mode=\"r\")\n",
    "        else:\n",
    "            coarse_true_ = sum(coarse_true)\n",
    "\n",
    "        coarse_pred = sum(coarse_pred)\n",
    "\n",
    "        snr_full = snr(coarse_true_, coarse_pred)\n",
    "\n",
    "        results.append({\n",
    "            \"song\": song_name,\n",
    "            \"stem\": coarse_stem,\n",
    "            \"snr\": snr_full,\n",
    "            \"variant\": variant,\n",
    "            \"inference_mode\": inference_mode,\n",
    "        })\n",
    "\n",
    "        if coarse_stem == \"vocals\":\n",
    "            coarse_true_ = sum(coarse_true)\n",
    "            snr_full = snr(coarse_true_, coarse_pred)\n",
    "\n",
    "            results.append({\n",
    "                \"song\": song_name,\n",
    "                \"stem\": \"lead_vocals\",\n",
    "                \"snr\": snr_full,\n",
    "                \"variant\": variant,\n",
    "                \"inference_mode\": inference_mode,\n",
    "            })\n",
    "\n",
    "        outputs.append(coarse_pred)\n",
    "\n",
    "    output_all = sum(outputs)\n",
    "    mixture = np.load(os.path.join(GROUND_TRUTH_ROOT, \"npy2\", song_name, \"mixture.npy\"), mmap_mode=\"r\")\n",
    "    residual_pred = mixture - output_all\n",
    "    residual_true = np.load(os.path.join(GROUND_TRUTH_ROOT, \"npy2\", song_name, \"vdbo_others.npy\"), mmap_mode=\"r\")\n",
    "\n",
    "    snr_residual = snr(residual_true, residual_pred)\n",
    "\n",
    "    results.append({\n",
    "        \"song\": song_name,\n",
    "        \"stem\": \"residual\",\n",
    "        \"snr\": snr_residual,\n",
    "        \"variant\": variant,\n",
    "        \"inference_mode\": inference_mode,\n",
    "    })\n",
    "\n",
    "    return results\n"
   ],
   "metadata": {
    "collapsed": false,
    "ExecuteTime": {
     "end_time": "2024-04-08T03:26:17.983977032Z",
     "start_time": "2024-04-08T03:26:17.943750924Z"
    }
   }
  },
  {
   "cell_type": "code",
   "execution_count": 94,
   "outputs": [
    {
     "name": "stdout",
     "output_type": "stream",
     "text": [
      "Processing vdb-d-nopre...\n"
     ]
    },
    {
     "data": {
      "text/plain": "  0%|          | 0/48 [00:00<?, ?it/s]",
      "application/vnd.jupyter.widget-view+json": {
       "version_major": 2,
       "version_minor": 0,
       "model_id": "3d535ca8bd9c4d70947046043971e801"
      }
     },
     "metadata": {},
     "output_type": "display_data"
    },
    {
     "name": "stdout",
     "output_type": "stream",
     "text": [
      "Processing vdb-d-prefz...\n"
     ]
    },
    {
     "data": {
      "text/plain": "  0%|          | 0/48 [00:00<?, ?it/s]",
      "application/vnd.jupyter.widget-view+json": {
       "version_major": 2,
       "version_minor": 0,
       "model_id": "c7adc079dabd4fe8a176b68798b21f6a"
      }
     },
     "metadata": {},
     "output_type": "display_data"
    },
    {
     "name": "stdout",
     "output_type": "stream",
     "text": [
      "Processing vdb-d-pre...\n"
     ]
    },
    {
     "data": {
      "text/plain": "  0%|          | 0/48 [00:00<?, ?it/s]",
      "application/vnd.jupyter.widget-view+json": {
       "version_major": 2,
       "version_minor": 0,
       "model_id": "19d9f8f5106a4cec9735dca0f870bba1"
      }
     },
     "metadata": {},
     "output_type": "display_data"
    },
    {
     "name": "stdout",
     "output_type": "stream",
     "text": [
      "Processing vdb-d-pre-aug...\n"
     ]
    },
    {
     "data": {
      "text/plain": "  0%|          | 0/48 [00:00<?, ?it/s]",
      "application/vnd.jupyter.widget-view+json": {
       "version_major": 2,
       "version_minor": 0,
       "model_id": "8dfa89e4f09042069daed5af1d750d08"
      }
     },
     "metadata": {},
     "output_type": "display_data"
    },
    {
     "name": "stdout",
     "output_type": "stream",
     "text": [
      "Processing vdb-d-nopre...\n"
     ]
    },
    {
     "data": {
      "text/plain": "  0%|          | 0/48 [00:00<?, ?it/s]",
      "application/vnd.jupyter.widget-view+json": {
       "version_major": 2,
       "version_minor": 0,
       "model_id": "2a765ae096bf4d10bd181f6850d7657f"
      }
     },
     "metadata": {},
     "output_type": "display_data"
    },
    {
     "name": "stdout",
     "output_type": "stream",
     "text": [
      "Processing vdb-d-prefz...\n"
     ]
    },
    {
     "data": {
      "text/plain": "  0%|          | 0/48 [00:00<?, ?it/s]",
      "application/vnd.jupyter.widget-view+json": {
       "version_major": 2,
       "version_minor": 0,
       "model_id": "dd7a8ebbca0340e598106a7225f5ff57"
      }
     },
     "metadata": {},
     "output_type": "display_data"
    },
    {
     "name": "stdout",
     "output_type": "stream",
     "text": [
      "Processing vdb-d-pre...\n"
     ]
    },
    {
     "data": {
      "text/plain": "  0%|          | 0/48 [00:00<?, ?it/s]",
      "application/vnd.jupyter.widget-view+json": {
       "version_major": 2,
       "version_minor": 0,
       "model_id": "64d1e575906b42cca70e5a8cb5d34e47"
      }
     },
     "metadata": {},
     "output_type": "display_data"
    },
    {
     "name": "stdout",
     "output_type": "stream",
     "text": [
      "Processing vdb-d-pre-aug...\n"
     ]
    },
    {
     "data": {
      "text/plain": "  0%|          | 0/48 [00:00<?, ?it/s]",
      "application/vnd.jupyter.widget-view+json": {
       "version_major": 2,
       "version_minor": 0,
       "model_id": "f6b1e85c0e5a43ae871aaf29286f22f2"
      }
     },
     "metadata": {},
     "output_type": "display_data"
    }
   ],
   "source": [
    "\n",
    "df = []\n",
    "\n",
    "for inference_mode in [\"inference-d\", \"inference-o\"]:\n",
    "\n",
    "    for v in variants:\n",
    "        print(f\"Processing {v}...\")\n",
    "\n",
    "        test_files = os.listdir(os.path.join(INFERENCE_ROOT, inference_mode, STEM_SETUP, v, \"audio\"))\n",
    "\n",
    "        # for song in tqdm(test_files):\n",
    "        #     results = get_results_for_song(song, inference_mode, v)\n",
    "        #     df.extend(results)\n",
    "\n",
    "        inputs = [(song, inference_mode, v) for song in test_files]\n",
    "\n",
    "        results = process_map(get_results_for_song, inputs, max_workers=16)\n",
    "        results = list(chain(*results))\n",
    "\n",
    "        df.extend(results)\n",
    "\n",
    "\n",
    "df = pd.DataFrame(df)"
   ],
   "metadata": {
    "collapsed": false,
    "ExecuteTime": {
     "end_time": "2024-04-08T03:31:56.048078645Z",
     "start_time": "2024-04-08T03:26:17.983843222Z"
    }
   }
  },
  {
   "cell_type": "markdown",
   "source": [],
   "metadata": {
    "collapsed": false
   }
  },
  {
   "cell_type": "code",
   "execution_count": 95,
   "outputs": [],
   "source": [
    "df[\"snr\"] = df[\"snr\"].replace(-np.inf, np.nan)"
   ],
   "metadata": {
    "collapsed": false,
    "ExecuteTime": {
     "end_time": "2024-04-08T03:31:56.060137466Z",
     "start_time": "2024-04-08T03:31:56.058685156Z"
    }
   }
  },
  {
   "cell_type": "code",
   "execution_count": 96,
   "outputs": [],
   "source": [
    "df.to_csv(os.path.join(INFERENCE_ROOT, \"bandit_vdb_merged.csv\"), index=False)"
   ],
   "metadata": {
    "collapsed": false,
    "ExecuteTime": {
     "end_time": "2024-04-08T03:31:56.121052296Z",
     "start_time": "2024-04-08T03:31:56.063018989Z"
    }
   }
  },
  {
   "cell_type": "code",
   "execution_count": 97,
   "outputs": [],
   "source": [
    "df = pd.read_csv(os.path.join(INFERENCE_ROOT, \"bandit_vdb_merged.csv\"))\n",
    "\n",
    "stem_dtype = pd.CategoricalDtype(categories=allowed_stems, ordered=True)\n",
    "df[\"stem\"] = df[\"stem\"].astype(stem_dtype)\n",
    "\n",
    "bool_dtype = pd.CategoricalDtype(categories=[\"Y\", \"N\"], ordered=True)\n",
    "ibool_dtype = pd.CategoricalDtype(categories=[\"N\", \"Y\"], ordered=True)\n",
    "\n",
    "df[\"is_pretrained\"] = df[\"variant\"].str.contains(\"nopre\").apply(lambda x: \"N\" if x else \"Y\").astype(ibool_dtype)\n",
    "df[\"is_frozen\"] = df[\"variant\"].str.contains(\"prefz\").apply(lambda x: \"Y\" if x else \"N\").astype(bool_dtype)\n",
    "df[\"is_balanced\"] = df[\"variant\"].str.contains(\"bal\").apply(lambda x: \"Y\" if x else \"N\").astype(ibool_dtype)\n",
    "df[\"is_augmented\"] = df[\"variant\"].str.contains(\"aug\").apply(lambda x: \"Y\" if x else \"N\").astype(ibool_dtype)\n",
    "df[\"query_same\"] = df[\"inference_mode\"].str.contains(\"-o\").apply(lambda x: \"same\" if x else \"diff.\")"
   ],
   "metadata": {
    "collapsed": false,
    "ExecuteTime": {
     "end_time": "2024-04-08T03:31:56.294630715Z",
     "start_time": "2024-04-08T03:31:56.121927034Z"
    }
   }
  },
  {
   "cell_type": "code",
   "execution_count": 98,
   "outputs": [
    {
     "name": "stderr",
     "output_type": "stream",
     "text": [
      "/tmp/ipykernel_1533357/861999609.py:10: FutureWarning: The default of observed=False is deprecated and will be changed to True in a future version of pandas. Pass observed=False to retain current behavior or observed=True to adopt the future default and silence this warning.\n",
      "  dfagg = df.groupby([\n"
     ]
    }
   ],
   "source": [
    "def q25(x):\n",
    "    return x.quantile(0.25)\n",
    "\n",
    "def q75(x):\n",
    "    return x.quantile(0.75)\n",
    "\n",
    "def q50(x):\n",
    "    return x.quantile(0.5)\n",
    "\n",
    "dfagg = df.groupby([\n",
    "    \"is_pretrained\",\n",
    "    \"is_frozen\",\n",
    "    \"is_augmented\",\n",
    "    # \"is_balanced\",\n",
    "    \"query_same\",\n",
    "    \"stem\"\n",
    "]).agg({\"snr\": [q50]})\n",
    "dfagg.columns = [\"q50\"]\n",
    "dfagg = dfagg.reset_index()\n",
    "\n",
    "dfagg = dfagg[dfagg.query_same == \"diff.\"]\n",
    "\n",
    "dfagg = dfagg.reset_index().pivot_table(\n",
    "    index=[\"is_pretrained\", \"is_frozen\", \"is_augmented\",],\n",
    "    columns=\"stem\",\n",
    "    values=[\"q50\"]\n",
    ")\n"
   ],
   "metadata": {
    "collapsed": false,
    "ExecuteTime": {
     "end_time": "2024-04-08T03:31:56.383994031Z",
     "start_time": "2024-04-08T03:31:56.311278957Z"
    }
   }
  },
  {
   "cell_type": "code",
   "execution_count": 99,
   "outputs": [],
   "source": [
    "dfagg = dfagg.swaplevel(axis=1).sort_index(axis=1)\n",
    "dfagg_max = dfagg.max(axis=0)\n"
   ],
   "metadata": {
    "collapsed": false,
    "ExecuteTime": {
     "end_time": "2024-04-08T03:31:56.458151483Z",
     "start_time": "2024-04-08T03:31:56.403744629Z"
    }
   }
  },
  {
   "cell_type": "code",
   "execution_count": 100,
   "outputs": [],
   "source": [
    "\n",
    "def bold_formatter(x, val):\n",
    "    if round(x, 1) == round(val, 1):\n",
    "        return r\"\\bfseries \" + f\"{x:.1f}\"\n",
    "    return f\"{x:.1f}\"\n",
    "\n",
    "formatters = {\n",
    "    (c, d): partial(bold_formatter, val=dfagg_max.loc[c, d])\n",
    "    for c, d in dfagg.columns\n",
    "}"
   ],
   "metadata": {
    "collapsed": false,
    "ExecuteTime": {
     "end_time": "2024-04-08T03:31:56.462879694Z",
     "start_time": "2024-04-08T03:31:56.420566724Z"
    }
   }
  },
  {
   "cell_type": "code",
   "execution_count": 101,
   "outputs": [
    {
     "name": "stdout",
     "output_type": "stream",
     "text": [
      "\\begin{tabular}{lllrrr}\n",
      "\\toprule\n",
      " &  & stem & vocals & drums & bass \\\\\n",
      " &  &  & q50 & q50 & q50 \\\\\n",
      "is_pretrained & is_frozen & is_augmented &  &  &  \\\\\n",
      "\\midrule\n",
      "N & N & N & 6.7 & 9.4 & 9.6 \\\\\n",
      "Y & Y & N & \\bfseries 8.0 & 9.9 & 10.5 \\\\\n",
      "Y & N & N & 7.4 & 9.3 & 10.5 \\\\\n",
      "Y & N & Y & 7.9 & \\bfseries 10.1 & \\bfseries 11.2 \\\\\n",
      "\\bottomrule\n",
      "\\end{tabular}\n",
      "\n"
     ]
    }
   ],
   "source": [
    "str_ = dfagg.to_latex(\n",
    "    formatters=formatters,\n",
    "    sparsify=False,\n",
    "    multirow=False,\n",
    ")\n",
    "\n",
    "print(str_)"
   ],
   "metadata": {
    "collapsed": false,
    "ExecuteTime": {
     "end_time": "2024-04-08T03:31:56.514704972Z",
     "start_time": "2024-04-08T03:31:56.443580381Z"
    }
   }
  },
  {
   "cell_type": "code",
   "execution_count": 101,
   "outputs": [],
   "source": [],
   "metadata": {
    "collapsed": false,
    "ExecuteTime": {
     "end_time": "2024-04-08T03:31:56.515751088Z",
     "start_time": "2024-04-08T03:31:56.484875874Z"
    }
   }
  }
 ],
 "metadata": {
  "kernelspec": {
   "display_name": "Python 3",
   "language": "python",
   "name": "python3"
  },
  "language_info": {
   "codemirror_mode": {
    "name": "ipython",
    "version": 2
   },
   "file_extension": ".py",
   "mimetype": "text/x-python",
   "name": "python",
   "nbconvert_exporter": "python",
   "pygments_lexer": "ipython2",
   "version": "2.7.6"
  }
 },
 "nbformat": 4,
 "nbformat_minor": 0
}
