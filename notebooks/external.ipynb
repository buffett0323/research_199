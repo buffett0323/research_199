{
 "cells": [
  {
   "cell_type": "code",
   "execution_count": 1,
   "metadata": {
    "collapsed": true,
    "ExecuteTime": {
     "end_time": "2024-04-05T19:47:21.848765842Z",
     "start_time": "2024-04-05T19:47:21.847657156Z"
    }
   },
   "outputs": [],
   "source": [
    "import pandas as pd\n",
    "import numpy as np"
   ]
  },
  {
   "cell_type": "code",
   "execution_count": 5,
   "outputs": [],
   "source": [
    "splits = pd.read_csv(\"/home/kwatchar3/projects/query-bandit/reproducibility/splits.csv\")"
   ],
   "metadata": {
    "collapsed": false,
    "ExecuteTime": {
     "end_time": "2024-04-05T19:49:59.800255565Z",
     "start_time": "2024-04-05T19:49:59.797666335Z"
    }
   }
  },
  {
   "cell_type": "code",
   "execution_count": 8,
   "outputs": [],
   "source": [
    "test_files = splits[splits.split == 5][\"song_id\"].tolist()"
   ],
   "metadata": {
    "collapsed": false,
    "ExecuteTime": {
     "end_time": "2024-04-05T19:50:21.714053418Z",
     "start_time": "2024-04-05T19:50:21.662057455Z"
    }
   }
  },
  {
   "cell_type": "code",
   "execution_count": 96,
   "outputs": [],
   "source": [
    "BANDIT_RESULTS = \"/home/kwatchar3/projects/query-bandit/results/vdbo/bandit4.csv\"\n",
    "DEMUCS_RESULTS = \"/home/kwatchar3/projects/query-bandit/results/vdbo/htdemucs4.csv\"\n",
    "SPLEETER_RESULTS = \"/home/kwatchar3/projects/query-bandit/results/vdbo/spleeter4.csv\"\n",
    "\n",
    "ORACLE_RESULTS = \"/home/kwatchar3/projects/query-bandit/results/vdbo/oracle4.csv\"\n",
    "\n",
    "DEMUCS6_RESULTS = \"/home/kwatchar3/projects/query-bandit/results/vdbgpo/htdemucs6.csv\"\n",
    "SPLEETER5_RESULTS = \"/home/kwatchar3/projects/query-bandit/results/vdbgpo/spleeter5.csv\"\n",
    "\n",
    "ORACLE6_RESULTS = \"/home/kwatchar3/projects/query-bandit/results/vdbgpo/oracle6.csv\""
   ],
   "metadata": {
    "collapsed": false,
    "ExecuteTime": {
     "end_time": "2024-04-06T03:26:45.811858277Z",
     "start_time": "2024-04-06T03:26:45.798397757Z"
    }
   }
  },
  {
   "cell_type": "code",
   "execution_count": 82,
   "outputs": [],
   "source": [
    "stem_dtype = pd.CategoricalDtype([\"vocals\", \"drums\", \"bass\", \"guitar\", \"piano\", \"other\"], ordered=True)"
   ],
   "metadata": {
    "collapsed": false,
    "ExecuteTime": {
     "end_time": "2024-04-06T01:42:26.044648731Z",
     "start_time": "2024-04-06T01:42:26.043194124Z"
    }
   }
  },
  {
   "cell_type": "code",
   "execution_count": 68,
   "outputs": [],
   "source": [
    "def stats_from_moisesdb(path, test_files):\n",
    "    df = pd.read_csv(path)\n",
    "\n",
    "    if \"song\" in df.columns:\n",
    "        df = df.rename(columns={\"song\": \"track_id\"})\n",
    "\n",
    "    if \"sdr\" in df.columns:\n",
    "        df = df.rename(columns={\"sdr\": \"snr\"})\n",
    "\n",
    "    df.loc[df.stem == \"vdbo_others\", \"stem\"] = \"other\"\n",
    "\n",
    "    df.stem = df.stem.astype(stem_dtype)\n",
    "\n",
    "    df = df[df['track_id'].isin(test_files)]\n",
    "\n",
    "    if \"model\" in df.columns:\n",
    "        cols = [\"model\", \"stem\"]\n",
    "    else:\n",
    "        cols = [\"stem\"]\n",
    "\n",
    "    df = df.pivot_table(index=[\"track_id\"], columns=cols, values=[\"snr\"])\n",
    "\n",
    "    return df.describe()"
   ],
   "metadata": {
    "collapsed": false,
    "ExecuteTime": {
     "end_time": "2024-04-05T20:47:04.230334905Z",
     "start_time": "2024-04-05T20:47:04.212143272Z"
    }
   }
  },
  {
   "cell_type": "markdown",
   "source": [],
   "metadata": {
    "collapsed": false
   }
  },
  {
   "cell_type": "code",
   "execution_count": 69,
   "outputs": [
    {
     "data": {
      "text/plain": "     stem  \nsnr  vocals     9.1\n     drums     11.0\n     bass      12.2\n     other      7.3\nName: 50%, dtype: float64"
     },
     "execution_count": 69,
     "metadata": {},
     "output_type": "execute_result"
    }
   ],
   "source": [
    "stats_from_moisesdb(DEMUCS_RESULTS, test_files).round(1).loc[\"50%\"]"
   ],
   "metadata": {
    "collapsed": false,
    "ExecuteTime": {
     "end_time": "2024-04-05T20:47:06.182924061Z",
     "start_time": "2024-04-05T20:47:06.171320795Z"
    }
   }
  },
  {
   "cell_type": "code",
   "execution_count": 70,
   "outputs": [
    {
     "data": {
      "text/plain": "     stem  \nsnr  vocals    7.4\n     drums     6.6\n     bass      6.8\n     other     5.0\nName: 50%, dtype: float64"
     },
     "execution_count": 70,
     "metadata": {},
     "output_type": "execute_result"
    }
   ],
   "source": [
    "stats_from_moisesdb(SPLEETER_RESULTS, test_files).round(1).loc[\"50%\"]"
   ],
   "metadata": {
    "collapsed": false,
    "ExecuteTime": {
     "end_time": "2024-04-05T20:47:08.147094123Z",
     "start_time": "2024-04-05T20:47:08.135256165Z"
    }
   }
  },
  {
   "cell_type": "code",
   "execution_count": 71,
   "outputs": [
    {
     "data": {
      "text/plain": "     stem  \nsnr  vocals     9.1\n     drums      9.9\n     bass      10.6\n     other      6.4\nName: 50%, dtype: float64"
     },
     "execution_count": 71,
     "metadata": {},
     "output_type": "execute_result"
    }
   ],
   "source": [
    "stats_from_moisesdb(BANDIT_RESULTS, test_files).round(1).loc[\"50%\"]"
   ],
   "metadata": {
    "collapsed": false,
    "ExecuteTime": {
     "end_time": "2024-04-05T20:47:10.402059157Z",
     "start_time": "2024-04-05T20:47:10.393570520Z"
    }
   }
  },
  {
   "cell_type": "code",
   "execution_count": 72,
   "outputs": [
    {
     "data": {
      "text/plain": "     model  stem  \nsnr  IBM    vocals     8.6\n            drums      7.6\n            bass       6.7\n            other      5.7\n     IRM    vocals    10.3\n            drums      9.2\n            bass       8.8\n            other      7.6\n     MWF    vocals    10.2\n            drums      9.0\n            bass       9.1\n            other      7.8\n     cIRM   vocals     9.7\n            drums      8.5\n            bass       7.4\n            other      6.5\nName: 50%, dtype: float64"
     },
     "execution_count": 72,
     "metadata": {},
     "output_type": "execute_result"
    }
   ],
   "source": [
    "stats_from_moisesdb(ORACLE_RESULTS, test_files).round(1).loc[\"50%\"]"
   ],
   "metadata": {
    "collapsed": false,
    "ExecuteTime": {
     "end_time": "2024-04-05T20:47:13.078965259Z",
     "start_time": "2024-04-05T20:47:13.055066127Z"
    }
   }
  },
  {
   "cell_type": "code",
   "execution_count": 91,
   "outputs": [
    {
     "data": {
      "text/plain": "             50%\n    stem        \nsnr vocals   8.9\n    drums   11.6\n    bass    12.4\n    guitar   2.4\n    piano    1.7\n    other    0.8",
      "text/html": "<div>\n<style scoped>\n    .dataframe tbody tr th:only-of-type {\n        vertical-align: middle;\n    }\n\n    .dataframe tbody tr th {\n        vertical-align: top;\n    }\n\n    .dataframe thead th {\n        text-align: right;\n    }\n</style>\n<table border=\"1\" class=\"dataframe\">\n  <thead>\n    <tr style=\"text-align: right;\">\n      <th></th>\n      <th></th>\n      <th>50%</th>\n    </tr>\n    <tr>\n      <th></th>\n      <th>stem</th>\n      <th></th>\n    </tr>\n  </thead>\n  <tbody>\n    <tr>\n      <th rowspan=\"6\" valign=\"top\">snr</th>\n      <th>vocals</th>\n      <td>8.9</td>\n    </tr>\n    <tr>\n      <th>drums</th>\n      <td>11.6</td>\n    </tr>\n    <tr>\n      <th>bass</th>\n      <td>12.4</td>\n    </tr>\n    <tr>\n      <th>guitar</th>\n      <td>2.4</td>\n    </tr>\n    <tr>\n      <th>piano</th>\n      <td>1.7</td>\n    </tr>\n    <tr>\n      <th>other</th>\n      <td>0.8</td>\n    </tr>\n  </tbody>\n</table>\n</div>"
     },
     "execution_count": 91,
     "metadata": {},
     "output_type": "execute_result"
    }
   ],
   "source": [
    "stats_from_moisesdb(DEMUCS6_RESULTS, test_files).round(1).loc[[\"50%\"]].T"
   ],
   "metadata": {
    "collapsed": false,
    "ExecuteTime": {
     "end_time": "2024-04-06T02:56:27.504070242Z",
     "start_time": "2024-04-06T02:56:27.484560216Z"
    }
   }
  },
  {
   "cell_type": "code",
   "execution_count": 97,
   "outputs": [
    {
     "data": {
      "text/plain": "                   50%\n    model stem        \nsnr IBM   vocals   8.4\n          drums    8.1\n          bass     6.0\n          guitar   3.3\n          piano    2.8\n          other    3.2\n    IRM   vocals  10.0\n          drums    9.6\n          bass     7.8\n          guitar   5.2\n          piano    5.0\n          other    5.1\n    MWF   vocals   9.9\n          drums    9.5\n          bass     8.3\n          guitar   5.1\n          piano    4.8\n          other    4.9\n    cIRM  vocals   9.6\n          drums    9.1\n          bass     6.7\n          guitar   3.8\n          piano    3.3\n          other    3.5",
      "text/html": "<div>\n<style scoped>\n    .dataframe tbody tr th:only-of-type {\n        vertical-align: middle;\n    }\n\n    .dataframe tbody tr th {\n        vertical-align: top;\n    }\n\n    .dataframe thead th {\n        text-align: right;\n    }\n</style>\n<table border=\"1\" class=\"dataframe\">\n  <thead>\n    <tr style=\"text-align: right;\">\n      <th></th>\n      <th></th>\n      <th></th>\n      <th>50%</th>\n    </tr>\n    <tr>\n      <th></th>\n      <th>model</th>\n      <th>stem</th>\n      <th></th>\n    </tr>\n  </thead>\n  <tbody>\n    <tr>\n      <th rowspan=\"24\" valign=\"top\">snr</th>\n      <th rowspan=\"6\" valign=\"top\">IBM</th>\n      <th>vocals</th>\n      <td>8.4</td>\n    </tr>\n    <tr>\n      <th>drums</th>\n      <td>8.1</td>\n    </tr>\n    <tr>\n      <th>bass</th>\n      <td>6.0</td>\n    </tr>\n    <tr>\n      <th>guitar</th>\n      <td>3.3</td>\n    </tr>\n    <tr>\n      <th>piano</th>\n      <td>2.8</td>\n    </tr>\n    <tr>\n      <th>other</th>\n      <td>3.2</td>\n    </tr>\n    <tr>\n      <th rowspan=\"6\" valign=\"top\">IRM</th>\n      <th>vocals</th>\n      <td>10.0</td>\n    </tr>\n    <tr>\n      <th>drums</th>\n      <td>9.6</td>\n    </tr>\n    <tr>\n      <th>bass</th>\n      <td>7.8</td>\n    </tr>\n    <tr>\n      <th>guitar</th>\n      <td>5.2</td>\n    </tr>\n    <tr>\n      <th>piano</th>\n      <td>5.0</td>\n    </tr>\n    <tr>\n      <th>other</th>\n      <td>5.1</td>\n    </tr>\n    <tr>\n      <th rowspan=\"6\" valign=\"top\">MWF</th>\n      <th>vocals</th>\n      <td>9.9</td>\n    </tr>\n    <tr>\n      <th>drums</th>\n      <td>9.5</td>\n    </tr>\n    <tr>\n      <th>bass</th>\n      <td>8.3</td>\n    </tr>\n    <tr>\n      <th>guitar</th>\n      <td>5.1</td>\n    </tr>\n    <tr>\n      <th>piano</th>\n      <td>4.8</td>\n    </tr>\n    <tr>\n      <th>other</th>\n      <td>4.9</td>\n    </tr>\n    <tr>\n      <th rowspan=\"6\" valign=\"top\">cIRM</th>\n      <th>vocals</th>\n      <td>9.6</td>\n    </tr>\n    <tr>\n      <th>drums</th>\n      <td>9.1</td>\n    </tr>\n    <tr>\n      <th>bass</th>\n      <td>6.7</td>\n    </tr>\n    <tr>\n      <th>guitar</th>\n      <td>3.8</td>\n    </tr>\n    <tr>\n      <th>piano</th>\n      <td>3.3</td>\n    </tr>\n    <tr>\n      <th>other</th>\n      <td>3.5</td>\n    </tr>\n  </tbody>\n</table>\n</div>"
     },
     "execution_count": 97,
     "metadata": {},
     "output_type": "execute_result"
    }
   ],
   "source": [
    "stats_from_moisesdb(ORACLE6_RESULTS, test_files).round(1).loc[[\"50%\"]].T"
   ],
   "metadata": {
    "collapsed": false,
    "ExecuteTime": {
     "end_time": "2024-04-06T03:26:49.554738073Z",
     "start_time": "2024-04-06T03:26:49.496550030Z"
    }
   }
  },
  {
   "cell_type": "code",
   "execution_count": 122,
   "outputs": [],
   "source": [
    "oracle = pd.read_csv(ORACLE_RESULTS)[\"track_id\"].unique()\n",
    "\n",
    "splits[\"avail\"] = splits[\"song_id\"].isin(oracle)\n",
    "\n",
    "missing = splits[(splits['split'] == 5) & (~splits[\"avail\"])].song_id"
   ],
   "metadata": {
    "collapsed": false,
    "ExecuteTime": {
     "end_time": "2024-04-06T19:08:34.446423628Z",
     "start_time": "2024-04-06T19:08:34.441609543Z"
    }
   }
  },
  {
   "cell_type": "code",
   "execution_count": 115,
   "outputs": [],
   "source": [
    "data_root = \"/home/kwatchar3/Documents/data/moisesdb/canonical\""
   ],
   "metadata": {
    "collapsed": false,
    "ExecuteTime": {
     "end_time": "2024-04-06T19:07:46.308069331Z",
     "start_time": "2024-04-06T19:07:46.304125929Z"
    }
   }
  },
  {
   "cell_type": "code",
   "execution_count": 113,
   "outputs": [],
   "source": [
    "import os, json"
   ],
   "metadata": {
    "collapsed": false,
    "ExecuteTime": {
     "end_time": "2024-04-06T19:07:35.633770378Z",
     "start_time": "2024-04-06T19:07:35.629376205Z"
    }
   }
  },
  {
   "cell_type": "code",
   "execution_count": 123,
   "outputs": [
    {
     "name": "stdout",
     "output_type": "stream",
     "text": [
      "What Are The Odds by Frank O Pinions\n",
      "Gloria's Swan Song by Firefly\n"
     ]
    }
   ],
   "source": [
    "for s in missing:\n",
    "    with open(os.path.join(data_root, s, \"data.json\")) as f:\n",
    "        info = json.load(f)\n",
    "\n",
    "        print(info['song'], \"by\", info['artist'])"
   ],
   "metadata": {
    "collapsed": false,
    "ExecuteTime": {
     "end_time": "2024-04-06T19:08:35.969958318Z",
     "start_time": "2024-04-06T19:08:35.967231762Z"
    }
   }
  }
 ],
 "metadata": {
  "kernelspec": {
   "display_name": "Python 3",
   "language": "python",
   "name": "python3"
  },
  "language_info": {
   "codemirror_mode": {
    "name": "ipython",
    "version": 2
   },
   "file_extension": ".py",
   "mimetype": "text/x-python",
   "name": "python",
   "nbconvert_exporter": "python",
   "pygments_lexer": "ipython2",
   "version": "2.7.6"
  }
 },
 "nbformat": 4,
 "nbformat_minor": 0
}
