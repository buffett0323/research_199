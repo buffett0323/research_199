{
 "cells": [
  {
   "cell_type": "code",
   "execution_count": 107,
   "metadata": {
    "collapsed": true,
    "ExecuteTime": {
     "end_time": "2024-04-08T03:49:36.446408542Z",
     "start_time": "2024-04-08T03:49:36.421343021Z"
    }
   },
   "outputs": [],
   "source": [
    "from functools import partial\n",
    "from itertools import chain\n",
    "\n",
    "import librosa.effects\n",
    "import numpy as np\n",
    "import pandas as pd\n",
    "import soundfile as sf\n",
    "\n",
    "import os\n",
    "\n",
    "from ipywidgets import Audio\n",
    "from matplotlib import pyplot as plt\n",
    "from tqdm.contrib.concurrent import process_map\n",
    "from tqdm.notebook import tqdm\n",
    "\n",
    "import librosa"
   ]
  },
  {
   "cell_type": "code",
   "execution_count": 108,
   "outputs": [],
   "source": [
    "INFERENCE_ROOT = \"/home/kwatchar3/Documents/data/moisesdb/\"\n",
    "STEM_SETUP = \"vdb\"\n",
    "GROUND_TRUTH_ROOT = \"/home/kwatchar3/Documents/data/moisesdb\""
   ],
   "metadata": {
    "collapsed": false,
    "ExecuteTime": {
     "end_time": "2024-04-08T03:49:36.471906113Z",
     "start_time": "2024-04-08T03:49:36.423678429Z"
    }
   }
  },
  {
   "cell_type": "code",
   "execution_count": 109,
   "outputs": [],
   "source": [
    "variants = [\"vdb-d-nopre\", \"vdb-d-prefz\", \"vdb-d-pre\", \"vdb-d-pre-aug\"]\n",
    "\n"
   ],
   "metadata": {
    "collapsed": false,
    "ExecuteTime": {
     "end_time": "2024-04-08T03:49:36.472104888Z",
     "start_time": "2024-04-08T03:49:36.443128797Z"
    }
   }
  },
  {
   "cell_type": "code",
   "execution_count": 110,
   "outputs": [],
   "source": [
    "gt_files = os.listdir(os.path.join(GROUND_TRUTH_ROOT, \"npy2\"))"
   ],
   "metadata": {
    "collapsed": false,
    "ExecuteTime": {
     "end_time": "2024-04-08T03:49:36.472134812Z",
     "start_time": "2024-04-08T03:49:36.443179531Z"
    }
   }
  },
  {
   "cell_type": "code",
   "execution_count": 111,
   "outputs": [],
   "source": [
    "def snr(gt, est):\n",
    "    return 10 * np.log10(np.sum(np.square(gt)) / np.sum(np.square(gt - est)))"
   ],
   "metadata": {
    "collapsed": false,
    "ExecuteTime": {
     "end_time": "2024-04-08T03:49:36.472154694Z",
     "start_time": "2024-04-08T03:49:36.443197931Z"
    }
   }
  },
  {
   "cell_type": "code",
   "execution_count": 112,
   "outputs": [],
   "source": [
    "allowed_stems = {\n",
    "    \"lead_female_singer\": [\n",
    "        \"lead_female_singer\",\n",
    "    ],\n",
    "    \"lead_male_singer\": [\n",
    "        \"lead_male_singer\",\n",
    "    ],\n",
    "    \"drums\": [\n",
    "        \"drums\",\n",
    "    ],\n",
    "    \"bass\": [\n",
    "        \"bass_guitar\",\n",
    "        # \"bass_synthesizer\",\n",
    "        # \"bass_synth\"\n",
    "    ],\n",
    "}\n"
   ],
   "metadata": {
    "collapsed": false,
    "ExecuteTime": {
     "end_time": "2024-04-08T03:49:36.472173944Z",
     "start_time": "2024-04-08T03:49:36.443220223Z"
    }
   }
  },
  {
   "cell_type": "code",
   "execution_count": 113,
   "outputs": [],
   "source": [
    "def get_results_for_song(inputs):\n",
    "\n",
    "    song_name, inference_mode, variant = inputs\n",
    "\n",
    "    stems = os.listdir(os.path.join(INFERENCE_ROOT, inference_mode, STEM_SETUP, variant, \"audio\", song_name))\n",
    "    stems = [s.replace(\".wav\", \"\") for s in stems]\n",
    "\n",
    "    results = []\n",
    "\n",
    "    for coarse_stem in allowed_stems:\n",
    "\n",
    "        coarse_pred = []\n",
    "        coarse_true = []\n",
    "\n",
    "        has_gt = False\n",
    "        for stem in allowed_stems[coarse_stem]:\n",
    "            stem_has_gt = False\n",
    "            npy_path = os.path.join(GROUND_TRUTH_ROOT, \"npy2\", song_name, f\"{stem}.npy\")\n",
    "            if os.path.exists(npy_path):\n",
    "                audio = np.load(npy_path, mmap_mode=\"r\")\n",
    "                coarse_true.append(audio)\n",
    "                has_gt = True\n",
    "                stem_has_gt = True\n",
    "            else:\n",
    "                # print(\"!!!!!!!!!!!!!!!!!!!!!!!!!!!!!!!!!!!!!!!!!!!!!!!!!!!!!!!\")\n",
    "                # print(f\"Ground truth not found for {song_name}/{stem}. Using zeros.\")\n",
    "                # print(\"!!!!!!!!!!!!!!!!!!!!!!!!!!!!!!!!!!!!!!!!!!!!!!!!!!!!!!!\")\n",
    "                pass\n",
    "\n",
    "\n",
    "\n",
    "            audio_path = os.path.join(INFERENCE_ROOT, inference_mode, STEM_SETUP, variant, \"audio\", song_name, f\"{stem}.wav\")\n",
    "            if os.path.exists(audio_path):\n",
    "                audio, sr = sf.read(audio_path)\n",
    "                audio = audio.T\n",
    "                coarse_pred.append(audio)\n",
    "            else:\n",
    "                if stem_has_gt:\n",
    "                    print(\"******************************************************\")\n",
    "                # print(\"!!!!!!!!!!!!!!!!!!!!!!!!!!!!!!!!!!!!!!!!!!!!!!!!!!!!!!!\")\n",
    "                    print(f\"Prediction not found for {song_name}/{stem}. Using zeros.\")\n",
    "                    print(\"******************************************************\")\n",
    "                # print(\"!!!!!!!!!!!!!!!!!!!!!!!!!!!!!!!!!!!!!!!!!!!!!!!!!!!!!!!\")\n",
    "\n",
    "        if not has_gt:\n",
    "            # print(\"!!!!!!!!!!!!!!!!!!!!!!!!!!!!!!!!!!!!!!!!!!!!!!!!!!!!!!\")\n",
    "            # print(f\"No ground truth found for {song_name} - {coarse_stem}. Skipping.\")\n",
    "            # print(\"!!!!!!!!!!!!!!!!!!!!!!!!!!!!!!!!!!!!!!!!!!!!!!!!!!!!!!\")\n",
    "            continue\n",
    "\n",
    "        coarse_true = sum(coarse_true)\n",
    "        coarse_pred = sum(coarse_pred)\n",
    "\n",
    "        snr_full = snr(coarse_true, coarse_pred)\n",
    "\n",
    "        results.append({\n",
    "            \"song\": song_name,\n",
    "            \"stem\": coarse_stem,\n",
    "            \"snr\": snr_full,\n",
    "            \"variant\": variant,\n",
    "            \"inference_mode\": inference_mode,\n",
    "        })\n",
    "\n",
    "    return results\n"
   ],
   "metadata": {
    "collapsed": false,
    "ExecuteTime": {
     "end_time": "2024-04-08T03:49:36.472274298Z",
     "start_time": "2024-04-08T03:49:36.443239167Z"
    }
   }
  },
  {
   "cell_type": "code",
   "execution_count": 114,
   "outputs": [
    {
     "name": "stdout",
     "output_type": "stream",
     "text": [
      "Processing vdb-d-nopre...\n"
     ]
    },
    {
     "data": {
      "text/plain": "  0%|          | 0/48 [00:00<?, ?it/s]",
      "application/vnd.jupyter.widget-view+json": {
       "version_major": 2,
       "version_minor": 0,
       "model_id": "50c00a13d8564bb38cec16a6d4e1d22d"
      }
     },
     "metadata": {},
     "output_type": "display_data"
    },
    {
     "name": "stdout",
     "output_type": "stream",
     "text": [
      "Processing vdb-d-prefz...\n"
     ]
    },
    {
     "data": {
      "text/plain": "  0%|          | 0/48 [00:00<?, ?it/s]",
      "application/vnd.jupyter.widget-view+json": {
       "version_major": 2,
       "version_minor": 0,
       "model_id": "22c35e540d504c2eaa1a5f0206e93ab9"
      }
     },
     "metadata": {},
     "output_type": "display_data"
    },
    {
     "name": "stdout",
     "output_type": "stream",
     "text": [
      "Processing vdb-d-pre...\n"
     ]
    },
    {
     "data": {
      "text/plain": "  0%|          | 0/48 [00:00<?, ?it/s]",
      "application/vnd.jupyter.widget-view+json": {
       "version_major": 2,
       "version_minor": 0,
       "model_id": "00a76ae53bfd42cb8d5eabbd12cbecac"
      }
     },
     "metadata": {},
     "output_type": "display_data"
    },
    {
     "name": "stdout",
     "output_type": "stream",
     "text": [
      "Processing vdb-d-pre-aug...\n"
     ]
    },
    {
     "data": {
      "text/plain": "  0%|          | 0/48 [00:00<?, ?it/s]",
      "application/vnd.jupyter.widget-view+json": {
       "version_major": 2,
       "version_minor": 0,
       "model_id": "03044723c97e475499433eb84c127830"
      }
     },
     "metadata": {},
     "output_type": "display_data"
    },
    {
     "name": "stdout",
     "output_type": "stream",
     "text": [
      "Processing vdb-d-nopre...\n"
     ]
    },
    {
     "data": {
      "text/plain": "  0%|          | 0/48 [00:00<?, ?it/s]",
      "application/vnd.jupyter.widget-view+json": {
       "version_major": 2,
       "version_minor": 0,
       "model_id": "f23691af345746f0b929a1dd3007c70a"
      }
     },
     "metadata": {},
     "output_type": "display_data"
    },
    {
     "name": "stdout",
     "output_type": "stream",
     "text": [
      "Processing vdb-d-prefz...\n"
     ]
    },
    {
     "data": {
      "text/plain": "  0%|          | 0/48 [00:00<?, ?it/s]",
      "application/vnd.jupyter.widget-view+json": {
       "version_major": 2,
       "version_minor": 0,
       "model_id": "eed9a172339441d4b34c2987ca7e78d2"
      }
     },
     "metadata": {},
     "output_type": "display_data"
    },
    {
     "name": "stdout",
     "output_type": "stream",
     "text": [
      "Processing vdb-d-pre...\n"
     ]
    },
    {
     "data": {
      "text/plain": "  0%|          | 0/48 [00:00<?, ?it/s]",
      "application/vnd.jupyter.widget-view+json": {
       "version_major": 2,
       "version_minor": 0,
       "model_id": "f3c85160a45543c886dd09f425aacda6"
      }
     },
     "metadata": {},
     "output_type": "display_data"
    },
    {
     "name": "stdout",
     "output_type": "stream",
     "text": [
      "Processing vdb-d-pre-aug...\n"
     ]
    },
    {
     "data": {
      "text/plain": "  0%|          | 0/48 [00:00<?, ?it/s]",
      "application/vnd.jupyter.widget-view+json": {
       "version_major": 2,
       "version_minor": 0,
       "model_id": "46f68ecef11d4ad1908a36db64a7d54f"
      }
     },
     "metadata": {},
     "output_type": "display_data"
    }
   ],
   "source": [
    "\n",
    "df = []\n",
    "\n",
    "for inference_mode in [\"inference-d\", \"inference-o\"]:\n",
    "\n",
    "    for v in variants:\n",
    "        print(f\"Processing {v}...\")\n",
    "\n",
    "        test_files = os.listdir(os.path.join(INFERENCE_ROOT, inference_mode, STEM_SETUP, v, \"audio\"))\n",
    "\n",
    "        # for song in tqdm(test_files):\n",
    "        #     results = get_results_for_song(song, inference_mode, v)\n",
    "        #     df.extend(results)\n",
    "\n",
    "        inputs = [(song, inference_mode, v) for song in test_files]\n",
    "\n",
    "        results = process_map(get_results_for_song, inputs, max_workers=16)\n",
    "        results = list(chain(*results))\n",
    "\n",
    "        df.extend(results)\n",
    "\n",
    "\n",
    "df = pd.DataFrame(df)"
   ],
   "metadata": {
    "collapsed": false,
    "ExecuteTime": {
     "end_time": "2024-04-08T03:51:40.072029269Z",
     "start_time": "2024-04-08T03:49:36.443285710Z"
    }
   }
  },
  {
   "cell_type": "markdown",
   "source": [],
   "metadata": {
    "collapsed": false
   }
  },
  {
   "cell_type": "code",
   "execution_count": 115,
   "outputs": [],
   "source": [
    "df[\"snr\"] = df[\"snr\"].replace(-np.inf, np.nan)"
   ],
   "metadata": {
    "collapsed": false,
    "ExecuteTime": {
     "end_time": "2024-04-08T03:51:40.116042283Z",
     "start_time": "2024-04-08T03:51:40.073311049Z"
    }
   }
  },
  {
   "cell_type": "code",
   "execution_count": 116,
   "outputs": [],
   "source": [
    "df.to_csv(os.path.join(INFERENCE_ROOT, \"bandit_vdb.csv\"), index=False)"
   ],
   "metadata": {
    "collapsed": false,
    "ExecuteTime": {
     "end_time": "2024-04-08T03:51:40.116289465Z",
     "start_time": "2024-04-08T03:51:40.115866401Z"
    }
   }
  },
  {
   "cell_type": "code",
   "execution_count": 133,
   "outputs": [],
   "source": [
    "df = pd.read_csv(os.path.join(INFERENCE_ROOT, \"bandit_vdb.csv\"))\n",
    "\n",
    "stem_dtype = pd.CategoricalDtype(categories=allowed_stems, ordered=True)\n",
    "df[\"stem\"] = df[\"stem\"].astype(stem_dtype)\n",
    "\n",
    "bool_dtype = pd.CategoricalDtype(categories=[\"Y\", \"N\"], ordered=True)\n",
    "ibool_dtype = pd.CategoricalDtype(categories=[\"N\", \"Y\"], ordered=True)\n",
    "\n",
    "df[\"is_pretrained\"] = df[\"variant\"].str.contains(\"nopre\").apply(lambda x: \"N\" if x else \"Y\").astype(ibool_dtype)\n",
    "df[\"is_frozen\"] = df[\"variant\"].str.contains(\"prefz\").apply(lambda x: \"Y\" if x else \"N\").astype(bool_dtype)\n",
    "df[\"is_balanced\"] = df[\"variant\"].str.contains(\"bal\").apply(lambda x: \"Y\" if x else \"N\").astype(ibool_dtype)\n",
    "df[\"is_augmented\"] = df[\"variant\"].str.contains(\"aug\").apply(lambda x: \"Y\" if x else \"N\").astype(ibool_dtype)\n",
    "df[\"query_same\"] = df[\"inference_mode\"].str.contains(\"-o\").apply(lambda x: \"same\" if x else \"diff.\")"
   ],
   "metadata": {
    "collapsed": false,
    "ExecuteTime": {
     "end_time": "2024-04-08T04:07:03.799966459Z",
     "start_time": "2024-04-08T04:07:03.759155351Z"
    }
   }
  },
  {
   "cell_type": "code",
   "execution_count": 134,
   "outputs": [
    {
     "name": "stderr",
     "output_type": "stream",
     "text": [
      "/tmp/ipykernel_1533357/1875239325.py:10: FutureWarning: The default of observed=False is deprecated and will be changed to True in a future version of pandas. Pass observed=False to retain current behavior or observed=True to adopt the future default and silence this warning.\n",
      "  dfagg = df.groupby([\n"
     ]
    }
   ],
   "source": [
    "def q25(x):\n",
    "    return x.quantile(0.25)\n",
    "\n",
    "def q75(x):\n",
    "    return x.quantile(0.75)\n",
    "\n",
    "def q50(x):\n",
    "    return x.quantile(0.5)\n",
    "\n",
    "dfagg = df.groupby([\n",
    "    \"is_pretrained\",\n",
    "    \"is_frozen\",\n",
    "    \"is_augmented\",\n",
    "    # \"is_balanced\",\n",
    "    \"query_same\",\n",
    "    \"stem\"\n",
    "]).agg({\"snr\": [q50]})\n",
    "dfagg.columns = [\"q50\"]\n",
    "dfagg = dfagg.reset_index()\n",
    "\n",
    "dfagg_all = dfagg.copy()\n",
    "\n",
    "dfagg = dfagg[dfagg.query_same == \"diff.\"]\n",
    "\n",
    "dfagg = dfagg.reset_index().pivot_table(\n",
    "    index=[\"is_pretrained\", \"is_frozen\", \"is_augmented\",],\n",
    "    columns=\"stem\",\n",
    "    values=[\"q50\"]\n",
    ")\n"
   ],
   "metadata": {
    "collapsed": false,
    "ExecuteTime": {
     "end_time": "2024-04-08T04:07:04.944884641Z",
     "start_time": "2024-04-08T04:07:04.940693918Z"
    }
   }
  },
  {
   "cell_type": "code",
   "execution_count": 124,
   "outputs": [],
   "source": [
    "dfagg = dfagg.swaplevel(axis=1).sort_index(axis=1)\n",
    "dfagg_max = dfagg.max(axis=0)\n"
   ],
   "metadata": {
    "collapsed": false,
    "ExecuteTime": {
     "end_time": "2024-04-08T04:06:29.499892Z",
     "start_time": "2024-04-08T04:06:29.455084210Z"
    }
   }
  },
  {
   "cell_type": "code",
   "execution_count": 125,
   "outputs": [],
   "source": [
    "\n",
    "def bold_formatter(x, val):\n",
    "    if round(x, 1) == round(val, 1):\n",
    "        return r\"\\bfseries \" + f\"{x:.1f}\"\n",
    "    return f\"{x:.1f}\"\n",
    "\n",
    "formatters = {\n",
    "    (c, d): partial(bold_formatter, val=dfagg_max.loc[c, d])\n",
    "    for c, d in dfagg.columns\n",
    "}"
   ],
   "metadata": {
    "collapsed": false,
    "ExecuteTime": {
     "end_time": "2024-04-08T04:06:29.500013826Z",
     "start_time": "2024-04-08T04:06:29.499793920Z"
    }
   }
  },
  {
   "cell_type": "code",
   "execution_count": 126,
   "outputs": [
    {
     "name": "stdout",
     "output_type": "stream",
     "text": [
      "\\begin{tabular}{lllrrrr}\n",
      "\\toprule\n",
      " &  & stem & lead_female_singer & lead_male_singer & drums & bass \\\\\n",
      " &  &  & q50 & q50 & q50 & q50 \\\\\n",
      "is_pretrained & is_frozen & is_augmented &  &  &  &  \\\\\n",
      "\\midrule\n",
      "N & N & N & 8.3 & 7.2 & 9.4 & 9.4 \\\\\n",
      "Y & Y & N & 9.8 & 7.6 & 9.9 & 10.2 \\\\\n",
      "Y & N & N & 9.8 & \\bfseries 8.0 & 9.3 & 9.8 \\\\\n",
      "Y & N & Y & \\bfseries 10.2 & \\bfseries 8.0 & \\bfseries 10.1 & \\bfseries 10.8 \\\\\n",
      "\\bottomrule\n",
      "\\end{tabular}\n",
      "\n"
     ]
    }
   ],
   "source": [
    "str_ = dfagg.to_latex(\n",
    "    formatters=formatters,\n",
    "    sparsify=False,\n",
    "    multirow=False,\n",
    ")\n",
    "\n",
    "print(str_)"
   ],
   "metadata": {
    "collapsed": false,
    "ExecuteTime": {
     "end_time": "2024-04-08T04:06:29.500080317Z",
     "start_time": "2024-04-08T04:06:29.499836519Z"
    }
   }
  },
  {
   "cell_type": "code",
   "execution_count": 145,
   "outputs": [
    {
     "name": "stderr",
     "output_type": "stream",
     "text": [
      "/tmp/ipykernel_1533357/2003895695.py:1: FutureWarning: The default of observed=False is deprecated and will be changed to True in a future version of pandas. Pass observed=False to retain current behavior or observed=True to adopt the future default and silence this warning.\n",
      "  dfagg_all.groupby(\n"
     ]
    },
    {
     "data": {
      "text/plain": "is_pretrained  is_frozen  is_augmented  stem              \nN              N          N             lead_female_singer    0.168944\nY              N          N             lead_female_singer    0.028744\nName: q50, dtype: float64"
     },
     "execution_count": 145,
     "metadata": {},
     "output_type": "execute_result"
    }
   ],
   "source": [
    "\n",
    "dfagg_all.groupby(\n",
    "    [\n",
    "        \"is_pretrained\",\n",
    "    \"is_frozen\",\n",
    "    \"is_augmented\",\n",
    "        \"stem\"\n",
    "    ]\n",
    ")[\"q50\"].apply(lambda row: np.abs(row.iloc[0] - row.iloc[1])).nlargest(2)"
   ],
   "metadata": {
    "collapsed": false,
    "ExecuteTime": {
     "end_time": "2024-04-08T04:10:10.932862818Z",
     "start_time": "2024-04-08T04:10:10.927571707Z"
    }
   }
  },
  {
   "cell_type": "code",
   "execution_count": 126,
   "outputs": [],
   "source": [],
   "metadata": {
    "collapsed": false,
    "ExecuteTime": {
     "end_time": "2024-04-08T04:06:29.500112799Z",
     "start_time": "2024-04-08T04:06:29.499991379Z"
    }
   }
  }
 ],
 "metadata": {
  "kernelspec": {
   "display_name": "Python 3",
   "language": "python",
   "name": "python3"
  },
  "language_info": {
   "codemirror_mode": {
    "name": "ipython",
    "version": 2
   },
   "file_extension": ".py",
   "mimetype": "text/x-python",
   "name": "python",
   "nbconvert_exporter": "python",
   "pygments_lexer": "ipython2",
   "version": "2.7.6"
  }
 },
 "nbformat": 4,
 "nbformat_minor": 0
}
