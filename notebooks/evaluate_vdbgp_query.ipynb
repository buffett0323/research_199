{
 "cells": [
  {
   "cell_type": "code",
   "execution_count": 147,
   "metadata": {
    "collapsed": true,
    "ExecuteTime": {
     "end_time": "2024-04-06T01:17:54.148969526Z",
     "start_time": "2024-04-06T01:17:54.108519625Z"
    }
   },
   "outputs": [],
   "source": [
    "from functools import partial\n",
    "from itertools import chain\n",
    "\n",
    "import librosa.effects\n",
    "import numpy as np\n",
    "import pandas as pd\n",
    "import soundfile as sf\n",
    "\n",
    "import os\n",
    "\n",
    "from ipywidgets import Audio\n",
    "from matplotlib import pyplot as plt\n",
    "from tqdm.contrib.concurrent import process_map\n",
    "from tqdm.notebook import tqdm\n",
    "\n",
    "import librosa"
   ]
  },
  {
   "cell_type": "code",
   "execution_count": 41,
   "outputs": [],
   "source": [
    "INFERENCE_ROOT = \"/home/kwatchar3/Documents/data/moisesdb/\"\n",
    "STEM_SETUP = \"vdbgp\"\n",
    "GROUND_TRUTH_ROOT = \"/home/kwatchar3/Documents/data/moisesdb\""
   ],
   "metadata": {
    "collapsed": false,
    "ExecuteTime": {
     "end_time": "2024-04-06T00:17:30.477964506Z",
     "start_time": "2024-04-06T00:17:30.476945Z"
    }
   }
  },
  {
   "cell_type": "code",
   "execution_count": 42,
   "outputs": [],
   "source": [
    "variants = [\n",
    "    \"vdbgp-d-pre\",\n",
    "    \"vdbgp-d-prefz\",\n",
    "    \"vdbgp-d-pre-aug\",\n",
    "    \"vdbgp-d-pre-bal\",\n",
    "    \"vdbgp-d-prefz-bal\",\n",
    "    \"vdbgp-d-pre-aug-bal\",\n",
    "]\n",
    "\n"
   ],
   "metadata": {
    "collapsed": false,
    "ExecuteTime": {
     "end_time": "2024-04-06T00:17:30.478032192Z",
     "start_time": "2024-04-06T00:17:30.477021223Z"
    }
   }
  },
  {
   "cell_type": "code",
   "execution_count": 43,
   "outputs": [],
   "source": [
    "gt_files = os.listdir(os.path.join(GROUND_TRUTH_ROOT, \"npy2\"))"
   ],
   "metadata": {
    "collapsed": false,
    "ExecuteTime": {
     "end_time": "2024-04-06T00:17:30.478078628Z",
     "start_time": "2024-04-06T00:17:30.477041650Z"
    }
   }
  },
  {
   "cell_type": "code",
   "execution_count": 44,
   "outputs": [],
   "source": [
    "def snr(gt, est):\n",
    "    return 10 * np.log10(np.sum(np.square(gt)) / np.sum(np.square(gt - est)))"
   ],
   "metadata": {
    "collapsed": false,
    "ExecuteTime": {
     "end_time": "2024-04-06T00:17:30.478120578Z",
     "start_time": "2024-04-06T00:17:30.477062709Z"
    }
   }
  },
  {
   "cell_type": "code",
   "execution_count": 45,
   "outputs": [],
   "source": [
    "allowed_stems = [\n",
    "    \"lead_female_singer\",\n",
    "    \"lead_male_singer\",\n",
    "    \"drums\",\n",
    "    \"bass_guitar\",\n",
    "    \"acoustic_guitar\",\n",
    "    \"clean_electric_guitar\",\n",
    "    \"distorted_electric_guitar\",\n",
    "    \"grand_piano\",\n",
    "    \"electric_piano\",\n",
    "]"
   ],
   "metadata": {
    "collapsed": false,
    "ExecuteTime": {
     "end_time": "2024-04-06T00:17:30.478163141Z",
     "start_time": "2024-04-06T00:17:30.477078796Z"
    }
   }
  },
  {
   "cell_type": "code",
   "execution_count": 46,
   "outputs": [],
   "source": [
    "def get_results_for_song(inputs):\n",
    "\n",
    "    song_name, inference_mode, variant = inputs\n",
    "\n",
    "    stems = os.listdir(os.path.join(INFERENCE_ROOT, inference_mode, STEM_SETUP, variant, \"audio\", song_name))\n",
    "    stems = [s.replace(\".wav\", \"\") for s in stems]\n",
    "\n",
    "    results = []\n",
    "\n",
    "    for stem in stems:\n",
    "        if stem not in allowed_stems:\n",
    "            continue\n",
    "\n",
    "        audio_est, sr = sf.read(os.path.join(INFERENCE_ROOT, inference_mode, STEM_SETUP, variant, \"audio\", song_name, f\"{stem}.wav\"))\n",
    "        audio_est = audio_est.T\n",
    "\n",
    "        npy_path = os.path.join(GROUND_TRUTH_ROOT, \"npy2\", song_name, f\"{stem}.npy\")\n",
    "        if os.path.exists(npy_path):\n",
    "            audio = np.load(npy_path, mmap_mode=\"r\")\n",
    "        else:\n",
    "            print(\"!!!!!!!!!!!!!!!!!!!!!!!!!!!!!!!!!!!!!!!!!!!!!!!!!!!!!!!\")\n",
    "            print(f\"Ground truth not found for {song_name}/{stem}. Using zeros.\")\n",
    "            print(\"!!!!!!!!!!!!!!!!!!!!!!!!!!!!!!!!!!!!!!!!!!!!!!!!!!!!!!!\")\n",
    "            audio = np.zeros_like(audio_est)\n",
    "\n",
    "        snr_full = snr(audio, audio_est)\n",
    "\n",
    "        results.append({\n",
    "            \"song\": song_name,\n",
    "            \"stem\": stem,\n",
    "            \"snr\": snr_full,\n",
    "            \"variant\": variant,\n",
    "            \"inference_mode\": inference_mode,\n",
    "        })\n",
    "\n",
    "    return results\n",
    "\n"
   ],
   "metadata": {
    "collapsed": false,
    "ExecuteTime": {
     "end_time": "2024-04-06T00:17:30.478202810Z",
     "start_time": "2024-04-06T00:17:30.477095928Z"
    }
   }
  },
  {
   "cell_type": "code",
   "execution_count": 59,
   "outputs": [
    {
     "name": "stdout",
     "output_type": "stream",
     "text": [
      "Processing vdbgp-d-pre...\n"
     ]
    },
    {
     "data": {
      "text/plain": "  0%|          | 0/48 [00:00<?, ?it/s]",
      "application/vnd.jupyter.widget-view+json": {
       "version_major": 2,
       "version_minor": 0,
       "model_id": "be3f2d2ef7004e8da3deb348c57ccc59"
      }
     },
     "metadata": {},
     "output_type": "display_data"
    },
    {
     "name": "stdout",
     "output_type": "stream",
     "text": [
      "Processing vdbgp-d-prefz...\n"
     ]
    },
    {
     "data": {
      "text/plain": "  0%|          | 0/48 [00:00<?, ?it/s]",
      "application/vnd.jupyter.widget-view+json": {
       "version_major": 2,
       "version_minor": 0,
       "model_id": "b3d21ae2dd534643994529cbf31aadd2"
      }
     },
     "metadata": {},
     "output_type": "display_data"
    },
    {
     "name": "stdout",
     "output_type": "stream",
     "text": [
      "Processing vdbgp-d-pre-aug...\n"
     ]
    },
    {
     "data": {
      "text/plain": "  0%|          | 0/48 [00:00<?, ?it/s]",
      "application/vnd.jupyter.widget-view+json": {
       "version_major": 2,
       "version_minor": 0,
       "model_id": "04f9d83a376c438ab06068514699dfeb"
      }
     },
     "metadata": {},
     "output_type": "display_data"
    },
    {
     "name": "stdout",
     "output_type": "stream",
     "text": [
      "Processing vdbgp-d-pre-bal...\n"
     ]
    },
    {
     "data": {
      "text/plain": "  0%|          | 0/48 [00:00<?, ?it/s]",
      "application/vnd.jupyter.widget-view+json": {
       "version_major": 2,
       "version_minor": 0,
       "model_id": "96e08a7f38dd40e69a6d99c9c114c0bd"
      }
     },
     "metadata": {},
     "output_type": "display_data"
    },
    {
     "name": "stdout",
     "output_type": "stream",
     "text": [
      "Processing vdbgp-d-prefz-bal...\n"
     ]
    },
    {
     "data": {
      "text/plain": "  0%|          | 0/48 [00:00<?, ?it/s]",
      "application/vnd.jupyter.widget-view+json": {
       "version_major": 2,
       "version_minor": 0,
       "model_id": "5e4181ab556d4c2583df627d5964457e"
      }
     },
     "metadata": {},
     "output_type": "display_data"
    },
    {
     "name": "stdout",
     "output_type": "stream",
     "text": [
      "Processing vdbgp-d-pre-aug-bal...\n"
     ]
    },
    {
     "data": {
      "text/plain": "  0%|          | 0/48 [00:00<?, ?it/s]",
      "application/vnd.jupyter.widget-view+json": {
       "version_major": 2,
       "version_minor": 0,
       "model_id": "428fb352d0f74b26a73a0bb30291fc4b"
      }
     },
     "metadata": {},
     "output_type": "display_data"
    },
    {
     "name": "stdout",
     "output_type": "stream",
     "text": [
      "Processing vdbgp-d-pre...\n"
     ]
    },
    {
     "data": {
      "text/plain": "  0%|          | 0/48 [00:00<?, ?it/s]",
      "application/vnd.jupyter.widget-view+json": {
       "version_major": 2,
       "version_minor": 0,
       "model_id": "7b698cb85ffa47a7887ae0b602e4d818"
      }
     },
     "metadata": {},
     "output_type": "display_data"
    },
    {
     "name": "stdout",
     "output_type": "stream",
     "text": [
      "Processing vdbgp-d-prefz...\n"
     ]
    },
    {
     "data": {
      "text/plain": "  0%|          | 0/48 [00:00<?, ?it/s]",
      "application/vnd.jupyter.widget-view+json": {
       "version_major": 2,
       "version_minor": 0,
       "model_id": "44299177761e4565b77a19db3baab0d6"
      }
     },
     "metadata": {},
     "output_type": "display_data"
    },
    {
     "name": "stdout",
     "output_type": "stream",
     "text": [
      "Processing vdbgp-d-pre-aug...\n"
     ]
    },
    {
     "data": {
      "text/plain": "  0%|          | 0/48 [00:00<?, ?it/s]",
      "application/vnd.jupyter.widget-view+json": {
       "version_major": 2,
       "version_minor": 0,
       "model_id": "ff6b9aabbb9a41909af4ca801f82b665"
      }
     },
     "metadata": {},
     "output_type": "display_data"
    },
    {
     "name": "stdout",
     "output_type": "stream",
     "text": [
      "Processing vdbgp-d-pre-bal...\n"
     ]
    },
    {
     "data": {
      "text/plain": "  0%|          | 0/48 [00:00<?, ?it/s]",
      "application/vnd.jupyter.widget-view+json": {
       "version_major": 2,
       "version_minor": 0,
       "model_id": "4e1df82d8fd54ddc9052059f29d9e37f"
      }
     },
     "metadata": {},
     "output_type": "display_data"
    },
    {
     "name": "stdout",
     "output_type": "stream",
     "text": [
      "Processing vdbgp-d-prefz-bal...\n"
     ]
    },
    {
     "data": {
      "text/plain": "  0%|          | 0/48 [00:00<?, ?it/s]",
      "application/vnd.jupyter.widget-view+json": {
       "version_major": 2,
       "version_minor": 0,
       "model_id": "1a07fe56352b40f5acd772be8035753a"
      }
     },
     "metadata": {},
     "output_type": "display_data"
    },
    {
     "name": "stdout",
     "output_type": "stream",
     "text": [
      "Processing vdbgp-d-pre-aug-bal...\n"
     ]
    },
    {
     "data": {
      "text/plain": "  0%|          | 0/48 [00:00<?, ?it/s]",
      "application/vnd.jupyter.widget-view+json": {
       "version_major": 2,
       "version_minor": 0,
       "model_id": "16b4c7739ded4993a347b933ec997b49"
      }
     },
     "metadata": {},
     "output_type": "display_data"
    }
   ],
   "source": [
    "\n",
    "df = []\n",
    "\n",
    "for inference_mode in [\"inference-d\", \"inference-o\"]:\n",
    "\n",
    "    for v in variants:\n",
    "        print(f\"Processing {v}...\")\n",
    "\n",
    "        test_files = os.listdir(os.path.join(INFERENCE_ROOT, inference_mode, STEM_SETUP, v, \"audio\"))\n",
    "\n",
    "        # for song in tqdm(test_files):\n",
    "        #     results = get_results_for_song(song, inference_mode, v)\n",
    "        #     df.extend(results)\n",
    "\n",
    "        inputs = [(song, inference_mode, v) for song in test_files]\n",
    "\n",
    "        results = process_map(get_results_for_song, inputs, max_workers=16)\n",
    "        results = list(chain(*results))\n",
    "\n",
    "        df.extend(results)\n",
    "\n",
    "\n",
    "df = pd.DataFrame(df)"
   ],
   "metadata": {
    "collapsed": false,
    "ExecuteTime": {
     "end_time": "2024-04-06T00:45:30.138844425Z",
     "start_time": "2024-04-06T00:41:31.501195560Z"
    }
   }
  },
  {
   "cell_type": "markdown",
   "source": [],
   "metadata": {
    "collapsed": false
   }
  },
  {
   "cell_type": "code",
   "execution_count": 60,
   "outputs": [
    {
     "data": {
      "text/plain": "                                      song                       stem  \\\n0     704f1de9-1d02-4c2b-af05-107a7700a51d                bass_guitar   \n1     704f1de9-1d02-4c2b-af05-107a7700a51d                      drums   \n2     704f1de9-1d02-4c2b-af05-107a7700a51d            acoustic_guitar   \n3     704f1de9-1d02-4c2b-af05-107a7700a51d           lead_male_singer   \n4     8a6c9c1f-4865-404f-a805-1949de36a33c         lead_female_singer   \n...                                    ...                        ...   \n2647  a56d9450-3a26-485c-8ac3-24b6b54e2c1d            acoustic_guitar   \n2648  1f98fe4d-26c7-460f-9f68-33964bc4d8d3  distorted_electric_guitar   \n2649  1f98fe4d-26c7-460f-9f68-33964bc4d8d3                bass_guitar   \n2650  1f98fe4d-26c7-460f-9f68-33964bc4d8d3                      drums   \n2651  1f98fe4d-26c7-460f-9f68-33964bc4d8d3           lead_male_singer   \n\n            snr              variant inference_mode  \n0      9.033754          vdbgp-d-pre    inference-d  \n1     12.501521          vdbgp-d-pre    inference-d  \n2      1.717476          vdbgp-d-pre    inference-d  \n3      7.361787          vdbgp-d-pre    inference-d  \n4     13.685509          vdbgp-d-pre    inference-d  \n...         ...                  ...            ...  \n2647  10.415203  vdbgp-d-pre-aug-bal    inference-o  \n2648   4.498278  vdbgp-d-pre-aug-bal    inference-o  \n2649   8.909531  vdbgp-d-pre-aug-bal    inference-o  \n2650  10.670884  vdbgp-d-pre-aug-bal    inference-o  \n2651   1.847866  vdbgp-d-pre-aug-bal    inference-o  \n\n[2652 rows x 5 columns]",
      "text/html": "<div>\n<style scoped>\n    .dataframe tbody tr th:only-of-type {\n        vertical-align: middle;\n    }\n\n    .dataframe tbody tr th {\n        vertical-align: top;\n    }\n\n    .dataframe thead th {\n        text-align: right;\n    }\n</style>\n<table border=\"1\" class=\"dataframe\">\n  <thead>\n    <tr style=\"text-align: right;\">\n      <th></th>\n      <th>song</th>\n      <th>stem</th>\n      <th>snr</th>\n      <th>variant</th>\n      <th>inference_mode</th>\n    </tr>\n  </thead>\n  <tbody>\n    <tr>\n      <th>0</th>\n      <td>704f1de9-1d02-4c2b-af05-107a7700a51d</td>\n      <td>bass_guitar</td>\n      <td>9.033754</td>\n      <td>vdbgp-d-pre</td>\n      <td>inference-d</td>\n    </tr>\n    <tr>\n      <th>1</th>\n      <td>704f1de9-1d02-4c2b-af05-107a7700a51d</td>\n      <td>drums</td>\n      <td>12.501521</td>\n      <td>vdbgp-d-pre</td>\n      <td>inference-d</td>\n    </tr>\n    <tr>\n      <th>2</th>\n      <td>704f1de9-1d02-4c2b-af05-107a7700a51d</td>\n      <td>acoustic_guitar</td>\n      <td>1.717476</td>\n      <td>vdbgp-d-pre</td>\n      <td>inference-d</td>\n    </tr>\n    <tr>\n      <th>3</th>\n      <td>704f1de9-1d02-4c2b-af05-107a7700a51d</td>\n      <td>lead_male_singer</td>\n      <td>7.361787</td>\n      <td>vdbgp-d-pre</td>\n      <td>inference-d</td>\n    </tr>\n    <tr>\n      <th>4</th>\n      <td>8a6c9c1f-4865-404f-a805-1949de36a33c</td>\n      <td>lead_female_singer</td>\n      <td>13.685509</td>\n      <td>vdbgp-d-pre</td>\n      <td>inference-d</td>\n    </tr>\n    <tr>\n      <th>...</th>\n      <td>...</td>\n      <td>...</td>\n      <td>...</td>\n      <td>...</td>\n      <td>...</td>\n    </tr>\n    <tr>\n      <th>2647</th>\n      <td>a56d9450-3a26-485c-8ac3-24b6b54e2c1d</td>\n      <td>acoustic_guitar</td>\n      <td>10.415203</td>\n      <td>vdbgp-d-pre-aug-bal</td>\n      <td>inference-o</td>\n    </tr>\n    <tr>\n      <th>2648</th>\n      <td>1f98fe4d-26c7-460f-9f68-33964bc4d8d3</td>\n      <td>distorted_electric_guitar</td>\n      <td>4.498278</td>\n      <td>vdbgp-d-pre-aug-bal</td>\n      <td>inference-o</td>\n    </tr>\n    <tr>\n      <th>2649</th>\n      <td>1f98fe4d-26c7-460f-9f68-33964bc4d8d3</td>\n      <td>bass_guitar</td>\n      <td>8.909531</td>\n      <td>vdbgp-d-pre-aug-bal</td>\n      <td>inference-o</td>\n    </tr>\n    <tr>\n      <th>2650</th>\n      <td>1f98fe4d-26c7-460f-9f68-33964bc4d8d3</td>\n      <td>drums</td>\n      <td>10.670884</td>\n      <td>vdbgp-d-pre-aug-bal</td>\n      <td>inference-o</td>\n    </tr>\n    <tr>\n      <th>2651</th>\n      <td>1f98fe4d-26c7-460f-9f68-33964bc4d8d3</td>\n      <td>lead_male_singer</td>\n      <td>1.847866</td>\n      <td>vdbgp-d-pre-aug-bal</td>\n      <td>inference-o</td>\n    </tr>\n  </tbody>\n</table>\n<p>2652 rows × 5 columns</p>\n</div>"
     },
     "execution_count": 60,
     "metadata": {},
     "output_type": "execute_result"
    }
   ],
   "source": [
    "df"
   ],
   "metadata": {
    "collapsed": false,
    "ExecuteTime": {
     "end_time": "2024-04-06T00:45:30.158479994Z",
     "start_time": "2024-04-06T00:45:30.147710710Z"
    }
   }
  },
  {
   "cell_type": "code",
   "execution_count": 61,
   "outputs": [],
   "source": [
    "df[\"snr\"] = df[\"snr\"].replace(-np.inf, np.nan)"
   ],
   "metadata": {
    "collapsed": false,
    "ExecuteTime": {
     "end_time": "2024-04-06T00:45:30.187430478Z",
     "start_time": "2024-04-06T00:45:30.159339419Z"
    }
   }
  },
  {
   "cell_type": "code",
   "execution_count": 62,
   "outputs": [],
   "source": [
    "df.to_csv(os.path.join(INFERENCE_ROOT, \"bandit_vdbgp.csv\"), index=False)"
   ],
   "metadata": {
    "collapsed": false,
    "ExecuteTime": {
     "end_time": "2024-04-06T00:45:30.190577704Z",
     "start_time": "2024-04-06T00:45:30.171662355Z"
    }
   }
  },
  {
   "cell_type": "code",
   "execution_count": 194,
   "outputs": [],
   "source": [
    "df = pd.read_csv(os.path.join(INFERENCE_ROOT, \"bandit_vdbgp.csv\"))\n",
    "\n",
    "stem_dtype = pd.CategoricalDtype(categories=allowed_stems, ordered=True)\n",
    "df[\"stem\"] = df[\"stem\"].astype(stem_dtype)\n",
    "\n",
    "bool_dtype = pd.CategoricalDtype(categories=[\"Y\", \"N\"], ordered=True)\n",
    "ibool_dtype = pd.CategoricalDtype(categories=[\"N\", \"Y\"], ordered=True)\n",
    "\n",
    "df[\"is_frozen\"] = df[\"variant\"].str.contains(\"prefz\").apply(lambda x: \"Y\" if x else \"N\").astype(bool_dtype)\n",
    "df[\"is_balanced\"] = df[\"variant\"].str.contains(\"bal\").apply(lambda x: \"Y\" if x else \"N\").astype(ibool_dtype)\n",
    "df[\"is_augmented\"] = df[\"variant\"].str.contains(\"aug\").apply(lambda x: \"Y\" if x else \"N\").astype(ibool_dtype)\n",
    "df[\"query_same\"] = df[\"inference_mode\"].str.contains(\"-o\").apply(lambda x: \"same\" if x else \"diff.\")"
   ],
   "metadata": {
    "collapsed": false,
    "ExecuteTime": {
     "end_time": "2024-04-08T02:49:07.480294174Z",
     "start_time": "2024-04-08T02:49:07.174661559Z"
    }
   }
  },
  {
   "cell_type": "code",
   "execution_count": 195,
   "outputs": [
    {
     "name": "stderr",
     "output_type": "stream",
     "text": [
      "/tmp/ipykernel_1039573/4175560588.py:10: FutureWarning: The default of observed=False is deprecated and will be changed to True in a future version of pandas. Pass observed=False to retain current behavior or observed=True to adopt the future default and silence this warning.\n",
      "  dfagg = df.groupby([\n"
     ]
    }
   ],
   "source": [
    "def q25(x):\n",
    "    return x.quantile(0.25)\n",
    "\n",
    "def q75(x):\n",
    "    return x.quantile(0.75)\n",
    "\n",
    "def q50(x):\n",
    "    return x.quantile(0.5)\n",
    "\n",
    "dfagg = df.groupby([\n",
    "    \"is_frozen\",\n",
    "    \"is_augmented\",\n",
    "    \"is_balanced\",\n",
    "    \"query_same\",\n",
    "    \"stem\"\n",
    "]).agg({\"snr\": [q25, q50, q75]})\n",
    "dfagg.columns = [\"q25\", \"q50\", \"q75\"]\n",
    "dfagg = dfagg.reset_index()\n",
    "dfagg = dfagg.reset_index().pivot_table(\n",
    "    index=[\"is_frozen\", \"is_augmented\", \"is_balanced\", \"query_same\"],\n",
    "    columns=\"stem\",\n",
    "    values=[\"q25\", \"q50\", \"q75\"]\n",
    ")\n"
   ],
   "metadata": {
    "collapsed": false,
    "ExecuteTime": {
     "end_time": "2024-04-08T02:49:09.322104050Z",
     "start_time": "2024-04-08T02:49:09.283623798Z"
    }
   }
  },
  {
   "cell_type": "code",
   "execution_count": 196,
   "outputs": [
    {
     "data": {
      "text/plain": "stem                                          lead_female_singer            \\\n                                                             q25       q50   \nis_frozen is_augmented is_balanced query_same                                \nY         N            N           diff.                7.198664  9.723279   \n                                   same                 7.369198  9.691747   \n                       Y           diff.                6.161379  9.097359   \n                                   same                 6.250170  9.161142   \nN         N            N           diff.                5.952838  9.630895   \n                                   same                 6.257276  9.636968   \n          Y            N           diff.                5.008355  9.851802   \n                                   same                 5.147925  9.868163   \n\nstem                                                     lead_male_singer  \\\n                                                     q75              q25   \nis_frozen is_augmented is_balanced query_same                               \nY         N            N           diff.       12.798156         6.314435   \n                                   same        12.805657         6.613824   \n                       Y           diff.       12.302063         6.114836   \n                                   same        12.315944         5.442377   \nN         N            N           diff.       12.874142         6.463644   \n                                   same        12.874389         6.461676   \n          Y            N           diff.       13.350157         6.362659   \n                                   same        13.350220         6.323971   \n\nstem                                                                   drums  \\\n                                                    q50        q75       q25   \nis_frozen is_augmented is_balanced query_same                                  \nY         N            N           diff.       7.357547   9.797291  8.157859   \n                                   same        7.426128   9.785307  8.153814   \n                       Y           diff.       6.884451   8.748042  7.779492   \n                                   same        7.065612   8.892028  7.777564   \nN         N            N           diff.       7.947806   9.908751  7.881636   \n                                   same        7.945579   9.902304  7.845629   \n          Y            N           diff.       8.032614  10.098088  8.560939   \n                                   same        8.017485  10.071638  8.559176   \n\nstem                                                                \\\n                                                    q50        q75   \nis_frozen is_augmented is_balanced query_same                        \nY         N            N           diff.       9.804378  11.801135   \n                                   same        9.805333  11.800478   \n                       Y           diff.       8.966419  11.010345   \n                                   same        8.954748  11.022204   \nN         N            N           diff.       9.339234  11.766748   \n                                   same        9.343800  11.762347   \n          Y            N           diff.       9.983489  12.399178   \n                                   same        9.985436  12.399270   \n\nstem                                          bass_guitar  ...  \\\n                                                      q25  ...   \nis_frozen is_augmented is_balanced query_same              ...   \nY         N            N           diff.         8.015215  ...   \n                                   same          8.012354  ...   \n                       Y           diff.         7.595034  ...   \n                                   same          7.557049  ...   \nN         N            N           diff.         7.897048  ...   \n                                   same          7.902327  ...   \n          Y            N           diff.         8.709943  ...   \n                                   same          8.710634  ...   \n\nstem                                          clean_electric_guitar  \\\n                                                                q75   \nis_frozen is_augmented is_balanced query_same                         \nY         N            N           diff.                   1.722306   \n                                   same                    1.812555   \n                       Y           diff.                   1.463174   \n                                   same                    1.567352   \nN         N            N           diff.                   2.941832   \n                                   same                    2.423461   \n          Y            N           diff.                   2.095459   \n                                   same                    1.868485   \n\nstem                                          distorted_electric_guitar  \\\n                                                                    q25   \nis_frozen is_augmented is_balanced query_same                             \nY         N            N           diff.                       0.604794   \n                                   same                        0.503696   \n                       Y           diff.                       0.322619   \n                                   same                        0.384457   \nN         N            N           diff.                       0.903565   \n                                   same                        0.653814   \n          Y            N           diff.                       0.543903   \n                                   same                        0.555051   \n\nstem                                                              grand_piano  \\\n                                                    q50       q75         q25   \nis_frozen is_augmented is_balanced query_same                                   \nY         N            N           diff.       2.584025  4.775978    0.095643   \n                                   same        2.538738  4.548766   -0.103905   \n                       Y           diff.       2.324578  4.031529   -1.498889   \n                                   same        2.235533  4.021377   -1.435887   \nN         N            N           diff.       2.742352  5.189143    0.740644   \n                                   same        2.747163  4.717952    0.744294   \n          Y            N           diff.       2.276117  4.393632    0.479100   \n                                   same        2.258218  4.542683    0.463992   \n\nstem                                                               \\\n                                                    q50       q75   \nis_frozen is_augmented is_balanced query_same                       \nY         N            N           diff.       0.943940  2.099960   \n                                   same        0.947414  2.103304   \n                       Y           diff.       0.780164  1.989419   \n                                   same        0.767682  1.977984   \nN         N            N           diff.       2.365721  3.059876   \n                                   same        2.370211  3.079071   \n          Y            N           diff.       1.570971  2.857273   \n                                   same        1.423379  2.961855   \n\nstem                                          electric_piano            \\\n                                                         q25       q50   \nis_frozen is_augmented is_balanced query_same                            \nY         N            N           diff.           -0.005586  0.215652   \n                                   same             0.247375  0.391507   \n                       Y           diff.           -0.054843  0.401561   \n                                   same             0.312920  0.480738   \nN         N            N           diff.            0.136738  0.631473   \n                                   same            -0.778946  0.823196   \n          Y            N           diff.            0.000027  0.000667   \n                                   same             0.021866  0.107850   \n\nstem                                                     \n                                                    q75  \nis_frozen is_augmented is_balanced query_same            \nY         N            N           diff.       0.590281  \n                                   same        0.559184  \n                       Y           diff.       0.757468  \n                                   same        0.698899  \nN         N            N           diff.       0.744000  \n                                   same        1.677319  \n          Y            N           diff.       0.202467  \n                                   same        0.135602  \n\n[8 rows x 27 columns]",
      "text/html": "<div>\n<style scoped>\n    .dataframe tbody tr th:only-of-type {\n        vertical-align: middle;\n    }\n\n    .dataframe tbody tr th {\n        vertical-align: top;\n    }\n\n    .dataframe thead tr th {\n        text-align: left;\n    }\n\n    .dataframe thead tr:last-of-type th {\n        text-align: right;\n    }\n</style>\n<table border=\"1\" class=\"dataframe\">\n  <thead>\n    <tr>\n      <th></th>\n      <th></th>\n      <th></th>\n      <th>stem</th>\n      <th colspan=\"3\" halign=\"left\">lead_female_singer</th>\n      <th colspan=\"3\" halign=\"left\">lead_male_singer</th>\n      <th colspan=\"3\" halign=\"left\">drums</th>\n      <th>bass_guitar</th>\n      <th>...</th>\n      <th>clean_electric_guitar</th>\n      <th colspan=\"3\" halign=\"left\">distorted_electric_guitar</th>\n      <th colspan=\"3\" halign=\"left\">grand_piano</th>\n      <th colspan=\"3\" halign=\"left\">electric_piano</th>\n    </tr>\n    <tr>\n      <th></th>\n      <th></th>\n      <th></th>\n      <th></th>\n      <th>q25</th>\n      <th>q50</th>\n      <th>q75</th>\n      <th>q25</th>\n      <th>q50</th>\n      <th>q75</th>\n      <th>q25</th>\n      <th>q50</th>\n      <th>q75</th>\n      <th>q25</th>\n      <th>...</th>\n      <th>q75</th>\n      <th>q25</th>\n      <th>q50</th>\n      <th>q75</th>\n      <th>q25</th>\n      <th>q50</th>\n      <th>q75</th>\n      <th>q25</th>\n      <th>q50</th>\n      <th>q75</th>\n    </tr>\n    <tr>\n      <th>is_frozen</th>\n      <th>is_augmented</th>\n      <th>is_balanced</th>\n      <th>query_same</th>\n      <th></th>\n      <th></th>\n      <th></th>\n      <th></th>\n      <th></th>\n      <th></th>\n      <th></th>\n      <th></th>\n      <th></th>\n      <th></th>\n      <th></th>\n      <th></th>\n      <th></th>\n      <th></th>\n      <th></th>\n      <th></th>\n      <th></th>\n      <th></th>\n      <th></th>\n      <th></th>\n      <th></th>\n    </tr>\n  </thead>\n  <tbody>\n    <tr>\n      <th rowspan=\"4\" valign=\"top\">Y</th>\n      <th rowspan=\"4\" valign=\"top\">N</th>\n      <th rowspan=\"2\" valign=\"top\">N</th>\n      <th>diff.</th>\n      <td>7.198664</td>\n      <td>9.723279</td>\n      <td>12.798156</td>\n      <td>6.314435</td>\n      <td>7.357547</td>\n      <td>9.797291</td>\n      <td>8.157859</td>\n      <td>9.804378</td>\n      <td>11.801135</td>\n      <td>8.015215</td>\n      <td>...</td>\n      <td>1.722306</td>\n      <td>0.604794</td>\n      <td>2.584025</td>\n      <td>4.775978</td>\n      <td>0.095643</td>\n      <td>0.943940</td>\n      <td>2.099960</td>\n      <td>-0.005586</td>\n      <td>0.215652</td>\n      <td>0.590281</td>\n    </tr>\n    <tr>\n      <th>same</th>\n      <td>7.369198</td>\n      <td>9.691747</td>\n      <td>12.805657</td>\n      <td>6.613824</td>\n      <td>7.426128</td>\n      <td>9.785307</td>\n      <td>8.153814</td>\n      <td>9.805333</td>\n      <td>11.800478</td>\n      <td>8.012354</td>\n      <td>...</td>\n      <td>1.812555</td>\n      <td>0.503696</td>\n      <td>2.538738</td>\n      <td>4.548766</td>\n      <td>-0.103905</td>\n      <td>0.947414</td>\n      <td>2.103304</td>\n      <td>0.247375</td>\n      <td>0.391507</td>\n      <td>0.559184</td>\n    </tr>\n    <tr>\n      <th rowspan=\"2\" valign=\"top\">Y</th>\n      <th>diff.</th>\n      <td>6.161379</td>\n      <td>9.097359</td>\n      <td>12.302063</td>\n      <td>6.114836</td>\n      <td>6.884451</td>\n      <td>8.748042</td>\n      <td>7.779492</td>\n      <td>8.966419</td>\n      <td>11.010345</td>\n      <td>7.595034</td>\n      <td>...</td>\n      <td>1.463174</td>\n      <td>0.322619</td>\n      <td>2.324578</td>\n      <td>4.031529</td>\n      <td>-1.498889</td>\n      <td>0.780164</td>\n      <td>1.989419</td>\n      <td>-0.054843</td>\n      <td>0.401561</td>\n      <td>0.757468</td>\n    </tr>\n    <tr>\n      <th>same</th>\n      <td>6.250170</td>\n      <td>9.161142</td>\n      <td>12.315944</td>\n      <td>5.442377</td>\n      <td>7.065612</td>\n      <td>8.892028</td>\n      <td>7.777564</td>\n      <td>8.954748</td>\n      <td>11.022204</td>\n      <td>7.557049</td>\n      <td>...</td>\n      <td>1.567352</td>\n      <td>0.384457</td>\n      <td>2.235533</td>\n      <td>4.021377</td>\n      <td>-1.435887</td>\n      <td>0.767682</td>\n      <td>1.977984</td>\n      <td>0.312920</td>\n      <td>0.480738</td>\n      <td>0.698899</td>\n    </tr>\n    <tr>\n      <th rowspan=\"4\" valign=\"top\">N</th>\n      <th rowspan=\"2\" valign=\"top\">N</th>\n      <th rowspan=\"2\" valign=\"top\">N</th>\n      <th>diff.</th>\n      <td>5.952838</td>\n      <td>9.630895</td>\n      <td>12.874142</td>\n      <td>6.463644</td>\n      <td>7.947806</td>\n      <td>9.908751</td>\n      <td>7.881636</td>\n      <td>9.339234</td>\n      <td>11.766748</td>\n      <td>7.897048</td>\n      <td>...</td>\n      <td>2.941832</td>\n      <td>0.903565</td>\n      <td>2.742352</td>\n      <td>5.189143</td>\n      <td>0.740644</td>\n      <td>2.365721</td>\n      <td>3.059876</td>\n      <td>0.136738</td>\n      <td>0.631473</td>\n      <td>0.744000</td>\n    </tr>\n    <tr>\n      <th>same</th>\n      <td>6.257276</td>\n      <td>9.636968</td>\n      <td>12.874389</td>\n      <td>6.461676</td>\n      <td>7.945579</td>\n      <td>9.902304</td>\n      <td>7.845629</td>\n      <td>9.343800</td>\n      <td>11.762347</td>\n      <td>7.902327</td>\n      <td>...</td>\n      <td>2.423461</td>\n      <td>0.653814</td>\n      <td>2.747163</td>\n      <td>4.717952</td>\n      <td>0.744294</td>\n      <td>2.370211</td>\n      <td>3.079071</td>\n      <td>-0.778946</td>\n      <td>0.823196</td>\n      <td>1.677319</td>\n    </tr>\n    <tr>\n      <th rowspan=\"2\" valign=\"top\">Y</th>\n      <th rowspan=\"2\" valign=\"top\">N</th>\n      <th>diff.</th>\n      <td>5.008355</td>\n      <td>9.851802</td>\n      <td>13.350157</td>\n      <td>6.362659</td>\n      <td>8.032614</td>\n      <td>10.098088</td>\n      <td>8.560939</td>\n      <td>9.983489</td>\n      <td>12.399178</td>\n      <td>8.709943</td>\n      <td>...</td>\n      <td>2.095459</td>\n      <td>0.543903</td>\n      <td>2.276117</td>\n      <td>4.393632</td>\n      <td>0.479100</td>\n      <td>1.570971</td>\n      <td>2.857273</td>\n      <td>0.000027</td>\n      <td>0.000667</td>\n      <td>0.202467</td>\n    </tr>\n    <tr>\n      <th>same</th>\n      <td>5.147925</td>\n      <td>9.868163</td>\n      <td>13.350220</td>\n      <td>6.323971</td>\n      <td>8.017485</td>\n      <td>10.071638</td>\n      <td>8.559176</td>\n      <td>9.985436</td>\n      <td>12.399270</td>\n      <td>8.710634</td>\n      <td>...</td>\n      <td>1.868485</td>\n      <td>0.555051</td>\n      <td>2.258218</td>\n      <td>4.542683</td>\n      <td>0.463992</td>\n      <td>1.423379</td>\n      <td>2.961855</td>\n      <td>0.021866</td>\n      <td>0.107850</td>\n      <td>0.135602</td>\n    </tr>\n  </tbody>\n</table>\n<p>8 rows × 27 columns</p>\n</div>"
     },
     "execution_count": 196,
     "metadata": {},
     "output_type": "execute_result"
    }
   ],
   "source": [
    "dfagg = dfagg.swaplevel(axis=1).sort_index(axis=1)\n",
    "\n",
    "dfagg\n",
    "\n"
   ],
   "metadata": {
    "collapsed": false,
    "ExecuteTime": {
     "end_time": "2024-04-08T02:49:12.457737959Z",
     "start_time": "2024-04-08T02:49:12.443099451Z"
    }
   }
  },
  {
   "cell_type": "code",
   "execution_count": 191,
   "outputs": [],
   "source": [
    "dfagg_max = dfagg.max(axis=0)"
   ],
   "metadata": {
    "collapsed": false,
    "ExecuteTime": {
     "end_time": "2024-04-06T01:26:04.949522820Z",
     "start_time": "2024-04-06T01:26:04.947355962Z"
    }
   }
  },
  {
   "cell_type": "code",
   "execution_count": 192,
   "outputs": [],
   "source": [
    "\n",
    "def bold_formatter(x, val):\n",
    "    if round(x, 1) == round(val, 1):\n",
    "        return r\"\\bfseries \" + f\"{x:.1f}\"\n",
    "    return f\"{x:.1f}\"\n",
    "\n",
    "formatters = {\n",
    "    (c, d): partial(bold_formatter, val=dfagg_max.loc[c, d])\n",
    "    for c, d in dfagg.columns\n",
    "}"
   ],
   "metadata": {
    "collapsed": false,
    "ExecuteTime": {
     "end_time": "2024-04-06T01:26:05.770492667Z",
     "start_time": "2024-04-06T01:26:05.767276008Z"
    }
   }
  },
  {
   "cell_type": "code",
   "execution_count": 193,
   "outputs": [
    {
     "name": "stdout",
     "output_type": "stream",
     "text": [
      "\\begin{tabular}{llllrrrrrrrrrrrrrrrrrrrrrrrrrrr}\n",
      "\\toprule\n",
      " &  &  & stem & \\multicolumn{3}{r}{lead_female_singer} & \\multicolumn{3}{r}{lead_male_singer} & \\multicolumn{3}{r}{drums} & \\multicolumn{3}{r}{bass_guitar} & \\multicolumn{3}{r}{acoustic_guitar} & \\multicolumn{3}{r}{clean_electric_guitar} & \\multicolumn{3}{r}{distorted_electric_guitar} & \\multicolumn{3}{r}{grand_piano} & \\multicolumn{3}{r}{electric_piano} \\\\\n",
      " &  &  &  & q25 & q50 & q75 & q25 & q50 & q75 & q25 & q50 & q75 & q25 & q50 & q75 & q25 & q50 & q75 & q25 & q50 & q75 & q25 & q50 & q75 & q25 & q50 & q75 & q25 & q50 & q75 \\\\\n",
      "is_frozen & is_augmented & is_balanced & query_same &  &  &  &  &  &  &  &  &  &  &  &  &  &  &  &  &  &  &  &  &  &  &  &  &  &  &  \\\\\n",
      "\\midrule\n",
      "Y & N & N & diff. & 7.2 & 9.6 & 12.8 & 6.4 & 7.6 & 9.9 & 8.2 & 9.8 & 11.8 & 8.1 & 10.1 & 12.1 & 0.4 & 1.5 & 2.4 & 0.1 & 0.5 & 1.6 & 0.6 & 2.7 & 4.9 & -0.3 & 0.8 & 2.4 & 0.2 & 0.5 & 0.9 \\\\\n",
      " &  &  & same & \\bfseries 7.3 & 9.7 & 12.8 & 6.7 & 7.6 & 9.9 & 8.2 & 9.8 & 11.8 & 8.0 & 10.1 & 12.1 & 0.4 & 1.5 & 2.4 & 0.2 & 0.6 & 1.6 & 0.6 & 2.6 & 4.8 & -0.3 & 0.8 & 2.4 & 0.3 & 0.5 & 0.7 \\\\\n",
      " &  & Y & diff. & 7.0 & 9.4 & 12.2 & 6.5 & 7.4 & 9.8 & 8.1 & 9.6 & 11.5 & 7.9 & 10.2 & 11.9 & 0.3 & 1.5 & 2.5 & 0.1 & 0.5 & 1.7 & 0.5 & 2.7 & 4.9 & -0.2 & 1.0 & 2.2 & 0.1 & 0.5 & 0.8 \\\\\n",
      " &  &  & same & 6.9 & 9.5 & 12.3 & 6.7 & 7.4 & 9.8 & 8.1 & 9.6 & 11.5 & 7.7 & 10.3 & 11.9 & 0.3 & 1.5 & 2.5 & 0.1 & 0.5 & 1.8 & 0.5 & 2.7 & 4.9 & -0.2 & 0.9 & 2.2 & 0.3 & 0.5 & 0.9 \\\\\n",
      "N & N & N & diff. & 5.5 & 9.6 & 13.2 & 6.7 & \\bfseries 7.9 & 10.0 & 8.0 & 9.6 & 11.6 & 7.9 & 9.9 & 12.0 & 0.9 & \\bfseries 1.8 & 3.6 & 0.2 & 0.7 & 2.4 & 0.9 & 2.4 & 5.3 & 0.7 & 2.3 & 2.9 & 0.0 & 0.6 & 0.7 \\\\\n",
      " &  &  & same & 5.6 & 9.6 & 13.2 & 6.7 & \\bfseries 7.9 & 10.0 & 8.0 & 9.6 & 11.6 & 7.9 & 9.9 & 12.0 & 0.9 & \\bfseries 1.8 & 3.7 & 0.2 & 0.9 & 2.6 & 0.9 & 2.4 & 5.3 & 0.7 & 2.2 & 3.0 & 0.0 & 0.8 & 1.5 \\\\\n",
      " &  & Y & diff. & 6.1 & 9.6 & 13.1 & 6.8 & 7.7 & 9.7 & 7.8 & 9.3 & 11.3 & 7.6 & 10.0 & 11.5 & 0.8 & \\bfseries 1.8 & 3.6 & 0.2 & 0.8 & 2.5 & 1.0 & 2.5 & \\bfseries 5.4 & \\bfseries 0.8 & 2.5 & 3.1 & -0.1 & 0.7 & 0.8 \\\\\n",
      " &  &  & same & 6.1 & 9.6 & 13.1 & 6.8 & 7.7 & 9.7 & 7.8 & 9.3 & 11.3 & 7.6 & 10.0 & 11.5 & 0.8 & \\bfseries 1.8 & 3.7 & -0.0 & 0.9 & 2.7 & \\bfseries 1.2 & 2.5 & \\bfseries 5.4 & \\bfseries 0.8 & 2.5 & 3.1 & -0.6 & 0.8 & 1.8 \\\\\n",
      " & Y & N & diff. & 5.5 & \\bfseries 10.1 & 13.0 & \\bfseries 6.9 & \\bfseries 7.9 & \\bfseries 10.2 & \\bfseries 8.5 & \\bfseries 10.1 & \\bfseries 12.3 & \\bfseries 8.4 & \\bfseries 10.7 & \\bfseries 13.2 & \\bfseries 1.2 & 1.7 & 4.5 & 0.2 & 0.9 & \\bfseries 3.0 & 0.9 & 2.8 & 4.7 & \\bfseries 0.8 & \\bfseries 2.8 & \\bfseries 3.2 & 0.1 & 0.5 & 0.9 \\\\\n",
      " &  &  & same & 5.5 & \\bfseries 10.1 & 13.1 & \\bfseries 6.9 & \\bfseries 7.9 & \\bfseries 10.2 & \\bfseries 8.5 & \\bfseries 10.1 & \\bfseries 12.3 & \\bfseries 8.4 & \\bfseries 10.7 & \\bfseries 13.2 & \\bfseries 1.2 & 1.7 & \\bfseries 4.6 & 0.2 & \\bfseries 1.1 & 2.7 & 0.9 & 2.8 & 4.7 & \\bfseries 0.8 & 2.4 & 3.1 & -0.1 & 0.6 & 0.9 \\\\\n",
      " &  & Y & diff. & 5.5 & \\bfseries 10.1 & \\bfseries 13.5 & 6.5 & 7.8 & 10.0 & 8.3 & 9.5 & 11.8 & \\bfseries 8.4 & 10.3 & 12.1 & 1.1 & 1.7 & 3.9 & 0.0 & 0.4 & 2.7 & 0.9 & \\bfseries 3.0 & 4.9 & \\bfseries 0.8 & 2.6 & \\bfseries 3.2 & 0.2 & 0.5 & 0.9 \\\\\n",
      " &  &  & same & 5.5 & \\bfseries 10.1 & \\bfseries 13.5 & 6.5 & 7.8 & 10.0 & 8.3 & 9.5 & 11.8 & 7.8 & 10.3 & 12.1 & 1.0 & 1.7 & 3.9 & \\bfseries 0.3 & 0.6 & 2.7 & 0.6 & \\bfseries 3.0 & 4.8 & \\bfseries 0.8 & 2.5 & \\bfseries 3.2 & \\bfseries 0.6 & \\bfseries 0.9 & \\bfseries 2.1 \\\\\n",
      "\\bottomrule\n",
      "\\end{tabular}\n",
      "\n"
     ]
    }
   ],
   "source": [
    "str_ = dfagg.to_latex(\n",
    "    formatters=formatters,\n",
    "    sparsify=True,\n",
    "    multirow=False,\n",
    ")\n",
    "\n",
    "print(str_)"
   ],
   "metadata": {
    "collapsed": false,
    "ExecuteTime": {
     "end_time": "2024-04-06T01:26:08.716247171Z",
     "start_time": "2024-04-06T01:26:08.716050409Z"
    }
   }
  },
  {
   "cell_type": "code",
   "execution_count": null,
   "outputs": [],
   "source": [],
   "metadata": {
    "collapsed": false
   }
  }
 ],
 "metadata": {
  "kernelspec": {
   "display_name": "Python 3",
   "language": "python",
   "name": "python3"
  },
  "language_info": {
   "codemirror_mode": {
    "name": "ipython",
    "version": 2
   },
   "file_extension": ".py",
   "mimetype": "text/x-python",
   "name": "python",
   "nbconvert_exporter": "python",
   "pygments_lexer": "ipython2",
   "version": "2.7.6"
  }
 },
 "nbformat": 4,
 "nbformat_minor": 0
}
